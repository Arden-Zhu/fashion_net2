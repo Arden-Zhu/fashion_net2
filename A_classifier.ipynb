{
  "nbformat": 4,
  "nbformat_minor": 0,
  "metadata": {
    "colab": {
      "name": "A classifier.ipynb",
      "provenance": [],
      "collapsed_sections": [],
      "include_colab_link": true
    },
    "kernelspec": {
      "name": "python3",
      "display_name": "Python 3"
    },
    "accelerator": "GPU"
  },
  "cells": [
    {
      "cell_type": "markdown",
      "metadata": {
        "id": "view-in-github",
        "colab_type": "text"
      },
      "source": [
        "<a href=\"https://colab.research.google.com/github/Arden-Zhu/fashion_net2/blob/master/A_classifier.ipynb\" target=\"_parent\"><img src=\"https://colab.research.google.com/assets/colab-badge.svg\" alt=\"Open In Colab\"/></a>"
      ]
    },
    {
      "cell_type": "code",
      "metadata": {
        "id": "QlDfLWgrAorR",
        "colab_type": "code",
        "colab": {}
      },
      "source": [
        "%matplotlib inline\n",
        "%reload_ext autoreload\n",
        "%autoreload 1"
      ],
      "execution_count": 0,
      "outputs": []
    },
    {
      "cell_type": "code",
      "metadata": {
        "id": "QkG6SGKsA0Ts",
        "colab_type": "code",
        "colab": {}
      },
      "source": [
        "import os\n",
        "import time\n",
        "from typing import *\n",
        "import math\n",
        "from functools import partial\n",
        "import numpy as np\n",
        "import pandas as pd\n",
        "import matplotlib.pyplot as plt\n",
        "import torch\n",
        "import torchvision.transforms.functional as TF\n",
        "import torch.nn as nn\n",
        "import torch.optim as optim\n",
        "from torch.utils.data import Dataset, DataLoader\n",
        "from torchvision import transforms, models\n",
        "from PIL import Image\n",
        "from IPython.display import display \n"
      ],
      "execution_count": 0,
      "outputs": []
    },
    {
      "cell_type": "code",
      "metadata": {
        "id": "A9FDiSV0Bzky",
        "colab_type": "code",
        "outputId": "0449aac2-22b9-4c3b-e278-e539f9bcecf1",
        "colab": {
          "base_uri": "https://localhost:8080/",
          "height": 128
        }
      },
      "source": [
        "from google.colab import drive\n",
        "drive.mount('/content/gdrive', force_remount=True)\n",
        "my_drive_dir = \"/content/gdrive/My Drive/Machine Learning\""
      ],
      "execution_count": 0,
      "outputs": [
        {
          "output_type": "stream",
          "text": [
            "Go to this URL in a browser: https://accounts.google.com/o/oauth2/auth?client_id=947318989803-6bn6qk8qdgf4n4g3pfee6491hc0brc4i.apps.googleusercontent.com&redirect_uri=urn%3aietf%3awg%3aoauth%3a2.0%3aoob&response_type=code&scope=email%20https%3a%2f%2fwww.googleapis.com%2fauth%2fdocs.test%20https%3a%2f%2fwww.googleapis.com%2fauth%2fdrive%20https%3a%2f%2fwww.googleapis.com%2fauth%2fdrive.photos.readonly%20https%3a%2f%2fwww.googleapis.com%2fauth%2fpeopleapi.readonly\n",
            "\n",
            "Enter your authorization code:\n",
            "··········\n",
            "Mounted at /content/gdrive\n"
          ],
          "name": "stdout"
        }
      ]
    },
    {
      "cell_type": "markdown",
      "metadata": {
        "id": "8FO81CyAKL-c",
        "colab_type": "text"
      },
      "source": [
        "## Helper functions"
      ]
    },
    {
      "cell_type": "code",
      "metadata": {
        "id": "s6Cxrd84KOF5",
        "colab_type": "code",
        "colab": {}
      },
      "source": [
        "def is_listy(x:Any)->bool: return isinstance(x, (tuple,list))\n",
        "def is_tuple(x:Any)->bool: return isinstance(x, tuple)\n",
        "def is_dict(x:Any)->bool: return isinstance(x, dict)\n",
        "\n",
        "\n",
        "def listify(p, q=None):\n",
        "    \"Make `p` listy and the same length as `q`.\"\n",
        "    if p is None: p=[]\n",
        "    elif isinstance(p, str):          p = [p]\n",
        "    elif not isinstance(p, Iterable): p = [p]\n",
        "    #Rank 0 tensors in PyTorch are Iterable but don't have a length.\n",
        "    else:\n",
        "        try: a = len(p)\n",
        "        except: p = [p]\n",
        "    n = q if type(q)==int else len(p) if q is None else len(q)\n",
        "    if len(p)==1: p = p * n\n",
        "    assert len(p)==n, f'List len mismatch ({len(p)} vs {n})'\n",
        "    return list(p)\n"
      ],
      "execution_count": 0,
      "outputs": []
    },
    {
      "cell_type": "markdown",
      "metadata": {
        "id": "R-TiYxxrMnjr",
        "colab_type": "text"
      },
      "source": [
        "## prepare images"
      ]
    },
    {
      "cell_type": "code",
      "metadata": {
        "id": "84p9GG4gLghA",
        "colab_type": "code",
        "outputId": "45e6fd37-5776-4f66-eed3-3acfea2f00df",
        "colab": {
          "base_uri": "https://localhost:8080/"
        }
      },
      "source": [
        "since = time.time()\n",
        "data_source_dir = os.path.join(my_drive_dir, 'Datasets\\DeepFashion\\Category and Attribute Prediction Benchmark'.replace('\\\\', '/'))\n",
        "tar_file = os.path.join(data_source_dir, 'picked.tar')\n",
        "if not os.path.exists('data'):\n",
        "  os.mkdir('data')\n",
        "! tar xf \"{tar_file}\" -C data/\n",
        "print('%.3f' % (time.time() - since))"
      ],
      "execution_count": 0,
      "outputs": [
        {
          "output_type": "stream",
          "text": [
            "7.924\n"
          ],
          "name": "stdout"
        }
      ]
    },
    {
      "cell_type": "code",
      "metadata": {
        "id": "TOAbXRHFMyR1",
        "colab_type": "code",
        "outputId": "d95407bf-ab16-4ebc-ace7-73847a3f1131",
        "colab": {
          "base_uri": "https://localhost:8080/"
        }
      },
      "source": [
        "csv_file = os.path.join(data_source_dir, 'picked.csv')\n",
        "df = pd.read_csv(csv_file, index_col=0)\n",
        "df = df.loc[:, ['file', 'category_name', 'category_id']]\n",
        "df['file'] = df.apply(lambda m: m.file[4:], axis=1)\n",
        "df.head()"
      ],
      "execution_count": 0,
      "outputs": [
        {
          "output_type": "execute_result",
          "data": {
            "text/html": [
              "<div>\n",
              "<style scoped>\n",
              "    .dataframe tbody tr th:only-of-type {\n",
              "        vertical-align: middle;\n",
              "    }\n",
              "\n",
              "    .dataframe tbody tr th {\n",
              "        vertical-align: top;\n",
              "    }\n",
              "\n",
              "    .dataframe thead th {\n",
              "        text-align: right;\n",
              "    }\n",
              "</style>\n",
              "<table border=\"1\" class=\"dataframe\">\n",
              "  <thead>\n",
              "    <tr style=\"text-align: right;\">\n",
              "      <th></th>\n",
              "      <th>file</th>\n",
              "      <th>category_name</th>\n",
              "      <th>category_id</th>\n",
              "    </tr>\n",
              "  </thead>\n",
              "  <tbody>\n",
              "    <tr>\n",
              "      <th>23063</th>\n",
              "      <td>Kimono-Sleeved_Paisley_Blouse/img_00000121.jpg</td>\n",
              "      <td>Blouse</td>\n",
              "      <td>3</td>\n",
              "    </tr>\n",
              "    <tr>\n",
              "      <th>30780</th>\n",
              "      <td>Boxy_Chiffon_Pocket_Blouse/img_00000056.jpg</td>\n",
              "      <td>Blouse</td>\n",
              "      <td>3</td>\n",
              "    </tr>\n",
              "    <tr>\n",
              "      <th>13998</th>\n",
              "      <td>Crochet_Lace-Paneled_Blouse/img_00000035.jpg</td>\n",
              "      <td>Blouse</td>\n",
              "      <td>3</td>\n",
              "    </tr>\n",
              "    <tr>\n",
              "      <th>123023</th>\n",
              "      <td>New_York_City_Pocket_Tee/img_00000012.jpg</td>\n",
              "      <td>Tee</td>\n",
              "      <td>18</td>\n",
              "    </tr>\n",
              "    <tr>\n",
              "      <th>21889</th>\n",
              "      <td>Georgette_Tulip_Back_Blouse/img_00000029.jpg</td>\n",
              "      <td>Blouse</td>\n",
              "      <td>3</td>\n",
              "    </tr>\n",
              "  </tbody>\n",
              "</table>\n",
              "</div>"
            ],
            "text/plain": [
              "                                                  file  ... category_id\n",
              "23063   Kimono-Sleeved_Paisley_Blouse/img_00000121.jpg  ...           3\n",
              "30780      Boxy_Chiffon_Pocket_Blouse/img_00000056.jpg  ...           3\n",
              "13998     Crochet_Lace-Paneled_Blouse/img_00000035.jpg  ...           3\n",
              "123023       New_York_City_Pocket_Tee/img_00000012.jpg  ...          18\n",
              "21889     Georgette_Tulip_Back_Blouse/img_00000029.jpg  ...           3\n",
              "\n",
              "[5 rows x 3 columns]"
            ]
          },
          "metadata": {
            "tags": []
          },
          "execution_count": 6
        }
      ]
    },
    {
      "cell_type": "code",
      "metadata": {
        "id": "ZGRNynXrssHA",
        "colab_type": "code",
        "outputId": "9c2c4bb2-3d33-41e4-c727-36202e4a5b1b",
        "colab": {
          "base_uri": "https://localhost:8080/"
        }
      },
      "source": [
        "def pick(n_train, n_val, categories):\n",
        "  df_pick = pd.DataFrame(columns=['file', 'label', 'type'])\n",
        "\n",
        "  for cat in categories:\n",
        "    indexes = df.loc[df.category_name == cat].index.values\n",
        "    indexes = np.random.permutation(indexes)\n",
        "\n",
        "    # trainset\n",
        "    df_slice = df.loc[indexes[:n_train]].loc[:, ['file', 'category_name']]\n",
        "    df_slice.columns = ['file', 'label']\n",
        "    df_slice['type'] = 'train'\n",
        "\n",
        "    df_pick = pd.concat([df_pick, df_slice])\n",
        "    # valset\n",
        "    df_slice = df.loc[indexes[n_train:n_train + n_val]].loc[:, ['file', 'category_name']]\n",
        "    df_slice.columns = ['file', 'label']\n",
        "    df_slice['type'] = 'val'\n",
        "    df_pick = pd.concat([df_pick, df_slice])\n",
        "\n",
        "  return df_pick\n",
        "\n",
        "#############\n",
        "df_pick = pick(2, 1, ['Tee', 'Blouse', 'Top'])\n",
        "df_pick.head(10)\n"
      ],
      "execution_count": 0,
      "outputs": [
        {
          "output_type": "execute_result",
          "data": {
            "text/html": [
              "<div>\n",
              "<style scoped>\n",
              "    .dataframe tbody tr th:only-of-type {\n",
              "        vertical-align: middle;\n",
              "    }\n",
              "\n",
              "    .dataframe tbody tr th {\n",
              "        vertical-align: top;\n",
              "    }\n",
              "\n",
              "    .dataframe thead th {\n",
              "        text-align: right;\n",
              "    }\n",
              "</style>\n",
              "<table border=\"1\" class=\"dataframe\">\n",
              "  <thead>\n",
              "    <tr style=\"text-align: right;\">\n",
              "      <th></th>\n",
              "      <th>file</th>\n",
              "      <th>label</th>\n",
              "      <th>type</th>\n",
              "    </tr>\n",
              "  </thead>\n",
              "  <tbody>\n",
              "    <tr>\n",
              "      <th>70485</th>\n",
              "      <td>Coca-Cola_Muscle_Tee/img_00000040.jpg</td>\n",
              "      <td>Tee</td>\n",
              "      <td>train</td>\n",
              "    </tr>\n",
              "    <tr>\n",
              "      <th>57905</th>\n",
              "      <td>Well-Traveled_Muscle_Tee/img_00000015.jpg</td>\n",
              "      <td>Tee</td>\n",
              "      <td>train</td>\n",
              "    </tr>\n",
              "    <tr>\n",
              "      <th>121947</th>\n",
              "      <td>My_Commute_Muscle_Tee/img_00000006.jpg</td>\n",
              "      <td>Tee</td>\n",
              "      <td>val</td>\n",
              "    </tr>\n",
              "    <tr>\n",
              "      <th>3162</th>\n",
              "      <td>Striped_Twist-Front_Blouse/img_00000072.jpg</td>\n",
              "      <td>Blouse</td>\n",
              "      <td>train</td>\n",
              "    </tr>\n",
              "    <tr>\n",
              "      <th>13239</th>\n",
              "      <td>Abstract_Print_Zipper_Blouse/img_00000107.jpg</td>\n",
              "      <td>Blouse</td>\n",
              "      <td>train</td>\n",
              "    </tr>\n",
              "    <tr>\n",
              "      <th>196</th>\n",
              "      <td>Sheer_Woven_Blouse/img_00000048.jpg</td>\n",
              "      <td>Blouse</td>\n",
              "      <td>val</td>\n",
              "    </tr>\n",
              "    <tr>\n",
              "      <th>114309</th>\n",
              "      <td>Bejeweled_Slit-Sleeve_Top/img_00000015.jpg</td>\n",
              "      <td>Top</td>\n",
              "      <td>train</td>\n",
              "    </tr>\n",
              "    <tr>\n",
              "      <th>132511</th>\n",
              "      <td>Bow-Front_Ruffle_Top/img_00000010.jpg</td>\n",
              "      <td>Top</td>\n",
              "      <td>train</td>\n",
              "    </tr>\n",
              "    <tr>\n",
              "      <th>138435</th>\n",
              "      <td>Boxy_Knit_Top/img_00000010.jpg</td>\n",
              "      <td>Top</td>\n",
              "      <td>val</td>\n",
              "    </tr>\n",
              "  </tbody>\n",
              "</table>\n",
              "</div>"
            ],
            "text/plain": [
              "                                                 file   label   type\n",
              "70485           Coca-Cola_Muscle_Tee/img_00000040.jpg     Tee  train\n",
              "57905       Well-Traveled_Muscle_Tee/img_00000015.jpg     Tee  train\n",
              "121947         My_Commute_Muscle_Tee/img_00000006.jpg     Tee    val\n",
              "3162      Striped_Twist-Front_Blouse/img_00000072.jpg  Blouse  train\n",
              "13239   Abstract_Print_Zipper_Blouse/img_00000107.jpg  Blouse  train\n",
              "196               Sheer_Woven_Blouse/img_00000048.jpg  Blouse    val\n",
              "114309     Bejeweled_Slit-Sleeve_Top/img_00000015.jpg     Top  train\n",
              "132511          Bow-Front_Ruffle_Top/img_00000010.jpg     Top  train\n",
              "138435                 Boxy_Knit_Top/img_00000010.jpg     Top    val"
            ]
          },
          "metadata": {
            "tags": []
          },
          "execution_count": 7
        }
      ]
    },
    {
      "cell_type": "code",
      "metadata": {
        "id": "w1HchEygxnYb",
        "colab_type": "code",
        "colab": {}
      },
      "source": [
        "df_pick = pick(500, 200, ['Tee', 'Blouse', 'Top'])"
      ],
      "execution_count": 0,
      "outputs": []
    },
    {
      "cell_type": "markdown",
      "metadata": {
        "id": "7t5JDRDEB-pt",
        "colab_type": "text"
      },
      "source": [
        "## DataSource"
      ]
    },
    {
      "cell_type": "code",
      "metadata": {
        "id": "tg4kGk8YGh7J",
        "colab_type": "code",
        "outputId": "96e09c1a-bc83-4b19-8190-c8c383a25221",
        "colab": {
          "base_uri": "https://localhost:8080/"
        }
      },
      "source": [
        "imagenet_stats = ([0.485, 0.456, 0.406], [0.229, 0.224, 0.225])\n",
        "\n",
        "class ImageLabelDataset(Dataset):\n",
        "  '''\n",
        "  a dataset provides (image, label)\n",
        "  '''\n",
        "  def __init__(self, path:str, image_files, labels, transform=None, \n",
        "               normalize = imagenet_stats):\n",
        "    self.path = path\n",
        "    self.image_files = image_files\n",
        "    self.labels = labels\n",
        "    self.transform = transform\n",
        "    if normalize:\n",
        "      self.normalizer = transforms.Normalize(normalize[0], normalize[1])\n",
        "\n",
        "    assert(len(image_files) == len(labels))\n",
        "\n",
        "  def __len__(self):\n",
        "    return len(self.labels)\n",
        "  \n",
        "  def get(self, idx):\n",
        "    file = os.path.join(self.path, self.image_files[idx])\n",
        "    \n",
        "    #image = io.imread(file)\n",
        "    #image = Image.fromarray(image)\n",
        "    image = Image.open(file)\n",
        "    label = self.labels[idx]\n",
        "\n",
        "    if self.transform:\n",
        "      image = self.transform(image)\n",
        "\n",
        "    return (image, label)\n",
        "\n",
        "  def __getitem__(self, idx):\n",
        "    image, label = self.get(idx)\n",
        "\n",
        "    image = transforms.ToTensor()(image)\n",
        "\n",
        "    if self.normalizer:\n",
        "      image = self.normalizer(image)\n",
        "\n",
        "    return (image, label)\n",
        "\n",
        "##############################\n",
        "image_ds = ImageLabelDataset('data/data/picked', ['New_York_City_Pocket_Tee/img_00000012.jpg'], ['Tee'], transform =  transforms.Resize(224))\n",
        "assert(len(image_ds) == 1)\n",
        "\n",
        "(image, label) = image_ds.get(0)\n",
        "print(label)\n",
        "assert(label == 'Tee')    \n",
        "\n",
        "print(image.size)\n",
        "\n",
        "display(image)"
      ],
      "execution_count": 0,
      "outputs": [
        {
          "output_type": "stream",
          "text": [
            "Tee\n",
            "(224, 224)\n"
          ],
          "name": "stdout"
        },
        {
          "output_type": "display_data",
          "data": {
            "image/png": "[encoded data removed]",
            "text/plain": [
              "<PIL.Image.Image image mode=RGB size=224x224 at 0x7F4A68FC3CC0>"
            ]
          },
          "metadata": {
            "tags": []
          }
        }
      ]
    },
    {
      "cell_type": "code",
      "metadata": {
        "id": "eFP0iVWwCDtQ",
        "colab_type": "code",
        "outputId": "94dfcf87-c325-4b5a-be55-83416d4b5bdc",
        "colab": {
          "base_uri": "https://localhost:8080/"
        }
      },
      "source": [
        "class DataSource():\n",
        "  '''\n",
        "  train_dl\n",
        "  val_dl\n",
        "  train_ds\n",
        "  val_dl\n",
        "  '''\n",
        "  def __init__(self, path:str, df:pd.DataFrame, bs:int, transforms=None, \n",
        "               num_workers=0, normalize = imagenet_stats):\n",
        "      '''\n",
        "      path : path of images\n",
        "      df : DataFrame with file, label, type\n",
        "      '''\n",
        "      # convert labels to number\n",
        "      labels = np.sort(df['label'].unique())\n",
        "      self.class_names = np.sort(df['label'].unique())\n",
        "      self.class_indexes = {c:i for i, c in enumerate(self.class_names)}\n",
        "      self.c = len(self.class_names)\n",
        "      self.labels = [self.class_indexes[c] for c in labels]\n",
        "\n",
        "      # transforms\n",
        "      if not is_listy(transforms):\n",
        "        train_tfm, val_tfm = transforms, transforms\n",
        "      elif len(transforms) == 0:\n",
        "        train_tfm, val_tfm = None, None\n",
        "      elif len(transforms) == 1:\n",
        "        train_tfm, val_tfm = transforms[0], transforms[0]\n",
        "      else:\n",
        "        train_tfm, val_tfm = transforms[0], transforms[1]\n",
        "\n",
        "      # dataset\n",
        "      is_train = df.type == 'train'\n",
        "      self.train_ds = ImageLabelDataset(path, df[is_train]['file'].values, \n",
        "                                           [self.class_indexes[c] for c in df[is_train]['label'].values], \n",
        "                                           train_tfm, \n",
        "                                           normalize)\n",
        "      self.val_ds = ImageLabelDataset(path, df[~is_train]['file'].values, \n",
        "                                          [self.class_indexes[c] for c in df[~is_train]['label'].values], \n",
        "                                          val_tfm,\n",
        "                                          normalize\n",
        "                                       )\n",
        "\n",
        "      # dataloader\n",
        "      self.train_dl = DataLoader(self.train_ds, batch_size=bs, shuffle=True, \n",
        "                                 num_workers=num_workers)\n",
        "      \n",
        "      self.val_dl = DataLoader(self.val_ds, batch_size=bs, shuffle=False, \n",
        "                                 num_workers=num_workers)\n",
        "\n",
        "############################################################################\n",
        "df2 = df.head(3).copy()\n",
        "df2.columns=['file', 'type', 'label']\n",
        "df2['type'] = ['train', 'val', 'train']\n",
        "df2['label'] = ['a', 'b', 'c']\n",
        "print(df2.head())\n",
        "\n",
        "ds = DataSource('data/data/picked', df2, 1)\n",
        "assert(len(ds.train_ds) == 2)\n",
        "assert(len(ds.val_ds) == 1)\n",
        "assert(ds.c == 3)\n",
        "assert(ds.val_ds[0][1] == 1)\n",
        "assert(ds.class_names[ds.val_ds[0][1]] == 'b')\n",
        "\n",
        "for (image, label) in ds.val_dl:\n",
        "  print(type(image))\n",
        "  print(image.shape)\n",
        "  print(label)\n",
        "  print(image[0, 0, 0, :20])\n",
        "  break"
      ],
      "execution_count": 0,
      "outputs": [
        {
          "output_type": "stream",
          "text": [
            "                                                 file   type label\n",
            "23063  Kimono-Sleeved_Paisley_Blouse/img_00000121.jpg  train     a\n",
            "30780     Boxy_Chiffon_Pocket_Blouse/img_00000056.jpg    val     b\n",
            "13998    Crochet_Lace-Paneled_Blouse/img_00000035.jpg  train     c\n",
            "<class 'torch.Tensor'>\n",
            "torch.Size([1, 3, 300, 207])\n",
            "tensor([1])\n",
            "tensor([2.1633, 2.1633, 2.1462, 2.1462, 2.1290, 2.1290, 2.1119, 2.1119, 2.1290,\n",
            "        2.1290, 2.1290, 2.1119, 2.1119, 2.1119, 2.0948, 2.0948, 2.1119, 2.1119,\n",
            "        2.1119, 2.1119])\n"
          ],
          "name": "stdout"
        }
      ]
    },
    {
      "cell_type": "markdown",
      "metadata": {
        "id": "5FCO9CMcGqDv",
        "colab_type": "text"
      },
      "source": [
        "## Transformation"
      ]
    },
    {
      "cell_type": "code",
      "metadata": {
        "id": "drWqmHWYH5gt",
        "colab_type": "code",
        "colab": {}
      },
      "source": [
        "def padToSquare(img, **kwargs):\n",
        "    \"\"\"Pad the input PIL Image to a square\n",
        "\n",
        "    Args:\n",
        "        img (PIL Image): Image to be resized.\n",
        "\n",
        "    Returns:\n",
        "        PIL Image: Padding image.\n",
        "    \"\"\"\n",
        "    if not TF._is_pil_image(img):\n",
        "        raise TypeError('img should be PIL Image. Got {}'.format(type(img)))\n",
        "    \n",
        "    w, h = img.size\n",
        "    diff = w - h\n",
        "\n",
        "    if diff == 0:\n",
        "      return img\n",
        "    else:\n",
        "      if diff < 0:\n",
        "        padding = (-diff // 2, 0, diff // 2 - diff, 0)\n",
        "      else:\n",
        "        padding = (0, diff // 2, 0, diff - diff//2)\n",
        "\n",
        "      return TF.pad(img, padding, **kwargs)"
      ],
      "execution_count": 0,
      "outputs": []
    },
    {
      "cell_type": "code",
      "metadata": {
        "id": "2V5GjkSKICV5",
        "colab_type": "code",
        "colab": {}
      },
      "source": [
        "class PadToSquare():\n",
        "    \"\"\" Pad the input PIL Image to a square\n",
        "    \"\"\"\n",
        "    def __init__(self, **kwargs):\n",
        "      self.params = kwargs\n",
        "\n",
        "    def __call__(self, x):\n",
        "      return padToSquare(x, **self.params)\n"
      ],
      "execution_count": 0,
      "outputs": []
    },
    {
      "cell_type": "code",
      "metadata": {
        "id": "i9c7Gg2XU8m-",
        "colab_type": "code",
        "colab": {}
      },
      "source": [
        "def tensor2img(tensor, stats):\n",
        "  mean, std = stats\n",
        "  img = tensor.numpy().transpose([1, 2, 0])\n",
        "  img = img * std + mean\n",
        "  img = np.minimum(img, 1)\n",
        "  img = np.maximum(img, 0)\n",
        "  return img\n"
      ],
      "execution_count": 0,
      "outputs": []
    },
    {
      "cell_type": "code",
      "metadata": {
        "id": "7ImJXEFeHcFE",
        "colab_type": "code",
        "outputId": "417ad152-7778-4f30-aa16-ccde71993e8c",
        "colab": {
          "base_uri": "https://localhost:8080/"
        }
      },
      "source": [
        "df_pick = pick(200, 50, ['Tee', 'Blouse', 'Top'])\n",
        "tfms = [\n",
        "  transforms.Compose([\n",
        "    PadToSquare(padding_mode='reflect'),\n",
        "    transforms.Resize(256),\n",
        "    transforms.RandomCrop(224),\n",
        "  ]),\n",
        "  transforms.Compose([\n",
        "    PadToSquare(padding_mode='reflect'),\n",
        "    transforms.Resize(256),\n",
        "    transforms.CenterCrop(224),\n",
        "  ]),\n",
        "]\n",
        "\n",
        "ds = DataSource('data/data/picked', df_pick, 4, num_workers=4, transforms=tfms)\n",
        "\n",
        "images, labels = next(iter(ds.train_dl))\n",
        "\n",
        "images.shape\n",
        "\n",
        "img = tensor2img(images[0], imagenet_stats)\n",
        "plt.imshow(img)\n",
        "plt.show()"
      ],
      "execution_count": 0,
      "outputs": [
        {
          "output_type": "display_data",
          "data": {
            "image/png": "[encoded data removed]",
            "text/plain": [
              "<Figure size 432x288 with 1 Axes>"
            ]
          },
          "metadata": {
            "tags": []
          }
        }
      ]
    },
    {
      "cell_type": "markdown",
      "metadata": {
        "id": "OjCkpIsIV2rU",
        "colab_type": "text"
      },
      "source": [
        "## train"
      ]
    },
    {
      "cell_type": "code",
      "metadata": {
        "id": "GleY0VwzWIJW",
        "colab_type": "code",
        "outputId": "4f0265ca-72a5-416b-b5f2-29d8645d3c34",
        "colab": {
          "base_uri": "https://localhost:8080/",
          "height": 87
        }
      },
      "source": [
        "class Learn():\n",
        "\n",
        "  def __init__(self, ds:DataSource, net:nn.Module, crit, cbs = None, dev = None):\n",
        "    self.ds = ds\n",
        "    self.net = net\n",
        "    self.crit = crit\n",
        "    self.cbs = listify(cbs)\n",
        "    self.dev = dev if dev \\\n",
        "      else torch.device('cuda:0' if torch.cuda.is_available() else 'cpu')\n",
        "    self.net.to(self.dev)\n",
        "\n",
        "  def train(self, n_epoch, opt_func):\n",
        "    cbs = list(self.cbs)\n",
        "    opt = opt_func(self.net.parameters())\n",
        "    trn = self.Train(self, n_epoch, opt, cbs)\n",
        "    trn()\n",
        "    return trn\n",
        "\n",
        "\n",
        "  class Train():\n",
        "    def __init__(self, learn, n_epoch, opt, cbs):\n",
        "      self.ds = learn.ds\n",
        "      self.net = learn.net\n",
        "      self.crit = learn.crit\n",
        "      self.dev = learn.dev\n",
        "      self.n_epoch = n_epoch\n",
        "      self.opt = opt\n",
        "      self.cbs = cbs\n",
        "\n",
        "    def __call__(self):\n",
        "      self.is_terminate = False\n",
        "\n",
        "      self.train_begin()\n",
        "\n",
        "      for epoch in range(self.n_epoch):\n",
        "        self.epoch = epoch\n",
        "        self.epoch_begin()\n",
        "\n",
        "        self.train_phrase(True)\n",
        "\n",
        "        if (not self.is_terminate) and self.need_val():\n",
        "          self.train_phrase(False)\n",
        "\n",
        "        self.epoch_end()\n",
        "        if self.is_terminate: break\n",
        "\n",
        "      self.train_end()\n",
        "\n",
        "    def train_phrase(self, is_train):\n",
        "      self.is_train = is_train\n",
        "      self.phrase_begin()\n",
        "\n",
        "      self.net.train(is_train)\n",
        "\n",
        "      for X, y in (self.ds.train_dl if is_train else self.ds.val_dl):\n",
        "        self.train_batch(X, y)\n",
        "\n",
        "        if self.is_terminate: break\n",
        "\n",
        "      self.phrase_end()\n",
        "\n",
        "    def train_batch(self, X, y):\n",
        "      self.batch_begin()\n",
        "\n",
        "      X, y = X.to(self.dev), y.to(self.dev)\n",
        "\n",
        "      self.opt.zero_grad()\n",
        "      with torch.set_grad_enabled(self.is_train):\n",
        "        a = self.net.forward(X)\n",
        "        loss = self.crit(a, y)\n",
        "        if self.is_train:\n",
        "          loss.backward()\n",
        "          self.opt.step()\n",
        "\n",
        "      cnt = y.size(0)\n",
        "      loss = loss.item()\n",
        "      y_hat = torch.argmax(a, 1)\n",
        "      # correct = torch.sum(y_hat == y).item()\n",
        "\n",
        "      self.batch_end(cnt, loss, y_hat, y)\n",
        "\n",
        "    def train_begin(self):\n",
        "      for cb in self.cbs:\n",
        "        cb.on_train_begin(self)\n",
        "    \n",
        "    def train_end(self):\n",
        "      for cb in self.cbs:\n",
        "        cb.on_train_end(self)\n",
        "\n",
        "    def epoch_begin(self):\n",
        "      for cb in self.cbs:\n",
        "        cb.on_epoch_begin(self)\n",
        "    \n",
        "    def epoch_end(self):\n",
        "      for cb in self.cbs:\n",
        "        cb.on_epoch_end(self)\n",
        "\n",
        "    def phrase_begin(self):\n",
        "      for cb in self.cbs:\n",
        "        cb.on_phrase_begin(self)\n",
        "    \n",
        "    def phrase_end(self):\n",
        "      for cb in self.cbs:\n",
        "        cb.on_phrase_end(self)\n",
        "\n",
        "    def batch_begin(self):\n",
        "      for cb in self.cbs:\n",
        "        cb.on_batch_begin(self)\n",
        "    \n",
        "    def batch_end(self, cnt, loss, y_hat, y):\n",
        "      for cb in self.cbs:\n",
        "        cb.on_batch_end(self, cnt, loss, y_hat, y)\n",
        "\n",
        "    def need_val(self):\n",
        "      is_needed = True\n",
        "      for cb in self.cbs:\n",
        "        is_needed = is_needed and cb.need_val(self)\n",
        "      return is_needed\n",
        "\n",
        "    @property\n",
        "    def history(self):\n",
        "      return None\n",
        "\n",
        "\n",
        "class Callback():\n",
        "  def on_train_begin(self, train: Learn.Train):\n",
        "    pass\n",
        "  \n",
        "  def on_train_end(self, train: Learn.Train):\n",
        "    pass\n",
        "\n",
        "  def on_epoch_begin(self, train: Learn.Train):\n",
        "    pass\n",
        "\n",
        "  def on_epoch_end(self, train: Learn.Train):\n",
        "    pass\n",
        "\n",
        "  def on_batch_begin(self, train: Learn.Train):\n",
        "    pass\n",
        "\n",
        "  def on_batch_end(self, train: Learn.Train, cnt, loss, y_hat, y):\n",
        "    pass\n",
        "\n",
        "  def on_phrase_begin(self, train: Learn.Train):\n",
        "    pass\n",
        "\n",
        "  def on_phrase_end(self, train: Learn.Train):\n",
        "    pass\n",
        "\n",
        "  def need_val(self, train: Learn.Train):\n",
        "    return True\n",
        "\n",
        "class SimpleCallback(Callback):\n",
        "  def on_train_begin(self, train: Learn.Train):\n",
        "    self.train_start = time.time()\n",
        "        \n",
        "  def on_train_end(self, train: Learn.Train):\n",
        "    print('Train took %3.f s' % (time.time() - self.train_start))\n",
        "  \n",
        "  def on_epoch_begin(self, train: Learn.Train):\n",
        "    print('Epoch %d/%d' % (train.epoch + 1, train.n_epoch))\n",
        "\n",
        "  def on_phrase_begin(self, train: Learn.Train):\n",
        "    self.total_loss = 0.\n",
        "    self.cnt = 0.\n",
        "    self.correct = 0.\n",
        "    self.phrase_start = time.time()\n",
        "\n",
        "  def on_phrase_end(self, train: Learn.Train):\n",
        "    # print(self.total_loss, self.cnt, self.correct)\n",
        "    print('%3s: loss %.4f, accuracy %.4f, %3.f s' % \n",
        "          ('Train' if train.is_train else 'Validate',\n",
        "           self.total_loss/self.cnt, \n",
        "           self.correct/self.cnt,\n",
        "           time.time() - self.phrase_start))\n",
        "\n",
        "  def on_batch_end(self, train: Learn.Train, cnt, loss, y_hat, y):\n",
        "    self.total_loss += loss * cnt\n",
        "    self.cnt += cnt\n",
        "    self.correct += torch.sum(y_hat == y).item()\n",
        "\n",
        "###################################################\n",
        "df_pick = pick(128, 64, ['Tee', 'Blouse', 'Top'])\n",
        "tfmt1 = transforms.Compose([\n",
        "         PadToSquare(padding_mode='reflect'),\n",
        "         transforms.Resize(256),\n",
        "         transforms.RandomCrop(224)\n",
        "]);\n",
        "tfmt2 = transforms.Compose([\n",
        "         PadToSquare(padding_mode='reflect'),\n",
        "         transforms.Resize(256),\n",
        "         transforms.CenterCrop(224)\n",
        "]);\n",
        "\n",
        "tfmts = [ tfmt1, tfmt2 ]\n",
        "ds = DataSource('data/data/picked', df_pick, 32, tfmts, num_workers=4)\n",
        "\n",
        "net = models.resnet18(pretrained=True, progress=False)\n",
        "net.fc = nn.Linear(net.fc.in_features, ds.c)\n",
        "\n",
        "criterion = nn.CrossEntropyLoss()\n",
        "\n",
        "opt_func = partial(optim.SGD, lr=0.01, momentum=0.95)\n",
        "\n",
        "# sch = None # optim.lr_scheduler.StepLR(opt, step_size=7, gamma=0.1)\n",
        "\n",
        "learn = Learn(ds, net, criterion, cbs=SimpleCallback())\n",
        "train = learn.train(1, opt_func)\n"
      ],
      "execution_count": 46,
      "outputs": [
        {
          "output_type": "stream",
          "text": [
            "Epoch 1/1\n",
            "Train: loss 1.2761, accuracy 0.3880,   2 s\n",
            "Validate: loss 1.4915, accuracy 0.3750,   1 s\n",
            "Train took   2 s\n"
          ],
          "name": "stdout"
        }
      ]
    },
    {
      "cell_type": "code",
      "metadata": {
        "id": "3wfb7uf0eqiS",
        "colab_type": "code",
        "outputId": "d8b0a9ce-8b3f-47ea-8664-05e1e48b4fd0",
        "colab": {
          "base_uri": "https://localhost:8080/",
          "height": 351
        }
      },
      "source": [
        "class History():\n",
        "  def __init__(self):\n",
        "    self.epochs = []\n",
        "    self.trains = []\n",
        "    self.vals = []\n",
        "    self.batches = []\n",
        "\n",
        "  def __repr__(self)->str:\n",
        "    return f'The train took {round(self.train_end - self.train_start, 1)}\\n' \\\n",
        "      f'Epochs: {self.epochs}\\n' \\\n",
        "      f'Trains: {self.trains}\\n' \\\n",
        "      f'Validations: {self.vals}\\n' \\\n",
        "      f'Batches: {self.batches}'\n",
        "\n",
        "  class Epoch():\n",
        "    def __init__(self):\n",
        "      self.start = time.time()\n",
        "      self.end = math.nan\n",
        "\n",
        "    def __repr__(self)->str:\n",
        "      return f'{round(self.end - self.start, 1)}'\n",
        "  \n",
        "  class Phrase():\n",
        "    def __init__(self):\n",
        "      self.start = time.time()\n",
        "      self.end = math.nan\n",
        "      self.total_cnt = 0\n",
        "      self.total_loss = 0.\n",
        "      self.total_correct = 0.\n",
        "      self.loss = math.nan\n",
        "      self.accuracy = math.nan\n",
        "\n",
        "    def __repr__(self)->str:\n",
        "      return f'\\n{round(self.end - self.start, 1)}, {self.loss}, {self.accuracy}'\n",
        "\n",
        "  class Batch():\n",
        "    def __init__(self):\n",
        "      self.start = time.time()\n",
        "      self.end = math.nan\n",
        "      self.loss = math.nan\n",
        "      self.accuracy = math.nan\n",
        "\n",
        "    def __repr__(self)->str:\n",
        "      return f'{{{round(self.end - self.start, 1)}, {round(self.loss, 3)}, {round(self.accuracy, 3)},' \\\n",
        "        f'{round(self.lr, 3)}, {round(self.mom,3)}}}\\n'\n",
        "\n",
        "\n",
        "class Recorder(Callback):\n",
        "  def __init__(self):\n",
        "    self.history = History()\n",
        "\n",
        "  def on_train_begin(self, train: Learn.Train):\n",
        "    his = self.history\n",
        "    his.train_start = time.time()\n",
        "    his.train_end = math.nan\n",
        "    his.n_epoch = train.n_epoch\n",
        "  \n",
        "  def on_train_end(self, train: Learn.Train):\n",
        "    his = self.history\n",
        "    his.train_end = time.time()\n",
        "\n",
        "  def on_epoch_begin(self, train: Learn.Train):\n",
        "    his = self.history\n",
        "    his.epochs.append(History.Epoch())\n",
        "\n",
        "  def on_epoch_end(self, train: Learn.Train):\n",
        "    his = self.history\n",
        "    his.epochs[-1].end = time.time()\n",
        "\n",
        "  def on_phrase_begin(self, train: Learn.Train):\n",
        "    his = self.history\n",
        "    phrs = his.trains if train.is_train else his.vals\n",
        "    phrs.append(History.Phrase())\n",
        "\n",
        "  def on_phrase_end(self, train: Learn.Train):\n",
        "    his = self.history\n",
        "    phrs = his.trains if train.is_train else his.vals\n",
        "    phrs[-1].end = time.time()\n",
        "\n",
        "  def on_batch_begin(self, train: Learn.Train):\n",
        "    if not train.is_train:\n",
        "      return\n",
        "\n",
        "    his = self.history\n",
        "    batch = History.Batch()\n",
        "    pg = train.opt.param_groups[0]\n",
        "    batch.lr = pg['lr']\n",
        "    if 'momentum' in pg.keys():\n",
        "      batch.mom = pg['momentum']\n",
        "    else:\n",
        "      batch.mon, _ = pg['betas']\n",
        "    his.batches.append(batch)\n",
        "\n",
        "  def on_batch_end(self, train: Learn.Train, cnt, loss, y_hat, y):\n",
        "    his = self.history\n",
        "    phrs = his.trains if train.is_train else his.vals\n",
        "    phr = phrs[-1]\n",
        "\n",
        "    phr.total_cnt += cnt\n",
        "    phr.total_loss += loss\n",
        "    phr.total_correct += torch.sum(y_hat==y).item()\n",
        "    phr.loss = phr.total_loss / phr.total_cnt\n",
        "    phr.accuracy = phr.total_correct / phr.total_cnt\n",
        "\n",
        "    if train.is_train:\n",
        "      batch = his.batches[-1]\n",
        "      batch.end = time.time()\n",
        "      batch.loss = phr.loss\n",
        "      batch.accuracy = phr.accuracy\n",
        "\n",
        "###################################################\n",
        "df_pick = pick(128, 64, ['Tee', 'Blouse', 'Top'])\n",
        "tfmt1 = transforms.Compose([\n",
        "         PadToSquare(padding_mode='reflect'),\n",
        "         transforms.Resize(256),\n",
        "         transforms.RandomCrop(224)\n",
        "]);\n",
        "tfmt2 = transforms.Compose([\n",
        "         PadToSquare(padding_mode='reflect'),\n",
        "         transforms.Resize(256),\n",
        "         transforms.CenterCrop(224)\n",
        "]);\n",
        "\n",
        "tfmts = [ tfmt1, tfmt2 ]\n",
        "ds = DataSource('data/data/picked', df_pick, 32, tfmts, num_workers=4)\n",
        "\n",
        "net = models.resnet18(pretrained=True, progress=False)\n",
        "net.fc = nn.Linear(net.fc.in_features, ds.c)\n",
        "\n",
        "criterion = nn.CrossEntropyLoss()\n",
        "\n",
        "opt_func = partial(optim.SGD, lr=0.01, momentum=0.5)\n",
        "\n",
        "#opt_func = partial(optim.Adam, lr=0.001 )\n",
        "recorder = Recorder()\n",
        "\n",
        "learn = Learn(ds, net, criterion, cbs=recorder)\n",
        "train = learn.train(1, opt_func)\n",
        "# train.history\n",
        "recorder.history"
      ],
      "execution_count": 47,
      "outputs": [
        {
          "output_type": "execute_result",
          "data": {
            "text/plain": [
              "The train took 2.5\n",
              "Epochs: [2.5]\n",
              "Trains: [\n",
              "1.7, 0.036460615849743284, 0.3984375]\n",
              "Validations: [\n",
              "0.8, 0.0383994293709596, 0.421875]\n",
              "Batches: [{0.1, 0.036, 0.312,0.01, 0.5}\n",
              ", {0.1, 0.039, 0.266,0.01, 0.5}\n",
              ", {0.1, 0.042, 0.281,0.01, 0.5}\n",
              ", {0.1, 0.04, 0.289,0.01, 0.5}\n",
              ", {0.1, 0.039, 0.325,0.01, 0.5}\n",
              ", {0.1, 0.038, 0.354,0.01, 0.5}\n",
              ", {0.1, 0.038, 0.366,0.01, 0.5}\n",
              ", {0.1, 0.037, 0.375,0.01, 0.5}\n",
              ", {0.1, 0.038, 0.372,0.01, 0.5}\n",
              ", {0.1, 0.037, 0.375,0.01, 0.5}\n",
              ", {0.1, 0.037, 0.372,0.01, 0.5}\n",
              ", {0.1, 0.036, 0.398,0.01, 0.5}\n",
              "]"
            ]
          },
          "metadata": {
            "tags": []
          },
          "execution_count": 47
        }
      ]
    },
    {
      "cell_type": "code",
      "metadata": {
        "id": "6qqFN4L1VdiP",
        "colab_type": "code",
        "colab": {
          "base_uri": "https://localhost:8080/",
          "height": 351
        },
        "outputId": "2af41be7-fdf4-46b5-84ba-eb1501a2f2bc"
      },
      "source": [
        "class OneCycleCallback(Callback):\n",
        "  def __init__(self, **kwargs):\n",
        "    self.kwargs = kwargs\n",
        "\n",
        "  def on_train_begin(self, train:Learn.Train):\n",
        "    self.sch = optim.lr_scheduler.OneCycleLR(train.opt, **self.kwargs)\n",
        "  \n",
        "  def on_batch_end(self, train:Learn.Train, cnt, loss, y_hat, y):\n",
        "    self.sch.step()\n",
        "\n",
        "################################################################\n",
        "net = models.resnet18(pretrained=True, progress=False)\n",
        "net.fc = nn.Linear(net.fc.in_features, ds.c)\n",
        "\n",
        "criterion = nn.CrossEntropyLoss()\n",
        "\n",
        "opt_func = partial(optim.SGD, lr=0.01, momentum=0.5)\n",
        "\n",
        "#opt_func = partial(optim.Adam, lr=0.001 )\n",
        "recorder = Recorder()\n",
        "sch = OneCycleCallback(max_lr=0.01, total_steps=20)\n",
        "learn = Learn(ds, net, criterion, cbs=[recorder, sch])\n",
        "train = learn.train(1, opt_func)\n",
        "# train.history\n",
        "recorder.history"
      ],
      "execution_count": 48,
      "outputs": [
        {
          "output_type": "execute_result",
          "data": {
            "text/plain": [
              "The train took 2.5\n",
              "Epochs: [2.5]\n",
              "Trains: [\n",
              "1.7, 0.054584950829545655, 0.3671875]\n",
              "Validations: [\n",
              "0.8, 0.044103504779438175, 0.4583333333333333]\n",
              "Batches: [{0.1, 0.049, 0.281,0.0, 0.95}\n",
              ", {0.1, 0.045, 0.281,0.001, 0.94}\n",
              ", {0.1, 0.042, 0.323,0.004, 0.915}\n",
              ", {0.1, 0.041, 0.336,0.007, 0.885}\n",
              ", {0.1, 0.041, 0.356,0.009, 0.86}\n",
              ", {0.1, 0.047, 0.359,0.01, 0.85}\n",
              ", {0.1, 0.054, 0.348,0.01, 0.851}\n",
              ", {0.1, 0.051, 0.359,0.01, 0.855}\n",
              ", {0.1, 0.054, 0.351,0.009, 0.861}\n",
              ", {0.1, 0.058, 0.35,0.008, 0.869}\n",
              ", {0.1, 0.056, 0.366,0.007, 0.878}\n",
              ", {0.1, 0.055, 0.367,0.006, 0.889}\n",
              "]"
            ]
          },
          "metadata": {
            "tags": []
          },
          "execution_count": 48
        }
      ]
    },
    {
      "cell_type": "code",
      "metadata": {
        "id": "oEWVbhSirG0-",
        "colab_type": "code",
        "colab": {}
      },
      "source": [
        "\n"
      ],
      "execution_count": 0,
      "outputs": []
    }
  ]
}