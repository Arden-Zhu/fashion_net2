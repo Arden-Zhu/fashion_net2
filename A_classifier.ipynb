{
  "nbformat": 4,
  "nbformat_minor": 0,
  "metadata": {
    "colab": {
      "name": "A classifier.ipynb",
      "provenance": [],
      "collapsed_sections": [],
      "toc_visible": true,
      "include_colab_link": true
    },
    "kernelspec": {
      "name": "python3",
      "display_name": "Python 3"
    },
    "accelerator": "GPU"
  },
  "cells": [
    {
      "cell_type": "markdown",
      "metadata": {
        "id": "view-in-github",
        "colab_type": "text"
      },
      "source": [
        "<a href=\"https://colab.research.google.com/github/Arden-Zhu/fashion_net2/blob/master/A_classifier.ipynb\" target=\"_parent\"><img src=\"https://colab.research.google.com/assets/colab-badge.svg\" alt=\"Open In Colab\"/></a>"
      ]
    },
    {
      "cell_type": "code",
      "metadata": {
        "id": "QlDfLWgrAorR",
        "colab_type": "code",
        "colab": {}
      },
      "source": [
        "%matplotlib inline\n",
        "%reload_ext autoreload\n",
        "%autoreload 1"
      ],
      "execution_count": 0,
      "outputs": []
    },
    {
      "cell_type": "code",
      "metadata": {
        "id": "QkG6SGKsA0Ts",
        "colab_type": "code",
        "colab": {}
      },
      "source": [
        "import os\n",
        "import time\n",
        "import numpy as np\n",
        "import pandas as pd\n",
        "import matplotlib.pyplot as plt\n",
        "import torch\n",
        "import torchvision.transforms.functional as TF\n",
        "\n",
        "# from skimage import io\n",
        "from torch.utils.data import Dataset, DataLoader\n",
        "from torchvision import transforms\n",
        "from PIL import Image\n",
        "from IPython.display import display \n",
        "from typing import *\n",
        "\n",
        "\n"
      ],
      "execution_count": 0,
      "outputs": []
    },
    {
      "cell_type": "code",
      "metadata": {
        "id": "A9FDiSV0Bzky",
        "colab_type": "code",
        "outputId": "17764cbb-434b-4b87-bd5f-5d6d9410a6ca",
        "colab": {
          "base_uri": "https://localhost:8080/",
          "height": 122
        }
      },
      "source": [
        "from google.colab import drive\n",
        "drive.mount('/content/gdrive', force_remount=True)\n",
        "my_drive_dir = \"/content/gdrive/My Drive/Machine Learning\""
      ],
      "execution_count": 3,
      "outputs": [
        {
          "output_type": "stream",
          "text": [
            "Go to this URL in a browser: https://accounts.google.com/o/oauth2/auth?client_id=947318989803-6bn6qk8qdgf4n4g3pfee6491hc0brc4i.apps.googleusercontent.com&redirect_uri=urn%3aietf%3awg%3aoauth%3a2.0%3aoob&response_type=code&scope=email%20https%3a%2f%2fwww.googleapis.com%2fauth%2fdocs.test%20https%3a%2f%2fwww.googleapis.com%2fauth%2fdrive%20https%3a%2f%2fwww.googleapis.com%2fauth%2fdrive.photos.readonly%20https%3a%2f%2fwww.googleapis.com%2fauth%2fpeopleapi.readonly\n",
            "\n",
            "Enter your authorization code:\n",
            "··········\n",
            "Mounted at /content/gdrive\n"
          ],
          "name": "stdout"
        }
      ]
    },
    {
      "cell_type": "markdown",
      "metadata": {
        "id": "8FO81CyAKL-c",
        "colab_type": "text"
      },
      "source": [
        "## Helper functions"
      ]
    },
    {
      "cell_type": "code",
      "metadata": {
        "id": "s6Cxrd84KOF5",
        "colab_type": "code",
        "colab": {}
      },
      "source": [
        "def is_listy(x:Any)->bool: return isinstance(x, (tuple,list))\n",
        "def is_tuple(x:Any)->bool: return isinstance(x, tuple)\n",
        "def is_dict(x:Any)->bool: return isinstance(x, dict)\n"
      ],
      "execution_count": 0,
      "outputs": []
    },
    {
      "cell_type": "markdown",
      "metadata": {
        "id": "R-TiYxxrMnjr",
        "colab_type": "text"
      },
      "source": [
        "## prepare images"
      ]
    },
    {
      "cell_type": "code",
      "metadata": {
        "id": "84p9GG4gLghA",
        "colab_type": "code",
        "outputId": "db1a87da-53d7-483e-951a-d9667c82cd40",
        "colab": {
          "base_uri": "https://localhost:8080/",
          "height": 34
        }
      },
      "source": [
        "since = time.time()\n",
        "data_source_dir = os.path.join(my_drive_dir, 'Datasets\\DeepFashion\\Category and Attribute Prediction Benchmark'.replace('\\\\', '/'))\n",
        "tar_file = os.path.join(data_source_dir, 'picked.tar')\n",
        "if not os.path.exists('data'):\n",
        "  os.mkdir('data')\n",
        "! tar xf \"{tar_file}\" -C data/\n",
        "print('%.3f' % (time.time() - since))"
      ],
      "execution_count": 4,
      "outputs": [
        {
          "output_type": "stream",
          "text": [
            "10.061\n"
          ],
          "name": "stdout"
        }
      ]
    },
    {
      "cell_type": "code",
      "metadata": {
        "id": "TOAbXRHFMyR1",
        "colab_type": "code",
        "outputId": "a3a88c1c-c0aa-4ab2-f3db-848f22c3d5a6",
        "colab": {
          "base_uri": "https://localhost:8080/",
          "height": 204
        }
      },
      "source": [
        "csv_file = os.path.join(data_source_dir, 'picked.csv')\n",
        "df = pd.read_csv(csv_file, index_col=0)\n",
        "df = df.loc[:, ['file', 'category_name', 'category_id']]\n",
        "df['file'] = df.apply(lambda m: m.file[4:], axis=1)\n",
        "df.head()"
      ],
      "execution_count": 5,
      "outputs": [
        {
          "output_type": "execute_result",
          "data": {
            "text/html": [
              "<div>\n",
              "<style scoped>\n",
              "    .dataframe tbody tr th:only-of-type {\n",
              "        vertical-align: middle;\n",
              "    }\n",
              "\n",
              "    .dataframe tbody tr th {\n",
              "        vertical-align: top;\n",
              "    }\n",
              "\n",
              "    .dataframe thead th {\n",
              "        text-align: right;\n",
              "    }\n",
              "</style>\n",
              "<table border=\"1\" class=\"dataframe\">\n",
              "  <thead>\n",
              "    <tr style=\"text-align: right;\">\n",
              "      <th></th>\n",
              "      <th>file</th>\n",
              "      <th>category_name</th>\n",
              "      <th>category_id</th>\n",
              "    </tr>\n",
              "  </thead>\n",
              "  <tbody>\n",
              "    <tr>\n",
              "      <th>23063</th>\n",
              "      <td>Kimono-Sleeved_Paisley_Blouse/img_00000121.jpg</td>\n",
              "      <td>Blouse</td>\n",
              "      <td>3</td>\n",
              "    </tr>\n",
              "    <tr>\n",
              "      <th>30780</th>\n",
              "      <td>Boxy_Chiffon_Pocket_Blouse/img_00000056.jpg</td>\n",
              "      <td>Blouse</td>\n",
              "      <td>3</td>\n",
              "    </tr>\n",
              "    <tr>\n",
              "      <th>13998</th>\n",
              "      <td>Crochet_Lace-Paneled_Blouse/img_00000035.jpg</td>\n",
              "      <td>Blouse</td>\n",
              "      <td>3</td>\n",
              "    </tr>\n",
              "    <tr>\n",
              "      <th>123023</th>\n",
              "      <td>New_York_City_Pocket_Tee/img_00000012.jpg</td>\n",
              "      <td>Tee</td>\n",
              "      <td>18</td>\n",
              "    </tr>\n",
              "    <tr>\n",
              "      <th>21889</th>\n",
              "      <td>Georgette_Tulip_Back_Blouse/img_00000029.jpg</td>\n",
              "      <td>Blouse</td>\n",
              "      <td>3</td>\n",
              "    </tr>\n",
              "  </tbody>\n",
              "</table>\n",
              "</div>"
            ],
            "text/plain": [
              "                                                  file  ... category_id\n",
              "23063   Kimono-Sleeved_Paisley_Blouse/img_00000121.jpg  ...           3\n",
              "30780      Boxy_Chiffon_Pocket_Blouse/img_00000056.jpg  ...           3\n",
              "13998     Crochet_Lace-Paneled_Blouse/img_00000035.jpg  ...           3\n",
              "123023       New_York_City_Pocket_Tee/img_00000012.jpg  ...          18\n",
              "21889     Georgette_Tulip_Back_Blouse/img_00000029.jpg  ...           3\n",
              "\n",
              "[5 rows x 3 columns]"
            ]
          },
          "metadata": {
            "tags": []
          },
          "execution_count": 5
        }
      ]
    },
    {
      "cell_type": "code",
      "metadata": {
        "id": "ZGRNynXrssHA",
        "colab_type": "code",
        "outputId": "f3ff512c-74f8-46ab-d80a-5ce81a00d3ed",
        "colab": {
          "base_uri": "https://localhost:8080/",
          "height": 328
        }
      },
      "source": [
        "def pick(n_train, n_test, categories):\n",
        "  df_pick = pd.DataFrame(columns=['file', 'label', 'type'])\n",
        "\n",
        "  for cat in categories:\n",
        "    indexes = df.loc[df.category_name == cat].index.values\n",
        "    indexes = np.random.permutation(indexes)\n",
        "\n",
        "    # trainset\n",
        "    df_slice = df.loc[indexes[:n_train]].loc[:, ['file', 'category_name']]\n",
        "    df_slice.columns = ['file', 'label']\n",
        "    df_slice['type'] = 'train'\n",
        "\n",
        "    df_pick = pd.concat([df_pick, df_slice])\n",
        "    # testset\n",
        "    df_slice = df.loc[indexes[n_train:n_train + n_test]].loc[:, ['file', 'category_name']]\n",
        "    df_slice.columns = ['file', 'label']\n",
        "    df_slice['type'] = 'test'\n",
        "    df_pick = pd.concat([df_pick, df_slice])\n",
        "\n",
        "  return df_pick\n",
        "\n",
        "#############\n",
        "df_pick = pick(2, 1, ['Tee', 'Blouse', 'Top'])\n",
        "df_pick.head(10)\n"
      ],
      "execution_count": 6,
      "outputs": [
        {
          "output_type": "execute_result",
          "data": {
            "text/html": [
              "<div>\n",
              "<style scoped>\n",
              "    .dataframe tbody tr th:only-of-type {\n",
              "        vertical-align: middle;\n",
              "    }\n",
              "\n",
              "    .dataframe tbody tr th {\n",
              "        vertical-align: top;\n",
              "    }\n",
              "\n",
              "    .dataframe thead th {\n",
              "        text-align: right;\n",
              "    }\n",
              "</style>\n",
              "<table border=\"1\" class=\"dataframe\">\n",
              "  <thead>\n",
              "    <tr style=\"text-align: right;\">\n",
              "      <th></th>\n",
              "      <th>file</th>\n",
              "      <th>label</th>\n",
              "      <th>type</th>\n",
              "    </tr>\n",
              "  </thead>\n",
              "  <tbody>\n",
              "    <tr>\n",
              "      <th>51381</th>\n",
              "      <td>But_Not_Really_Muscle_Tee/img_00000014.jpg</td>\n",
              "      <td>Tee</td>\n",
              "      <td>train</td>\n",
              "    </tr>\n",
              "    <tr>\n",
              "      <th>93938</th>\n",
              "      <td>Bad_Influence_Tee/img_00000057.jpg</td>\n",
              "      <td>Tee</td>\n",
              "      <td>train</td>\n",
              "    </tr>\n",
              "    <tr>\n",
              "      <th>133184</th>\n",
              "      <td>Retro_Graphic_Tee/img_00000058.jpg</td>\n",
              "      <td>Tee</td>\n",
              "      <td>test</td>\n",
              "    </tr>\n",
              "    <tr>\n",
              "      <th>15754</th>\n",
              "      <td>Diamond_Print_Chiffon_Blouse/img_00000050.jpg</td>\n",
              "      <td>Blouse</td>\n",
              "      <td>train</td>\n",
              "    </tr>\n",
              "    <tr>\n",
              "      <th>7629</th>\n",
              "      <td>Buttoned_Pocket_Blouse/img_00000082.jpg</td>\n",
              "      <td>Blouse</td>\n",
              "      <td>train</td>\n",
              "    </tr>\n",
              "    <tr>\n",
              "      <th>31813</th>\n",
              "      <td>Ruffled_Rose_Blouse/img_00000078.jpg</td>\n",
              "      <td>Blouse</td>\n",
              "      <td>test</td>\n",
              "    </tr>\n",
              "    <tr>\n",
              "      <th>62333</th>\n",
              "      <td>Cap-Sleeved_Boxy_Top/img_00000008.jpg</td>\n",
              "      <td>Top</td>\n",
              "      <td>train</td>\n",
              "    </tr>\n",
              "    <tr>\n",
              "      <th>136294</th>\n",
              "      <td>Boxy_Embroidered_Top/img_00000025.jpg</td>\n",
              "      <td>Top</td>\n",
              "      <td>train</td>\n",
              "    </tr>\n",
              "    <tr>\n",
              "      <th>34490</th>\n",
              "      <td>Boxy_Polka_Dot_Top/img_00000023.jpg</td>\n",
              "      <td>Top</td>\n",
              "      <td>test</td>\n",
              "    </tr>\n",
              "  </tbody>\n",
              "</table>\n",
              "</div>"
            ],
            "text/plain": [
              "                                                 file   label   type\n",
              "51381      But_Not_Really_Muscle_Tee/img_00000014.jpg     Tee  train\n",
              "93938              Bad_Influence_Tee/img_00000057.jpg     Tee  train\n",
              "133184             Retro_Graphic_Tee/img_00000058.jpg     Tee   test\n",
              "15754   Diamond_Print_Chiffon_Blouse/img_00000050.jpg  Blouse  train\n",
              "7629          Buttoned_Pocket_Blouse/img_00000082.jpg  Blouse  train\n",
              "31813            Ruffled_Rose_Blouse/img_00000078.jpg  Blouse   test\n",
              "62333           Cap-Sleeved_Boxy_Top/img_00000008.jpg     Top  train\n",
              "136294          Boxy_Embroidered_Top/img_00000025.jpg     Top  train\n",
              "34490             Boxy_Polka_Dot_Top/img_00000023.jpg     Top   test"
            ]
          },
          "metadata": {
            "tags": []
          },
          "execution_count": 6
        }
      ]
    },
    {
      "cell_type": "code",
      "metadata": {
        "id": "w1HchEygxnYb",
        "colab_type": "code",
        "colab": {}
      },
      "source": [
        "df_pick = pick(500, 200, ['Tee', 'Blouse', 'Top'])"
      ],
      "execution_count": 0,
      "outputs": []
    },
    {
      "cell_type": "markdown",
      "metadata": {
        "id": "7t5JDRDEB-pt",
        "colab_type": "text"
      },
      "source": [
        "## load data"
      ]
    },
    {
      "cell_type": "code",
      "metadata": {
        "id": "tg4kGk8YGh7J",
        "colab_type": "code",
        "outputId": "ba10ccae-0c61-4c1d-c284-7c369a5d97b7",
        "colab": {
          "base_uri": "https://localhost:8080/",
          "height": 275
        }
      },
      "source": [
        "imagenet_stats = ([0.485, 0.456, 0.406], [0.229, 0.224, 0.225])\n",
        "\n",
        "class ImageLabelDataset(Dataset):\n",
        "  '''\n",
        "  a dataset provides (image, label)\n",
        "  '''\n",
        "  def __init__(self, path:str, image_files, labels, transform=None, \n",
        "               normalize = imagenet_stats):\n",
        "    self.path = path\n",
        "    self.image_files = image_files\n",
        "    self.labels = labels\n",
        "    self.transform = transform\n",
        "    if normalize:\n",
        "      self.normalizer = transforms.Normalize(normalize[0], normalize[1])\n",
        "\n",
        "    assert(len(image_files) == len(labels))\n",
        "\n",
        "  def __len__(self):\n",
        "    return len(self.labels)\n",
        "  \n",
        "  def get(self, idx):\n",
        "    file = os.path.join(self.path, self.image_files[idx])\n",
        "    \n",
        "    #image = io.imread(file)\n",
        "    #image = Image.fromarray(image)\n",
        "    image = Image.open(file)\n",
        "    label = self.labels[idx]\n",
        "\n",
        "    if self.transform:\n",
        "      image = self.transform(image)\n",
        "\n",
        "    return (image, label)\n",
        "\n",
        "  def __getitem__(self, idx):\n",
        "    image, label = self.get(idx)\n",
        "\n",
        "    image = transforms.ToTensor()(image)\n",
        "\n",
        "    if self.normalizer:\n",
        "      image = self.normalizer(image)\n",
        "\n",
        "    return (image, label)\n",
        "\n",
        "##############################\n",
        "image_ds = ImageLabelDataset('data/data/picked', ['New_York_City_Pocket_Tee/img_00000012.jpg'], ['Tee'], transform =  transforms.Resize(224))\n",
        "assert(len(image_ds) == 1)\n",
        "\n",
        "(image, label) = image_ds.get(0)\n",
        "print(label)\n",
        "assert(label == 'Tee')    \n",
        "\n",
        "print(image.size)\n",
        "\n",
        "display(image)"
      ],
      "execution_count": 36,
      "outputs": [
        {
          "output_type": "stream",
          "text": [
            "Tee\n",
            "(224, 224)\n"
          ],
          "name": "stdout"
        },
        {
          "output_type": "display_data",
          "data": {
            "image/png": "[encoded data removed]",
            "text/plain": [
              "<PIL.Image.Image image mode=RGB size=224x224 at 0x7FD56663D978>"
            ]
          },
          "metadata": {
            "tags": []
          }
        }
      ]
    },
    {
      "cell_type": "code",
      "metadata": {
        "id": "eFP0iVWwCDtQ",
        "colab_type": "code",
        "outputId": "ed611379-97b1-45fa-8003-cc9668643063",
        "colab": {
          "base_uri": "https://localhost:8080/",
          "height": 187
        }
      },
      "source": [
        "class DataSource():\n",
        "  '''\n",
        "  train_dl\n",
        "  test_dl\n",
        "  train_ds\n",
        "  test_dl\n",
        "  '''\n",
        "  def __init__(self, path:str, df:pd.DataFrame, bs:int, transforms=None, \n",
        "               num_workers=0, normalize = imagenet_stats):\n",
        "      '''\n",
        "      path : path of images\n",
        "      df : DataFrame with file, label, type\n",
        "      '''\n",
        "      # convert labels to number\n",
        "      labels = np.sort(df['label'].unique())\n",
        "      self.class_names = np.sort(df['label'].unique())\n",
        "      self.class_indexes = {c:i for i, c in enumerate(self.class_names)}\n",
        "      self.c = len(self.class_names)\n",
        "      self.labels = [self.class_indexes[c] for c in labels]\n",
        "\n",
        "      # transforms\n",
        "      if not is_listy(transforms):\n",
        "        train_tfm, test_tfm = transforms, transforms\n",
        "      elif len(transforms) == 0:\n",
        "        train_tfm, test_tfm = None, None\n",
        "      elif len(transforms) == 1:\n",
        "        train_tfm, test_tfm = transforms[0], transforms[0]\n",
        "      else:\n",
        "        train_tfm, test_tfm = transforms[0], transforms[1]\n",
        "\n",
        "      # dataset\n",
        "      is_train = df.type == 'train'\n",
        "      self.train_ds = ImageLabelDataset(path, df[is_train]['file'].values, \n",
        "                                           [self.class_indexes[c] for c in df[is_train]['label'].values], \n",
        "                                           train_tfm, \n",
        "                                           normalize)\n",
        "      self.test_ds = ImageLabelDataset(path, df[~is_train]['file'].values, \n",
        "                                          [self.class_indexes[c] for c in df[~is_train]['label'].values], \n",
        "                                          test_tfm,\n",
        "                                          normalize\n",
        "                                       )\n",
        "\n",
        "      # dataloader\n",
        "      self.train_dl = DataLoader(self.train_ds, batch_size=bs, shuffle=True, \n",
        "                                 num_workers=num_workers)\n",
        "      \n",
        "      self.test_dl = DataLoader(self.test_ds, batch_size=bs, shuffle=False, \n",
        "                                 num_workers=num_workers)\n",
        "\n",
        "############################################################################\n",
        "df2 = df.head(3).copy()\n",
        "df2.columns=['file', 'type', 'label']\n",
        "df2['type'] = ['train', 'test', 'train']\n",
        "df2['label'] = ['a', 'b', 'c']\n",
        "print(df2.head())\n",
        "\n",
        "ds = DataSource('data/data/picked', df2, 1)\n",
        "assert(len(ds.train_ds) == 2)\n",
        "assert(len(ds.test_ds) == 1)\n",
        "assert(ds.c == 3)\n",
        "assert(ds.test_ds[0][1] == 1)\n",
        "assert(ds.class_names[ds.test_ds[0][1]] == 'b')\n",
        "\n",
        "for (image, label) in ds.test_dl:\n",
        "  print(type(image))\n",
        "  print(image.shape)\n",
        "  print(label)\n",
        "  print(image[0, 0, 0, :20])\n",
        "  break"
      ],
      "execution_count": 37,
      "outputs": [
        {
          "output_type": "stream",
          "text": [
            "                                                 file   type label\n",
            "23063  Kimono-Sleeved_Paisley_Blouse/img_00000121.jpg  train     a\n",
            "30780     Boxy_Chiffon_Pocket_Blouse/img_00000056.jpg   test     b\n",
            "13998    Crochet_Lace-Paneled_Blouse/img_00000035.jpg  train     c\n",
            "<class 'torch.Tensor'>\n",
            "torch.Size([1, 3, 300, 207])\n",
            "tensor([1])\n",
            "tensor([2.1633, 2.1633, 2.1462, 2.1462, 2.1290, 2.1290, 2.1119, 2.1119, 2.1290,\n",
            "        2.1290, 2.1290, 2.1119, 2.1119, 2.1119, 2.0948, 2.0948, 2.1119, 2.1119,\n",
            "        2.1119, 2.1119])\n"
          ],
          "name": "stdout"
        }
      ]
    },
    {
      "cell_type": "markdown",
      "metadata": {
        "id": "5FCO9CMcGqDv",
        "colab_type": "text"
      },
      "source": [
        "## Transformation"
      ]
    },
    {
      "cell_type": "code",
      "metadata": {
        "id": "drWqmHWYH5gt",
        "colab_type": "code",
        "colab": {}
      },
      "source": [
        "def padToSquare(img, **kwargs):\n",
        "    \"\"\"Pad the input PIL Image to a square\n",
        "\n",
        "    Args:\n",
        "        img (PIL Image): Image to be resized.\n",
        "\n",
        "    Returns:\n",
        "        PIL Image: Padding image.\n",
        "    \"\"\"\n",
        "    if not TF._is_pil_image(img):\n",
        "        raise TypeError('img should be PIL Image. Got {}'.format(type(img)))\n",
        "    \n",
        "    w, h = img.size\n",
        "    diff = w - h\n",
        "\n",
        "    if diff == 0:\n",
        "      return img\n",
        "    else:\n",
        "      if diff < 0:\n",
        "        padding = (-diff // 2, 0, diff // 2 - diff, 0)\n",
        "      else:\n",
        "        padding = (0, diff // 2, 0, diff - diff//2)\n",
        "\n",
        "      return TF.pad(img, padding, **kwargs)"
      ],
      "execution_count": 0,
      "outputs": []
    },
    {
      "cell_type": "code",
      "metadata": {
        "id": "2V5GjkSKICV5",
        "colab_type": "code",
        "colab": {}
      },
      "source": [
        "class PadToSquare():\n",
        "    \"\"\" Pad the input PIL Image to a square\n",
        "    \"\"\"\n",
        "    def __init__(self, **kwargs):\n",
        "      self.params = kwargs\n",
        "\n",
        "    def __call__(self, x):\n",
        "      return padToSquare(x, **self.params)\n"
      ],
      "execution_count": 0,
      "outputs": []
    },
    {
      "cell_type": "code",
      "metadata": {
        "id": "i9c7Gg2XU8m-",
        "colab_type": "code",
        "colab": {}
      },
      "source": [
        "def tensor2img(tensor, stats):\n",
        "  mean, std = stats\n",
        "  img = tensor.numpy().transpose([1, 2, 0])\n",
        "  img = img * std + mean\n",
        "  img = np.minimum(img, 1)\n",
        "  img = np.maximum(img, 0)\n",
        "  return img\n"
      ],
      "execution_count": 0,
      "outputs": []
    },
    {
      "cell_type": "code",
      "metadata": {
        "id": "7ImJXEFeHcFE",
        "colab_type": "code",
        "colab": {
          "base_uri": "https://localhost:8080/",
          "height": 269
        },
        "outputId": "439e9366-ec69-4f59-f0a7-e3c98c660ebc"
      },
      "source": [
        "df_pick = pick(200, 50, ['Tee', 'Blouse', 'Top'])\n",
        "tfms = [\n",
        "  transforms.Compose([\n",
        "    PadToSquare(padding_mode='reflect'),\n",
        "    transforms.Resize(256),\n",
        "    transforms.RandomCrop(224),\n",
        "  ]),\n",
        "  transforms.Compose([\n",
        "    PadToSquare(padding_mode='reflect'),\n",
        "    transforms.Resize(256),\n",
        "    transforms.CenterCrop(224),\n",
        "  ]),\n",
        "]\n",
        "\n",
        "ds = DataSource('data/data/picked', df_pick, 4, num_workers=4, transforms=tfms)\n",
        "\n",
        "images, labels = next(iter(ds.train_dl))\n",
        "\n",
        "images.shape\n",
        "\n",
        "img = tensor2img(images[0], imagenet_stats)\n",
        "plt.imshow(img)\n",
        "plt.show()"
      ],
      "execution_count": 63,
      "outputs": [
        {
          "output_type": "display_data",
          "data": {
            "image/png": "[encoded data removed]",
            "text/plain": [
              "<Figure size 432x288 with 1 Axes>"
            ]
          },
          "metadata": {
            "tags": []
          }
        }
      ]
    }
  ]
}