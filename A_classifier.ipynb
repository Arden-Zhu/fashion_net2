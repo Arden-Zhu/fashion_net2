{
  "nbformat": 4,
  "nbformat_minor": 0,
  "metadata": {
    "colab": {
      "name": "A classifier.ipynb",
      "provenance": [],
      "collapsed_sections": [],
      "include_colab_link": true
    },
    "kernelspec": {
      "name": "python3",
      "display_name": "Python 3"
    },
    "accelerator": "GPU"
  },
  "cells": [
    {
      "cell_type": "markdown",
      "metadata": {
        "id": "view-in-github",
        "colab_type": "text"
      },
      "source": [
        "<a href=\"https://colab.research.google.com/github/Arden-Zhu/fashion_net2/blob/master/A_classifier.ipynb\" target=\"_parent\"><img src=\"https://colab.research.google.com/assets/colab-badge.svg\" alt=\"Open In Colab\"/></a>"
      ]
    },
    {
      "cell_type": "code",
      "metadata": {
        "id": "QlDfLWgrAorR",
        "colab_type": "code",
        "colab": {}
      },
      "source": [
        "%matplotlib inline\n",
        "%reload_ext autoreload\n",
        "%autoreload 1"
      ],
      "execution_count": 0,
      "outputs": []
    },
    {
      "cell_type": "code",
      "metadata": {
        "id": "QkG6SGKsA0Ts",
        "colab_type": "code",
        "colab": {}
      },
      "source": [
        "import os\n",
        "import time\n",
        "from typing import *\n",
        "import math\n",
        "import numpy as np\n",
        "import pandas as pd\n",
        "import matplotlib.pyplot as plt\n",
        "import torch\n",
        "import torchvision.transforms.functional as TF\n",
        "import torch.nn as nn\n",
        "import torch.optim as optim\n",
        "from torch.utils.data import Dataset, DataLoader\n",
        "from torchvision import transforms, models\n",
        "from PIL import Image\n",
        "from IPython.display import display \n"
      ],
      "execution_count": 0,
      "outputs": []
    },
    {
      "cell_type": "code",
      "metadata": {
        "id": "A9FDiSV0Bzky",
        "colab_type": "code",
        "outputId": "56f12f22-da12-4736-8061-c6ad1d6ed4b6",
        "colab": {
          "base_uri": "https://localhost:8080/",
          "height": 34
        }
      },
      "source": [
        "from google.colab import drive\n",
        "drive.mount('/content/gdrive', force_remount=True)\n",
        "my_drive_dir = \"/content/gdrive/My Drive/Machine Learning\""
      ],
      "execution_count": 0,
      "outputs": [
        {
          "output_type": "stream",
          "text": [
            "Mounted at /content/gdrive\n"
          ],
          "name": "stdout"
        }
      ]
    },
    {
      "cell_type": "markdown",
      "metadata": {
        "id": "8FO81CyAKL-c",
        "colab_type": "text"
      },
      "source": [
        "## Helper functions"
      ]
    },
    {
      "cell_type": "code",
      "metadata": {
        "id": "s6Cxrd84KOF5",
        "colab_type": "code",
        "colab": {}
      },
      "source": [
        "def is_listy(x:Any)->bool: return isinstance(x, (tuple,list))\n",
        "def is_tuple(x:Any)->bool: return isinstance(x, tuple)\n",
        "def is_dict(x:Any)->bool: return isinstance(x, dict)\n"
      ],
      "execution_count": 0,
      "outputs": []
    },
    {
      "cell_type": "markdown",
      "metadata": {
        "id": "R-TiYxxrMnjr",
        "colab_type": "text"
      },
      "source": [
        "## prepare images"
      ]
    },
    {
      "cell_type": "code",
      "metadata": {
        "id": "84p9GG4gLghA",
        "colab_type": "code",
        "outputId": "26f84f7f-750b-4e2a-8b74-4cfe877f8ac6",
        "colab": {
          "base_uri": "https://localhost:8080/",
          "height": 34
        }
      },
      "source": [
        "since = time.time()\n",
        "data_source_dir = os.path.join(my_drive_dir, 'Datasets\\DeepFashion\\Category and Attribute Prediction Benchmark'.replace('\\\\', '/'))\n",
        "tar_file = os.path.join(data_source_dir, 'picked.tar')\n",
        "if not os.path.exists('data'):\n",
        "  os.mkdir('data')\n",
        "! tar xf \"{tar_file}\" -C data/\n",
        "print('%.3f' % (time.time() - since))"
      ],
      "execution_count": 0,
      "outputs": [
        {
          "output_type": "stream",
          "text": [
            "5.946\n"
          ],
          "name": "stdout"
        }
      ]
    },
    {
      "cell_type": "code",
      "metadata": {
        "id": "TOAbXRHFMyR1",
        "colab_type": "code",
        "outputId": "7f7b43b4-94f4-42ea-b64e-249fe4ccab39",
        "colab": {
          "base_uri": "https://localhost:8080/",
          "height": 204
        }
      },
      "source": [
        "csv_file = os.path.join(data_source_dir, 'picked.csv')\n",
        "df = pd.read_csv(csv_file, index_col=0)\n",
        "df = df.loc[:, ['file', 'category_name', 'category_id']]\n",
        "df['file'] = df.apply(lambda m: m.file[4:], axis=1)\n",
        "df.head()"
      ],
      "execution_count": 0,
      "outputs": [
        {
          "output_type": "execute_result",
          "data": {
            "text/html": [
              "<div>\n",
              "<style scoped>\n",
              "    .dataframe tbody tr th:only-of-type {\n",
              "        vertical-align: middle;\n",
              "    }\n",
              "\n",
              "    .dataframe tbody tr th {\n",
              "        vertical-align: top;\n",
              "    }\n",
              "\n",
              "    .dataframe thead th {\n",
              "        text-align: right;\n",
              "    }\n",
              "</style>\n",
              "<table border=\"1\" class=\"dataframe\">\n",
              "  <thead>\n",
              "    <tr style=\"text-align: right;\">\n",
              "      <th></th>\n",
              "      <th>file</th>\n",
              "      <th>category_name</th>\n",
              "      <th>category_id</th>\n",
              "    </tr>\n",
              "  </thead>\n",
              "  <tbody>\n",
              "    <tr>\n",
              "      <th>23063</th>\n",
              "      <td>Kimono-Sleeved_Paisley_Blouse/img_00000121.jpg</td>\n",
              "      <td>Blouse</td>\n",
              "      <td>3</td>\n",
              "    </tr>\n",
              "    <tr>\n",
              "      <th>30780</th>\n",
              "      <td>Boxy_Chiffon_Pocket_Blouse/img_00000056.jpg</td>\n",
              "      <td>Blouse</td>\n",
              "      <td>3</td>\n",
              "    </tr>\n",
              "    <tr>\n",
              "      <th>13998</th>\n",
              "      <td>Crochet_Lace-Paneled_Blouse/img_00000035.jpg</td>\n",
              "      <td>Blouse</td>\n",
              "      <td>3</td>\n",
              "    </tr>\n",
              "    <tr>\n",
              "      <th>123023</th>\n",
              "      <td>New_York_City_Pocket_Tee/img_00000012.jpg</td>\n",
              "      <td>Tee</td>\n",
              "      <td>18</td>\n",
              "    </tr>\n",
              "    <tr>\n",
              "      <th>21889</th>\n",
              "      <td>Georgette_Tulip_Back_Blouse/img_00000029.jpg</td>\n",
              "      <td>Blouse</td>\n",
              "      <td>3</td>\n",
              "    </tr>\n",
              "  </tbody>\n",
              "</table>\n",
              "</div>"
            ],
            "text/plain": [
              "                                                  file  ... category_id\n",
              "23063   Kimono-Sleeved_Paisley_Blouse/img_00000121.jpg  ...           3\n",
              "30780      Boxy_Chiffon_Pocket_Blouse/img_00000056.jpg  ...           3\n",
              "13998     Crochet_Lace-Paneled_Blouse/img_00000035.jpg  ...           3\n",
              "123023       New_York_City_Pocket_Tee/img_00000012.jpg  ...          18\n",
              "21889     Georgette_Tulip_Back_Blouse/img_00000029.jpg  ...           3\n",
              "\n",
              "[5 rows x 3 columns]"
            ]
          },
          "metadata": {
            "tags": []
          },
          "execution_count": 6
        }
      ]
    },
    {
      "cell_type": "code",
      "metadata": {
        "id": "ZGRNynXrssHA",
        "colab_type": "code",
        "outputId": "6c33d207-12a6-4ff1-e61d-ddfb77dd1a78",
        "colab": {
          "base_uri": "https://localhost:8080/",
          "height": 328
        }
      },
      "source": [
        "def pick(n_train, n_val, categories):\n",
        "  df_pick = pd.DataFrame(columns=['file', 'label', 'type'])\n",
        "\n",
        "  for cat in categories:\n",
        "    indexes = df.loc[df.category_name == cat].index.values\n",
        "    indexes = np.random.permutation(indexes)\n",
        "\n",
        "    # trainset\n",
        "    df_slice = df.loc[indexes[:n_train]].loc[:, ['file', 'category_name']]\n",
        "    df_slice.columns = ['file', 'label']\n",
        "    df_slice['type'] = 'train'\n",
        "\n",
        "    df_pick = pd.concat([df_pick, df_slice])\n",
        "    # valset\n",
        "    df_slice = df.loc[indexes[n_train:n_train + n_val]].loc[:, ['file', 'category_name']]\n",
        "    df_slice.columns = ['file', 'label']\n",
        "    df_slice['type'] = 'val'\n",
        "    df_pick = pd.concat([df_pick, df_slice])\n",
        "\n",
        "  return df_pick\n",
        "\n",
        "#############\n",
        "df_pick = pick(2, 1, ['Tee', 'Blouse', 'Top'])\n",
        "df_pick.head(10)\n"
      ],
      "execution_count": 0,
      "outputs": [
        {
          "output_type": "execute_result",
          "data": {
            "text/html": [
              "<div>\n",
              "<style scoped>\n",
              "    .dataframe tbody tr th:only-of-type {\n",
              "        vertical-align: middle;\n",
              "    }\n",
              "\n",
              "    .dataframe tbody tr th {\n",
              "        vertical-align: top;\n",
              "    }\n",
              "\n",
              "    .dataframe thead th {\n",
              "        text-align: right;\n",
              "    }\n",
              "</style>\n",
              "<table border=\"1\" class=\"dataframe\">\n",
              "  <thead>\n",
              "    <tr style=\"text-align: right;\">\n",
              "      <th></th>\n",
              "      <th>file</th>\n",
              "      <th>label</th>\n",
              "      <th>type</th>\n",
              "    </tr>\n",
              "  </thead>\n",
              "  <tbody>\n",
              "    <tr>\n",
              "      <th>39758</th>\n",
              "      <td>Boxy_Winged_Tee/img_00000009.jpg</td>\n",
              "      <td>Tee</td>\n",
              "      <td>train</td>\n",
              "    </tr>\n",
              "    <tr>\n",
              "      <th>43962</th>\n",
              "      <td>Striped_Longline_Baseball_Tee/img_00000020.jpg</td>\n",
              "      <td>Tee</td>\n",
              "      <td>train</td>\n",
              "    </tr>\n",
              "    <tr>\n",
              "      <th>56005</th>\n",
              "      <td>Varsity-Striped_18_Tee/img_00000017.jpg</td>\n",
              "      <td>Tee</td>\n",
              "      <td>val</td>\n",
              "    </tr>\n",
              "    <tr>\n",
              "      <th>3039</th>\n",
              "      <td>Striped_Tribal_Print_Blouse/img_00000081.jpg</td>\n",
              "      <td>Blouse</td>\n",
              "      <td>train</td>\n",
              "    </tr>\n",
              "    <tr>\n",
              "      <th>23196</th>\n",
              "      <td>Beaded_Chiffon_Blouse/img_00000010.jpg</td>\n",
              "      <td>Blouse</td>\n",
              "      <td>train</td>\n",
              "    </tr>\n",
              "    <tr>\n",
              "      <th>3037</th>\n",
              "      <td>Striped_Tribal_Print_Blouse/img_00000079.jpg</td>\n",
              "      <td>Blouse</td>\n",
              "      <td>val</td>\n",
              "    </tr>\n",
              "    <tr>\n",
              "      <th>33264</th>\n",
              "      <td>Boxy_Palm_Print_Top/img_00000032.jpg</td>\n",
              "      <td>Top</td>\n",
              "      <td>train</td>\n",
              "    </tr>\n",
              "    <tr>\n",
              "      <th>61964</th>\n",
              "      <td>Cami_Peplum_Top/img_00000044.jpg</td>\n",
              "      <td>Top</td>\n",
              "      <td>train</td>\n",
              "    </tr>\n",
              "    <tr>\n",
              "      <th>70839</th>\n",
              "      <td>Collared_Woven_Top/img_00000017.jpg</td>\n",
              "      <td>Top</td>\n",
              "      <td>val</td>\n",
              "    </tr>\n",
              "  </tbody>\n",
              "</table>\n",
              "</div>"
            ],
            "text/plain": [
              "                                                 file   label   type\n",
              "39758                Boxy_Winged_Tee/img_00000009.jpg     Tee  train\n",
              "43962  Striped_Longline_Baseball_Tee/img_00000020.jpg     Tee  train\n",
              "56005         Varsity-Striped_18_Tee/img_00000017.jpg     Tee    val\n",
              "3039     Striped_Tribal_Print_Blouse/img_00000081.jpg  Blouse  train\n",
              "23196          Beaded_Chiffon_Blouse/img_00000010.jpg  Blouse  train\n",
              "3037     Striped_Tribal_Print_Blouse/img_00000079.jpg  Blouse    val\n",
              "33264            Boxy_Palm_Print_Top/img_00000032.jpg     Top  train\n",
              "61964                Cami_Peplum_Top/img_00000044.jpg     Top  train\n",
              "70839             Collared_Woven_Top/img_00000017.jpg     Top    val"
            ]
          },
          "metadata": {
            "tags": []
          },
          "execution_count": 7
        }
      ]
    },
    {
      "cell_type": "code",
      "metadata": {
        "id": "w1HchEygxnYb",
        "colab_type": "code",
        "colab": {}
      },
      "source": [
        "df_pick = pick(500, 200, ['Tee', 'Blouse', 'Top'])"
      ],
      "execution_count": 0,
      "outputs": []
    },
    {
      "cell_type": "markdown",
      "metadata": {
        "id": "7t5JDRDEB-pt",
        "colab_type": "text"
      },
      "source": [
        "## DataSource"
      ]
    },
    {
      "cell_type": "code",
      "metadata": {
        "id": "tg4kGk8YGh7J",
        "colab_type": "code",
        "outputId": "8d62b52d-b8bb-4164-953f-9b3fb1edbbf0",
        "colab": {
          "base_uri": "https://localhost:8080/",
          "height": 275
        }
      },
      "source": [
        "imagenet_stats = ([0.485, 0.456, 0.406], [0.229, 0.224, 0.225])\n",
        "\n",
        "class ImageLabelDataset(Dataset):\n",
        "  '''\n",
        "  a dataset provides (image, label)\n",
        "  '''\n",
        "  def __init__(self, path:str, image_files, labels, transform=None, \n",
        "               normalize = imagenet_stats):\n",
        "    self.path = path\n",
        "    self.image_files = image_files\n",
        "    self.labels = labels\n",
        "    self.transform = transform\n",
        "    if normalize:\n",
        "      self.normalizer = transforms.Normalize(normalize[0], normalize[1])\n",
        "\n",
        "    assert(len(image_files) == len(labels))\n",
        "\n",
        "  def __len__(self):\n",
        "    return len(self.labels)\n",
        "  \n",
        "  def get(self, idx):\n",
        "    file = os.path.join(self.path, self.image_files[idx])\n",
        "    \n",
        "    #image = io.imread(file)\n",
        "    #image = Image.fromarray(image)\n",
        "    image = Image.open(file)\n",
        "    label = self.labels[idx]\n",
        "\n",
        "    if self.transform:\n",
        "      image = self.transform(image)\n",
        "\n",
        "    return (image, label)\n",
        "\n",
        "  def __getitem__(self, idx):\n",
        "    image, label = self.get(idx)\n",
        "\n",
        "    image = transforms.ToTensor()(image)\n",
        "\n",
        "    if self.normalizer:\n",
        "      image = self.normalizer(image)\n",
        "\n",
        "    return (image, label)\n",
        "\n",
        "##############################\n",
        "image_ds = ImageLabelDataset('data/data/picked', ['New_York_City_Pocket_Tee/img_00000012.jpg'], ['Tee'], transform =  transforms.Resize(224))\n",
        "assert(len(image_ds) == 1)\n",
        "\n",
        "(image, label) = image_ds.get(0)\n",
        "print(label)\n",
        "assert(label == 'Tee')    \n",
        "\n",
        "print(image.size)\n",
        "\n",
        "display(image)"
      ],
      "execution_count": 0,
      "outputs": [
        {
          "output_type": "stream",
          "text": [
            "Tee\n",
            "(224, 224)\n"
          ],
          "name": "stdout"
        },
        {
          "output_type": "display_data",
          "data": {
            "image/png": "[encoded data removed]",
            "text/plain": [
              "<PIL.Image.Image image mode=RGB size=224x224 at 0x7F114634FCC0>"
            ]
          },
          "metadata": {
            "tags": []
          }
        }
      ]
    },
    {
      "cell_type": "code",
      "metadata": {
        "id": "eFP0iVWwCDtQ",
        "colab_type": "code",
        "outputId": "49c26391-6016-4aec-9383-7e9dc9ea194c",
        "colab": {
          "base_uri": "https://localhost:8080/",
          "height": 187
        }
      },
      "source": [
        "class DataSource():\n",
        "  '''\n",
        "  train_dl\n",
        "  val_dl\n",
        "  train_ds\n",
        "  val_dl\n",
        "  '''\n",
        "  def __init__(self, path:str, df:pd.DataFrame, bs:int, transforms=None, \n",
        "               num_workers=0, normalize = imagenet_stats):\n",
        "      '''\n",
        "      path : path of images\n",
        "      df : DataFrame with file, label, type\n",
        "      '''\n",
        "      # convert labels to number\n",
        "      labels = np.sort(df['label'].unique())\n",
        "      self.class_names = np.sort(df['label'].unique())\n",
        "      self.class_indexes = {c:i for i, c in enumerate(self.class_names)}\n",
        "      self.c = len(self.class_names)\n",
        "      self.labels = [self.class_indexes[c] for c in labels]\n",
        "\n",
        "      # transforms\n",
        "      if not is_listy(transforms):\n",
        "        train_tfm, val_tfm = transforms, transforms\n",
        "      elif len(transforms) == 0:\n",
        "        train_tfm, val_tfm = None, None\n",
        "      elif len(transforms) == 1:\n",
        "        train_tfm, val_tfm = transforms[0], transforms[0]\n",
        "      else:\n",
        "        train_tfm, val_tfm = transforms[0], transforms[1]\n",
        "\n",
        "      # dataset\n",
        "      is_train = df.type == 'train'\n",
        "      self.train_ds = ImageLabelDataset(path, df[is_train]['file'].values, \n",
        "                                           [self.class_indexes[c] for c in df[is_train]['label'].values], \n",
        "                                           train_tfm, \n",
        "                                           normalize)\n",
        "      self.val_ds = ImageLabelDataset(path, df[~is_train]['file'].values, \n",
        "                                          [self.class_indexes[c] for c in df[~is_train]['label'].values], \n",
        "                                          val_tfm,\n",
        "                                          normalize\n",
        "                                       )\n",
        "\n",
        "      # dataloader\n",
        "      self.train_dl = DataLoader(self.train_ds, batch_size=bs, shuffle=True, \n",
        "                                 num_workers=num_workers)\n",
        "      \n",
        "      self.val_dl = DataLoader(self.val_ds, batch_size=bs, shuffle=False, \n",
        "                                 num_workers=num_workers)\n",
        "\n",
        "############################################################################\n",
        "df2 = df.head(3).copy()\n",
        "df2.columns=['file', 'type', 'label']\n",
        "df2['type'] = ['train', 'val', 'train']\n",
        "df2['label'] = ['a', 'b', 'c']\n",
        "print(df2.head())\n",
        "\n",
        "ds = DataSource('data/data/picked', df2, 1)\n",
        "assert(len(ds.train_ds) == 2)\n",
        "assert(len(ds.val_ds) == 1)\n",
        "assert(ds.c == 3)\n",
        "assert(ds.val_ds[0][1] == 1)\n",
        "assert(ds.class_names[ds.val_ds[0][1]] == 'b')\n",
        "\n",
        "for (image, label) in ds.val_dl:\n",
        "  print(type(image))\n",
        "  print(image.shape)\n",
        "  print(label)\n",
        "  print(image[0, 0, 0, :20])\n",
        "  break"
      ],
      "execution_count": 0,
      "outputs": [
        {
          "output_type": "stream",
          "text": [
            "                                                 file   type label\n",
            "23063  Kimono-Sleeved_Paisley_Blouse/img_00000121.jpg  train     a\n",
            "30780     Boxy_Chiffon_Pocket_Blouse/img_00000056.jpg    val     b\n",
            "13998    Crochet_Lace-Paneled_Blouse/img_00000035.jpg  train     c\n",
            "<class 'torch.Tensor'>\n",
            "torch.Size([1, 3, 300, 207])\n",
            "tensor([1])\n",
            "tensor([2.1633, 2.1633, 2.1462, 2.1462, 2.1290, 2.1290, 2.1119, 2.1119, 2.1290,\n",
            "        2.1290, 2.1290, 2.1119, 2.1119, 2.1119, 2.0948, 2.0948, 2.1119, 2.1119,\n",
            "        2.1119, 2.1119])\n"
          ],
          "name": "stdout"
        }
      ]
    },
    {
      "cell_type": "markdown",
      "metadata": {
        "id": "5FCO9CMcGqDv",
        "colab_type": "text"
      },
      "source": [
        "## Transformation"
      ]
    },
    {
      "cell_type": "code",
      "metadata": {
        "id": "drWqmHWYH5gt",
        "colab_type": "code",
        "colab": {}
      },
      "source": [
        "def padToSquare(img, **kwargs):\n",
        "    \"\"\"Pad the input PIL Image to a square\n",
        "\n",
        "    Args:\n",
        "        img (PIL Image): Image to be resized.\n",
        "\n",
        "    Returns:\n",
        "        PIL Image: Padding image.\n",
        "    \"\"\"\n",
        "    if not TF._is_pil_image(img):\n",
        "        raise TypeError('img should be PIL Image. Got {}'.format(type(img)))\n",
        "    \n",
        "    w, h = img.size\n",
        "    diff = w - h\n",
        "\n",
        "    if diff == 0:\n",
        "      return img\n",
        "    else:\n",
        "      if diff < 0:\n",
        "        padding = (-diff // 2, 0, diff // 2 - diff, 0)\n",
        "      else:\n",
        "        padding = (0, diff // 2, 0, diff - diff//2)\n",
        "\n",
        "      return TF.pad(img, padding, **kwargs)"
      ],
      "execution_count": 0,
      "outputs": []
    },
    {
      "cell_type": "code",
      "metadata": {
        "id": "2V5GjkSKICV5",
        "colab_type": "code",
        "colab": {}
      },
      "source": [
        "class PadToSquare():\n",
        "    \"\"\" Pad the input PIL Image to a square\n",
        "    \"\"\"\n",
        "    def __init__(self, **kwargs):\n",
        "      self.params = kwargs\n",
        "\n",
        "    def __call__(self, x):\n",
        "      return padToSquare(x, **self.params)\n"
      ],
      "execution_count": 0,
      "outputs": []
    },
    {
      "cell_type": "code",
      "metadata": {
        "id": "i9c7Gg2XU8m-",
        "colab_type": "code",
        "colab": {}
      },
      "source": [
        "def tensor2img(tensor, stats):\n",
        "  mean, std = stats\n",
        "  img = tensor.numpy().transpose([1, 2, 0])\n",
        "  img = img * std + mean\n",
        "  img = np.minimum(img, 1)\n",
        "  img = np.maximum(img, 0)\n",
        "  return img\n"
      ],
      "execution_count": 0,
      "outputs": []
    },
    {
      "cell_type": "code",
      "metadata": {
        "id": "7ImJXEFeHcFE",
        "colab_type": "code",
        "outputId": "fd1f03dd-df62-4493-f580-ea78aacdb75a",
        "colab": {
          "base_uri": "https://localhost:8080/",
          "height": 269
        }
      },
      "source": [
        "df_pick = pick(200, 50, ['Tee', 'Blouse', 'Top'])\n",
        "tfms = [\n",
        "  transforms.Compose([\n",
        "    PadToSquare(padding_mode='reflect'),\n",
        "    transforms.Resize(256),\n",
        "    transforms.RandomCrop(224),\n",
        "  ]),\n",
        "  transforms.Compose([\n",
        "    PadToSquare(padding_mode='reflect'),\n",
        "    transforms.Resize(256),\n",
        "    transforms.CenterCrop(224),\n",
        "  ]),\n",
        "]\n",
        "\n",
        "ds = DataSource('data/data/picked', df_pick, 4, num_workers=4, transforms=tfms)\n",
        "\n",
        "images, labels = next(iter(ds.train_dl))\n",
        "\n",
        "images.shape\n",
        "\n",
        "img = tensor2img(images[0], imagenet_stats)\n",
        "plt.imshow(img)\n",
        "plt.show()"
      ],
      "execution_count": 0,
      "outputs": [
        {
          "output_type": "display_data",
          "data": {
            "image/png": "[encoded data removed]",
            "text/plain": [
              "<Figure size 432x288 with 1 Axes>"
            ]
          },
          "metadata": {
            "tags": []
          }
        }
      ]
    },
    {
      "cell_type": "markdown",
      "metadata": {
        "id": "OjCkpIsIV2rU",
        "colab_type": "text"
      },
      "source": [
        "## train"
      ]
    },
    {
      "cell_type": "code",
      "metadata": {
        "id": "lfLBirV1TWNm",
        "colab_type": "code",
        "colab": {}
      },
      "source": [
        "class Classback:\n",
        "  def on_train_begin():\n",
        "    pass\n",
        "  \n",
        "  def on_train_end():\n",
        "    pass\n",
        "\n",
        "  def on_epoch_begin(epoch:int):\n",
        "    pass\n",
        "\n",
        "  def on_epoch_end(loss, accuracy):\n",
        "    pass\n",
        "\n",
        "  def on_batch_begin():\n",
        "    pass\n",
        "\n",
        "  def on_batch_end():\n",
        "    pass\n",
        "\n",
        "  def on_phrase_begin():\n",
        "    pass\n",
        "\n",
        "  def on_phrase_end():\n",
        "    pass\n",
        "\n",
        "  def need_val(epoch):\n",
        "    return True"
      ],
      "execution_count": 0,
      "outputs": []
    },
    {
      "cell_type": "code",
      "metadata": {
        "id": "GleY0VwzWIJW",
        "colab_type": "code",
        "outputId": "d0ba1a6d-b4a1-458a-d57c-b2c82fca6e83",
        "colab": {
          "base_uri": "https://localhost:8080/",
          "height": 131
        }
      },
      "source": [
        "class Learn():\n",
        "  def __init__(self, ds:DataSource, net:nn.Module, crit, cbs):\n",
        "    self.ds = ds\n",
        "    self.net = net\n",
        "    self.crit = crit\n",
        "    self.cbs = cbs\n",
        "    self.dev = torch.device('cuda:0' if torch.cuda.is_available() else 'cpu')\n",
        "\n",
        "  def train_batch(self, X, y, is_train, opt):\n",
        "      self.batch_start(is_train)\n",
        "\n",
        "      X, y = X.to(dev), y.to(dev)\n",
        "      dev, net, crit = self.dev, self.net, self.crit\n",
        "\n",
        "      opt.zero_grad()\n",
        "      with torch.set_grad_enabled(is_train):\n",
        "        a = net.forward(X)\n",
        "        loss = crit(a, y)\n",
        "        if is_train:\n",
        "          loss.backward()\n",
        "          opt.step()\n",
        "\n",
        "      cnt += y.size(0)\n",
        "      total_loss += loss.item() * cnt\n",
        "      y_hat = torch.argmax(a, 1)\n",
        "      correct += torch.sum(y_hat == y).item()\n",
        "\n",
        "      is_terminate = self.batch_end(is_train, opt, cnt, total_loss, correct)\n",
        "\n",
        "  def train_phrase(self, is_train, opt):\n",
        "    total_loss, cnt, correct = 0, 0, 0\n",
        "    dev, net, crit = self.dev, self.net, self.crit\n",
        "    is_terminate = False\n",
        "\n",
        "    self.phrase_begin(is_train)\n",
        "\n",
        "    net.train(is_train)\n",
        "\n",
        "    for X, y in (ds.train_dl if is_train else ds.val_dl):\n",
        "\n",
        "      if is_terminate: break\n",
        "\n",
        "    avg_loss = total_loss/cnt if cnt > 0 else math.nan\n",
        "    accuracy = correct/cnt if cnt > 0 else math.nan\n",
        "    is_terminate = self.phrase_end(is_train, avg_loss, accuracy) or is_terminate\n",
        "\n",
        "    return avg_loss, accuracy, is_terminate\n",
        "\n",
        "\n",
        "  def train(n_epoch:int, opt):\n",
        "    is_terminate = False\n",
        "\n",
        "    self.train_begin()\n",
        "\n",
        "    net = net.to(dev)\n",
        "    for epoch in range(n_epoch):\n",
        "      loss_train, accuracy_train = math.nan, math.nan\n",
        "      loss_val, accuracy_val = math.nan, math.nan\n",
        "\n",
        "      self.epoch_start(epoch)\n",
        "\n",
        "      loss_train, accuracy_train, is_terminate = train_phrase(True, opt)\n",
        "\n",
        "      if (not is_terminate) and self.need_val(epoch):\n",
        "        loss_val, accuracy_val, is_terminate = train_phrase(False, opt)\n",
        "\n",
        "      self.epoch_end(is_terminate, epoch)\n",
        "      if is_terminate: break\n",
        "\n",
        "    self.train_end(is_terminate)\n",
        "\n",
        "  def phrase_begin(self, is_train):\n",
        "    for cb in self.cbs:\n",
        "      cb.on_phrase_begin(is_train)\n",
        "\n",
        "  def phrase_end(self, is_train, avg_loss, accuracy):\n",
        "    for cb in self.cbs:\n",
        "      cb.on_phrase_end(is_train, avg_loss, accuracy)\n",
        "\n",
        "  def need_val(self, epoch):\n",
        "    is_needed = True\n",
        "    for cb in self.cbs:\n",
        "      is_needed = is_needed and cb.need_val(epoch)\n",
        "\n",
        "\n",
        "\n",
        "####################################################\n",
        "df_pick = pick(128, 64, ['Tee', 'Blouse', 'Top'])\n",
        "tfmt1 = transforms.Compose([\n",
        "         PadToSquare(padding_mode='reflect'),\n",
        "         transforms.Resize(256),\n",
        "         transforms.RandomCrop(224)\n",
        "]);\n",
        "tfmt2 = transforms.Compose([\n",
        "         PadToSquare(padding_mode='reflect'),\n",
        "         transforms.Resize(256),\n",
        "         transforms.CenterCrop(224)\n",
        "]);\n",
        "\n",
        "tfmts = [ tfmt1, tfmt2 ]\n",
        "ds = DataSource('data/data/picked', df_pick, 32, tfmts, num_workers=4)\n",
        "\n",
        "net = models.resnet18(pretrained=True, progress=False)\n",
        "net.fc = nn.Linear(net.fc.in_features, ds.c)\n",
        "\n",
        "criterion = nn.CrossEntropyLoss()\n",
        "\n",
        "opt = optim.SGD(net.parameters(), lr=0.01, momentum=0.95)\n",
        "\n",
        "dev = torch.device(\"cuda:0\" if torch.cuda.is_available() else 'cpu')\n",
        "\n",
        "sch = None # optim.lr_scheduler.StepLR(opt, step_size=7, gamma=0.1)\n",
        "\n",
        "net.train()\n",
        "train(20, ds, net, criterion, opt, sch, dev)\n"
      ],
      "execution_count": 0,
      "outputs": [
        {
          "output_type": "error",
          "ename": "SyntaxError",
          "evalue": "ignored",
          "traceback": [
            "\u001b[0;36m  File \u001b[0;32m\"<ipython-input-64-35432ce66675>\"\u001b[0;36m, line \u001b[0;32m28\u001b[0m\n\u001b[0;31m    def train(n_epoch:int, ds:DataSource, net:nn.Module, crit, opt, sch, dev, cbs:Callback[]):\u001b[0m\n\u001b[0m                                                                                           ^\u001b[0m\n\u001b[0;31mSyntaxError\u001b[0m\u001b[0;31m:\u001b[0m invalid syntax\n"
          ]
        }
      ]
    },
    {
      "cell_type": "code",
      "metadata": {
        "id": "dex5E1xyOHy2",
        "colab_type": "code",
        "colab": {
          "base_uri": "https://localhost:8080/",
          "height": 68
        },
        "outputId": "136bc901-85c4-4e90-b969-4db6a87d24d5"
      },
      "source": [
        "for i in range(5):\n",
        "  if i==3: break;\n",
        "  print(i)"
      ],
      "execution_count": 67,
      "outputs": [
        {
          "output_type": "stream",
          "text": [
            "0\n",
            "1\n",
            "2\n"
          ],
          "name": "stdout"
        }
      ]
    }
  ]
}