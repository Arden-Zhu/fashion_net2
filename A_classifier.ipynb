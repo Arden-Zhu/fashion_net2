{
  "nbformat": 4,
  "nbformat_minor": 0,
  "metadata": {
    "colab": {
      "name": "A classifier.ipynb",
      "provenance": [],
      "collapsed_sections": [],
      "include_colab_link": true
    },
    "kernelspec": {
      "name": "python3",
      "display_name": "Python 3"
    },
    "accelerator": "GPU"
  },
  "cells": [
    {
      "cell_type": "markdown",
      "metadata": {
        "id": "view-in-github",
        "colab_type": "text"
      },
      "source": [
        "<a href=\"https://colab.research.google.com/github/Arden-Zhu/fashion_net2/blob/master/A_classifier.ipynb\" target=\"_parent\"><img src=\"https://colab.research.google.com/assets/colab-badge.svg\" alt=\"Open In Colab\"/></a>"
      ]
    },
    {
      "cell_type": "code",
      "metadata": {
        "id": "QlDfLWgrAorR",
        "colab_type": "code",
        "colab": {}
      },
      "source": [
        "%matplotlib inline\n",
        "%reload_ext autoreload\n",
        "%autoreload 1"
      ],
      "execution_count": 0,
      "outputs": []
    },
    {
      "cell_type": "code",
      "metadata": {
        "id": "QkG6SGKsA0Ts",
        "colab_type": "code",
        "colab": {}
      },
      "source": [
        "import os\n",
        "import time\n",
        "from typing import *\n",
        "import math\n",
        "import numpy as np\n",
        "import pandas as pd\n",
        "import matplotlib.pyplot as plt\n",
        "import torch\n",
        "import torchvision.transforms.functional as TF\n",
        "import torch.nn as nn\n",
        "import torch.optim as optim\n",
        "from torch.utils.data import Dataset, DataLoader\n",
        "from torchvision import transforms, models\n",
        "from PIL import Image\n",
        "from IPython.display import display \n"
      ],
      "execution_count": 0,
      "outputs": []
    },
    {
      "cell_type": "code",
      "metadata": {
        "id": "A9FDiSV0Bzky",
        "colab_type": "code",
        "outputId": "1e33e018-305a-426a-e951-72bd92d859ce",
        "colab": {
          "base_uri": "https://localhost:8080/",
          "height": 121
        }
      },
      "source": [
        "from google.colab import drive\n",
        "drive.mount('/content/gdrive', force_remount=True)\n",
        "my_drive_dir = \"/content/gdrive/My Drive/Machine Learning\""
      ],
      "execution_count": 3,
      "outputs": [
        {
          "output_type": "stream",
          "text": [
            "Go to this URL in a browser: https://accounts.google.com/o/oauth2/auth?client_id=947318989803-6bn6qk8qdgf4n4g3pfee6491hc0brc4i.apps.googleusercontent.com&redirect_uri=urn%3aietf%3awg%3aoauth%3a2.0%3aoob&response_type=code&scope=email%20https%3a%2f%2fwww.googleapis.com%2fauth%2fdocs.test%20https%3a%2f%2fwww.googleapis.com%2fauth%2fdrive%20https%3a%2f%2fwww.googleapis.com%2fauth%2fdrive.photos.readonly%20https%3a%2f%2fwww.googleapis.com%2fauth%2fpeopleapi.readonly\n",
            "\n",
            "Enter your authorization code:\n",
            "··········\n",
            "Mounted at /content/gdrive\n"
          ],
          "name": "stdout"
        }
      ]
    },
    {
      "cell_type": "markdown",
      "metadata": {
        "id": "8FO81CyAKL-c",
        "colab_type": "text"
      },
      "source": [
        "## Helper functions"
      ]
    },
    {
      "cell_type": "code",
      "metadata": {
        "id": "s6Cxrd84KOF5",
        "colab_type": "code",
        "colab": {}
      },
      "source": [
        "def is_listy(x:Any)->bool: return isinstance(x, (tuple,list))\n",
        "def is_tuple(x:Any)->bool: return isinstance(x, tuple)\n",
        "def is_dict(x:Any)->bool: return isinstance(x, dict)\n",
        "\n",
        "\n",
        "def listify(p, q):\n",
        "    \"Make `p` listy and the same length as `q`.\"\n",
        "    if p is None: p=[]\n",
        "    elif isinstance(p, str):          p = [p]\n",
        "    elif not isinstance(p, Iterable): p = [p]\n",
        "    #Rank 0 tensors in PyTorch are Iterable but don't have a length.\n",
        "    else:\n",
        "        try: a = len(p)\n",
        "        except: p = [p]\n",
        "    n = q if type(q)==int else len(p) if q is None else len(q)\n",
        "    if len(p)==1: p = p * n\n",
        "    assert len(p)==n, f'List len mismatch ({len(p)} vs {n})'\n",
        "    return list(p)\n"
      ],
      "execution_count": 0,
      "outputs": []
    },
    {
      "cell_type": "markdown",
      "metadata": {
        "id": "R-TiYxxrMnjr",
        "colab_type": "text"
      },
      "source": [
        "## prepare images"
      ]
    },
    {
      "cell_type": "code",
      "metadata": {
        "id": "84p9GG4gLghA",
        "colab_type": "code",
        "outputId": "266f6e3d-a2cd-4659-9142-8829cef5e56e",
        "colab": {
          "base_uri": "https://localhost:8080/",
          "height": 0
        }
      },
      "source": [
        "since = time.time()\n",
        "data_source_dir = os.path.join(my_drive_dir, 'Datasets\\DeepFashion\\Category and Attribute Prediction Benchmark'.replace('\\\\', '/'))\n",
        "tar_file = os.path.join(data_source_dir, 'picked.tar')\n",
        "if not os.path.exists('data'):\n",
        "  os.mkdir('data')\n",
        "! tar xf \"{tar_file}\" -C data/\n",
        "print('%.3f' % (time.time() - since))"
      ],
      "execution_count": 5,
      "outputs": [
        {
          "output_type": "stream",
          "text": [
            "8.612\n"
          ],
          "name": "stdout"
        }
      ]
    },
    {
      "cell_type": "code",
      "metadata": {
        "id": "TOAbXRHFMyR1",
        "colab_type": "code",
        "outputId": "b50d1297-a69f-4ceb-a1c4-3bbd434725c6",
        "colab": {
          "base_uri": "https://localhost:8080/",
          "height": 0
        }
      },
      "source": [
        "csv_file = os.path.join(data_source_dir, 'picked.csv')\n",
        "df = pd.read_csv(csv_file, index_col=0)\n",
        "df = df.loc[:, ['file', 'category_name', 'category_id']]\n",
        "df['file'] = df.apply(lambda m: m.file[4:], axis=1)\n",
        "df.head()"
      ],
      "execution_count": 6,
      "outputs": [
        {
          "output_type": "execute_result",
          "data": {
            "text/html": [
              "<div>\n",
              "<style scoped>\n",
              "    .dataframe tbody tr th:only-of-type {\n",
              "        vertical-align: middle;\n",
              "    }\n",
              "\n",
              "    .dataframe tbody tr th {\n",
              "        vertical-align: top;\n",
              "    }\n",
              "\n",
              "    .dataframe thead th {\n",
              "        text-align: right;\n",
              "    }\n",
              "</style>\n",
              "<table border=\"1\" class=\"dataframe\">\n",
              "  <thead>\n",
              "    <tr style=\"text-align: right;\">\n",
              "      <th></th>\n",
              "      <th>file</th>\n",
              "      <th>category_name</th>\n",
              "      <th>category_id</th>\n",
              "    </tr>\n",
              "  </thead>\n",
              "  <tbody>\n",
              "    <tr>\n",
              "      <th>23063</th>\n",
              "      <td>Kimono-Sleeved_Paisley_Blouse/img_00000121.jpg</td>\n",
              "      <td>Blouse</td>\n",
              "      <td>3</td>\n",
              "    </tr>\n",
              "    <tr>\n",
              "      <th>30780</th>\n",
              "      <td>Boxy_Chiffon_Pocket_Blouse/img_00000056.jpg</td>\n",
              "      <td>Blouse</td>\n",
              "      <td>3</td>\n",
              "    </tr>\n",
              "    <tr>\n",
              "      <th>13998</th>\n",
              "      <td>Crochet_Lace-Paneled_Blouse/img_00000035.jpg</td>\n",
              "      <td>Blouse</td>\n",
              "      <td>3</td>\n",
              "    </tr>\n",
              "    <tr>\n",
              "      <th>123023</th>\n",
              "      <td>New_York_City_Pocket_Tee/img_00000012.jpg</td>\n",
              "      <td>Tee</td>\n",
              "      <td>18</td>\n",
              "    </tr>\n",
              "    <tr>\n",
              "      <th>21889</th>\n",
              "      <td>Georgette_Tulip_Back_Blouse/img_00000029.jpg</td>\n",
              "      <td>Blouse</td>\n",
              "      <td>3</td>\n",
              "    </tr>\n",
              "  </tbody>\n",
              "</table>\n",
              "</div>"
            ],
            "text/plain": [
              "                                                  file  ... category_id\n",
              "23063   Kimono-Sleeved_Paisley_Blouse/img_00000121.jpg  ...           3\n",
              "30780      Boxy_Chiffon_Pocket_Blouse/img_00000056.jpg  ...           3\n",
              "13998     Crochet_Lace-Paneled_Blouse/img_00000035.jpg  ...           3\n",
              "123023       New_York_City_Pocket_Tee/img_00000012.jpg  ...          18\n",
              "21889     Georgette_Tulip_Back_Blouse/img_00000029.jpg  ...           3\n",
              "\n",
              "[5 rows x 3 columns]"
            ]
          },
          "metadata": {
            "tags": []
          },
          "execution_count": 6
        }
      ]
    },
    {
      "cell_type": "code",
      "metadata": {
        "id": "ZGRNynXrssHA",
        "colab_type": "code",
        "outputId": "cb137c49-45cc-46f8-ce4e-e233304fec22",
        "colab": {
          "base_uri": "https://localhost:8080/",
          "height": 0
        }
      },
      "source": [
        "def pick(n_train, n_val, categories):\n",
        "  df_pick = pd.DataFrame(columns=['file', 'label', 'type'])\n",
        "\n",
        "  for cat in categories:\n",
        "    indexes = df.loc[df.category_name == cat].index.values\n",
        "    indexes = np.random.permutation(indexes)\n",
        "\n",
        "    # trainset\n",
        "    df_slice = df.loc[indexes[:n_train]].loc[:, ['file', 'category_name']]\n",
        "    df_slice.columns = ['file', 'label']\n",
        "    df_slice['type'] = 'train'\n",
        "\n",
        "    df_pick = pd.concat([df_pick, df_slice])\n",
        "    # valset\n",
        "    df_slice = df.loc[indexes[n_train:n_train + n_val]].loc[:, ['file', 'category_name']]\n",
        "    df_slice.columns = ['file', 'label']\n",
        "    df_slice['type'] = 'val'\n",
        "    df_pick = pd.concat([df_pick, df_slice])\n",
        "\n",
        "  return df_pick\n",
        "\n",
        "#############\n",
        "df_pick = pick(2, 1, ['Tee', 'Blouse', 'Top'])\n",
        "df_pick.head(10)\n"
      ],
      "execution_count": 7,
      "outputs": [
        {
          "output_type": "execute_result",
          "data": {
            "text/html": [
              "<div>\n",
              "<style scoped>\n",
              "    .dataframe tbody tr th:only-of-type {\n",
              "        vertical-align: middle;\n",
              "    }\n",
              "\n",
              "    .dataframe tbody tr th {\n",
              "        vertical-align: top;\n",
              "    }\n",
              "\n",
              "    .dataframe thead th {\n",
              "        text-align: right;\n",
              "    }\n",
              "</style>\n",
              "<table border=\"1\" class=\"dataframe\">\n",
              "  <thead>\n",
              "    <tr style=\"text-align: right;\">\n",
              "      <th></th>\n",
              "      <th>file</th>\n",
              "      <th>label</th>\n",
              "      <th>type</th>\n",
              "    </tr>\n",
              "  </thead>\n",
              "  <tbody>\n",
              "    <tr>\n",
              "      <th>100605</th>\n",
              "      <td>Baseball_Muscle_Tee/img_00000002.jpg</td>\n",
              "      <td>Tee</td>\n",
              "      <td>train</td>\n",
              "    </tr>\n",
              "    <tr>\n",
              "      <th>66519</th>\n",
              "      <td>Clashist_Oil_Slick_Print_Tee/img_00000009.jpg</td>\n",
              "      <td>Tee</td>\n",
              "      <td>train</td>\n",
              "    </tr>\n",
              "    <tr>\n",
              "      <th>38005</th>\n",
              "      <td>Boxy_Striped_Pocket_Tee/img_00000028.jpg</td>\n",
              "      <td>Tee</td>\n",
              "      <td>val</td>\n",
              "    </tr>\n",
              "    <tr>\n",
              "      <th>9598</th>\n",
              "      <td>Chiffon_Plaid_Blouse/img_00000087.jpg</td>\n",
              "      <td>Blouse</td>\n",
              "      <td>train</td>\n",
              "    </tr>\n",
              "    <tr>\n",
              "      <th>19060</th>\n",
              "      <td>Ethereal_Draped_Front_Blouse/img_00000055.jpg</td>\n",
              "      <td>Blouse</td>\n",
              "      <td>train</td>\n",
              "    </tr>\n",
              "    <tr>\n",
              "      <th>24576</th>\n",
              "      <td>Beaded_Tribal_Print_Blouse/img_00000002.jpg</td>\n",
              "      <td>Blouse</td>\n",
              "      <td>val</td>\n",
              "    </tr>\n",
              "    <tr>\n",
              "      <th>89577</th>\n",
              "      <td>Abstract_Buttoned_Top/img_00000014.jpg</td>\n",
              "      <td>Top</td>\n",
              "      <td>train</td>\n",
              "    </tr>\n",
              "    <tr>\n",
              "      <th>67987</th>\n",
              "      <td>Classic_Halter_Top/img_00000032.jpg</td>\n",
              "      <td>Top</td>\n",
              "      <td>train</td>\n",
              "    </tr>\n",
              "    <tr>\n",
              "      <th>65936</th>\n",
              "      <td>City_Print_Dolman_Top/img_00000003.jpg</td>\n",
              "      <td>Top</td>\n",
              "      <td>val</td>\n",
              "    </tr>\n",
              "  </tbody>\n",
              "</table>\n",
              "</div>"
            ],
            "text/plain": [
              "                                                 file   label   type\n",
              "100605           Baseball_Muscle_Tee/img_00000002.jpg     Tee  train\n",
              "66519   Clashist_Oil_Slick_Print_Tee/img_00000009.jpg     Tee  train\n",
              "38005        Boxy_Striped_Pocket_Tee/img_00000028.jpg     Tee    val\n",
              "9598            Chiffon_Plaid_Blouse/img_00000087.jpg  Blouse  train\n",
              "19060   Ethereal_Draped_Front_Blouse/img_00000055.jpg  Blouse  train\n",
              "24576     Beaded_Tribal_Print_Blouse/img_00000002.jpg  Blouse    val\n",
              "89577          Abstract_Buttoned_Top/img_00000014.jpg     Top  train\n",
              "67987             Classic_Halter_Top/img_00000032.jpg     Top  train\n",
              "65936          City_Print_Dolman_Top/img_00000003.jpg     Top    val"
            ]
          },
          "metadata": {
            "tags": []
          },
          "execution_count": 7
        }
      ]
    },
    {
      "cell_type": "code",
      "metadata": {
        "id": "w1HchEygxnYb",
        "colab_type": "code",
        "colab": {}
      },
      "source": [
        "df_pick = pick(500, 200, ['Tee', 'Blouse', 'Top'])"
      ],
      "execution_count": 0,
      "outputs": []
    },
    {
      "cell_type": "markdown",
      "metadata": {
        "id": "7t5JDRDEB-pt",
        "colab_type": "text"
      },
      "source": [
        "## DataSource"
      ]
    },
    {
      "cell_type": "code",
      "metadata": {
        "id": "tg4kGk8YGh7J",
        "colab_type": "code",
        "outputId": "2b46c25e-2b5d-4875-e2b2-fcec541371e6",
        "colab": {
          "base_uri": "https://localhost:8080/",
          "height": 0
        }
      },
      "source": [
        "imagenet_stats = ([0.485, 0.456, 0.406], [0.229, 0.224, 0.225])\n",
        "\n",
        "class ImageLabelDataset(Dataset):\n",
        "  '''\n",
        "  a dataset provides (image, label)\n",
        "  '''\n",
        "  def __init__(self, path:str, image_files, labels, transform=None, \n",
        "               normalize = imagenet_stats):\n",
        "    self.path = path\n",
        "    self.image_files = image_files\n",
        "    self.labels = labels\n",
        "    self.transform = transform\n",
        "    if normalize:\n",
        "      self.normalizer = transforms.Normalize(normalize[0], normalize[1])\n",
        "\n",
        "    assert(len(image_files) == len(labels))\n",
        "\n",
        "  def __len__(self):\n",
        "    return len(self.labels)\n",
        "  \n",
        "  def get(self, idx):\n",
        "    file = os.path.join(self.path, self.image_files[idx])\n",
        "    \n",
        "    #image = io.imread(file)\n",
        "    #image = Image.fromarray(image)\n",
        "    image = Image.open(file)\n",
        "    label = self.labels[idx]\n",
        "\n",
        "    if self.transform:\n",
        "      image = self.transform(image)\n",
        "\n",
        "    return (image, label)\n",
        "\n",
        "  def __getitem__(self, idx):\n",
        "    image, label = self.get(idx)\n",
        "\n",
        "    image = transforms.ToTensor()(image)\n",
        "\n",
        "    if self.normalizer:\n",
        "      image = self.normalizer(image)\n",
        "\n",
        "    return (image, label)\n",
        "\n",
        "##############################\n",
        "image_ds = ImageLabelDataset('data/data/picked', ['New_York_City_Pocket_Tee/img_00000012.jpg'], ['Tee'], transform =  transforms.Resize(224))\n",
        "assert(len(image_ds) == 1)\n",
        "\n",
        "(image, label) = image_ds.get(0)\n",
        "print(label)\n",
        "assert(label == 'Tee')    \n",
        "\n",
        "print(image.size)\n",
        "\n",
        "display(image)"
      ],
      "execution_count": 9,
      "outputs": [
        {
          "output_type": "stream",
          "text": [
            "Tee\n",
            "(224, 224)\n"
          ],
          "name": "stdout"
        },
        {
          "output_type": "display_data",
          "data": {
            "image/png": "[encoded data removed]",
            "text/plain": [
              "<PIL.Image.Image image mode=RGB size=224x224 at 0x7F66C4C2DBA8>"
            ]
          },
          "metadata": {
            "tags": []
          }
        }
      ]
    },
    {
      "cell_type": "code",
      "metadata": {
        "id": "eFP0iVWwCDtQ",
        "colab_type": "code",
        "outputId": "eac068bb-ccd4-4bfa-838a-9ae93d084214",
        "colab": {
          "base_uri": "https://localhost:8080/",
          "height": 0
        }
      },
      "source": [
        "class DataSource():\n",
        "  '''\n",
        "  train_dl\n",
        "  val_dl\n",
        "  train_ds\n",
        "  val_dl\n",
        "  '''\n",
        "  def __init__(self, path:str, df:pd.DataFrame, bs:int, transforms=None, \n",
        "               num_workers=0, normalize = imagenet_stats):\n",
        "      '''\n",
        "      path : path of images\n",
        "      df : DataFrame with file, label, type\n",
        "      '''\n",
        "      # convert labels to number\n",
        "      labels = np.sort(df['label'].unique())\n",
        "      self.class_names = np.sort(df['label'].unique())\n",
        "      self.class_indexes = {c:i for i, c in enumerate(self.class_names)}\n",
        "      self.c = len(self.class_names)\n",
        "      self.labels = [self.class_indexes[c] for c in labels]\n",
        "\n",
        "      # transforms\n",
        "      if not is_listy(transforms):\n",
        "        train_tfm, val_tfm = transforms, transforms\n",
        "      elif len(transforms) == 0:\n",
        "        train_tfm, val_tfm = None, None\n",
        "      elif len(transforms) == 1:\n",
        "        train_tfm, val_tfm = transforms[0], transforms[0]\n",
        "      else:\n",
        "        train_tfm, val_tfm = transforms[0], transforms[1]\n",
        "\n",
        "      # dataset\n",
        "      is_train = df.type == 'train'\n",
        "      self.train_ds = ImageLabelDataset(path, df[is_train]['file'].values, \n",
        "                                           [self.class_indexes[c] for c in df[is_train]['label'].values], \n",
        "                                           train_tfm, \n",
        "                                           normalize)\n",
        "      self.val_ds = ImageLabelDataset(path, df[~is_train]['file'].values, \n",
        "                                          [self.class_indexes[c] for c in df[~is_train]['label'].values], \n",
        "                                          val_tfm,\n",
        "                                          normalize\n",
        "                                       )\n",
        "\n",
        "      # dataloader\n",
        "      self.train_dl = DataLoader(self.train_ds, batch_size=bs, shuffle=True, \n",
        "                                 num_workers=num_workers)\n",
        "      \n",
        "      self.val_dl = DataLoader(self.val_ds, batch_size=bs, shuffle=False, \n",
        "                                 num_workers=num_workers)\n",
        "\n",
        "############################################################################\n",
        "df2 = df.head(3).copy()\n",
        "df2.columns=['file', 'type', 'label']\n",
        "df2['type'] = ['train', 'val', 'train']\n",
        "df2['label'] = ['a', 'b', 'c']\n",
        "print(df2.head())\n",
        "\n",
        "ds = DataSource('data/data/picked', df2, 1)\n",
        "assert(len(ds.train_ds) == 2)\n",
        "assert(len(ds.val_ds) == 1)\n",
        "assert(ds.c == 3)\n",
        "assert(ds.val_ds[0][1] == 1)\n",
        "assert(ds.class_names[ds.val_ds[0][1]] == 'b')\n",
        "\n",
        "for (image, label) in ds.val_dl:\n",
        "  print(type(image))\n",
        "  print(image.shape)\n",
        "  print(label)\n",
        "  print(image[0, 0, 0, :20])\n",
        "  break"
      ],
      "execution_count": 10,
      "outputs": [
        {
          "output_type": "stream",
          "text": [
            "                                                 file   type label\n",
            "23063  Kimono-Sleeved_Paisley_Blouse/img_00000121.jpg  train     a\n",
            "30780     Boxy_Chiffon_Pocket_Blouse/img_00000056.jpg    val     b\n",
            "13998    Crochet_Lace-Paneled_Blouse/img_00000035.jpg  train     c\n",
            "<class 'torch.Tensor'>\n",
            "torch.Size([1, 3, 300, 207])\n",
            "tensor([1])\n",
            "tensor([2.1633, 2.1633, 2.1462, 2.1462, 2.1290, 2.1290, 2.1119, 2.1119, 2.1290,\n",
            "        2.1290, 2.1290, 2.1119, 2.1119, 2.1119, 2.0948, 2.0948, 2.1119, 2.1119,\n",
            "        2.1119, 2.1119])\n"
          ],
          "name": "stdout"
        }
      ]
    },
    {
      "cell_type": "markdown",
      "metadata": {
        "id": "5FCO9CMcGqDv",
        "colab_type": "text"
      },
      "source": [
        "## Transformation"
      ]
    },
    {
      "cell_type": "code",
      "metadata": {
        "id": "drWqmHWYH5gt",
        "colab_type": "code",
        "colab": {}
      },
      "source": [
        "def padToSquare(img, **kwargs):\n",
        "    \"\"\"Pad the input PIL Image to a square\n",
        "\n",
        "    Args:\n",
        "        img (PIL Image): Image to be resized.\n",
        "\n",
        "    Returns:\n",
        "        PIL Image: Padding image.\n",
        "    \"\"\"\n",
        "    if not TF._is_pil_image(img):\n",
        "        raise TypeError('img should be PIL Image. Got {}'.format(type(img)))\n",
        "    \n",
        "    w, h = img.size\n",
        "    diff = w - h\n",
        "\n",
        "    if diff == 0:\n",
        "      return img\n",
        "    else:\n",
        "      if diff < 0:\n",
        "        padding = (-diff // 2, 0, diff // 2 - diff, 0)\n",
        "      else:\n",
        "        padding = (0, diff // 2, 0, diff - diff//2)\n",
        "\n",
        "      return TF.pad(img, padding, **kwargs)"
      ],
      "execution_count": 0,
      "outputs": []
    },
    {
      "cell_type": "code",
      "metadata": {
        "id": "2V5GjkSKICV5",
        "colab_type": "code",
        "colab": {}
      },
      "source": [
        "class PadToSquare():\n",
        "    \"\"\" Pad the input PIL Image to a square\n",
        "    \"\"\"\n",
        "    def __init__(self, **kwargs):\n",
        "      self.params = kwargs\n",
        "\n",
        "    def __call__(self, x):\n",
        "      return padToSquare(x, **self.params)\n"
      ],
      "execution_count": 0,
      "outputs": []
    },
    {
      "cell_type": "code",
      "metadata": {
        "id": "i9c7Gg2XU8m-",
        "colab_type": "code",
        "colab": {}
      },
      "source": [
        "def tensor2img(tensor, stats):\n",
        "  mean, std = stats\n",
        "  img = tensor.numpy().transpose([1, 2, 0])\n",
        "  img = img * std + mean\n",
        "  img = np.minimum(img, 1)\n",
        "  img = np.maximum(img, 0)\n",
        "  return img\n"
      ],
      "execution_count": 0,
      "outputs": []
    },
    {
      "cell_type": "code",
      "metadata": {
        "id": "7ImJXEFeHcFE",
        "colab_type": "code",
        "outputId": "f3f43dc3-17d7-4d6e-a70c-a5441608f0c9",
        "colab": {
          "base_uri": "https://localhost:8080/",
          "height": 0
        }
      },
      "source": [
        "df_pick = pick(200, 50, ['Tee', 'Blouse', 'Top'])\n",
        "tfms = [\n",
        "  transforms.Compose([\n",
        "    PadToSquare(padding_mode='reflect'),\n",
        "    transforms.Resize(256),\n",
        "    transforms.RandomCrop(224),\n",
        "  ]),\n",
        "  transforms.Compose([\n",
        "    PadToSquare(padding_mode='reflect'),\n",
        "    transforms.Resize(256),\n",
        "    transforms.CenterCrop(224),\n",
        "  ]),\n",
        "]\n",
        "\n",
        "ds = DataSource('data/data/picked', df_pick, 4, num_workers=4, transforms=tfms)\n",
        "\n",
        "images, labels = next(iter(ds.train_dl))\n",
        "\n",
        "images.shape\n",
        "\n",
        "img = tensor2img(images[0], imagenet_stats)\n",
        "plt.imshow(img)\n",
        "plt.show()"
      ],
      "execution_count": 14,
      "outputs": [
        {
          "output_type": "display_data",
          "data": {
            "image/png": "[encoded data removed]",
            "text/plain": [
              "<Figure size 432x288 with 1 Axes>"
            ]
          },
          "metadata": {
            "tags": []
          }
        }
      ]
    },
    {
      "cell_type": "markdown",
      "metadata": {
        "id": "OjCkpIsIV2rU",
        "colab_type": "text"
      },
      "source": [
        "## train"
      ]
    },
    {
      "cell_type": "code",
      "metadata": {
        "id": "lfLBirV1TWNm",
        "colab_type": "code",
        "colab": {}
      },
      "source": [
        "class Classback:\n",
        "  def on_train_begin():\n",
        "    pass\n",
        "  \n",
        "  def on_train_end():\n",
        "    pass\n",
        "\n",
        "  def on_epoch_begin(epoch:int):\n",
        "    pass\n",
        "\n",
        "  def on_epoch_end(loss, accuracy):\n",
        "    pass\n",
        "\n",
        "  def on_batch_begin():\n",
        "    pass\n",
        "\n",
        "  def on_batch_end():\n",
        "    pass\n",
        "\n",
        "  def on_phrase_begin():\n",
        "    pass\n",
        "\n",
        "  def on_phrase_end():\n",
        "    pass\n",
        "\n",
        "  def need_val(epoch):\n",
        "    return True"
      ],
      "execution_count": 0,
      "outputs": []
    },
    {
      "cell_type": "code",
      "metadata": {
        "id": "GleY0VwzWIJW",
        "colab_type": "code",
        "outputId": "dbf45992-3dc1-44fc-e08c-8a0445a122d1",
        "colab": {
          "base_uri": "https://localhost:8080/",
          "height": 212
        }
      },
      "source": [
        "class Learn():\n",
        "\n",
        "  def __init__(self, ds:DataSource, net:nn.Module, crit, cbs = None, dev = None):\n",
        "    self.ds = ds\n",
        "    self.net = net\n",
        "    self.crit = crit\n",
        "    self.cbs = listify(cbs)\n",
        "    self.dev = dev if dev \\\n",
        "      else torch.device('cuda:0' if torch.cuda.is_available() else 'cpu')\n",
        "\n",
        "  def train(self, n_epoch):\n",
        "    self.Train(self, n_epoch)()\n",
        "\n",
        "  class Train():\n",
        "    def __init__(self, learn:Learn, n_epoch, schedule_callback=None):\n",
        "      self.ds = learn.ds\n",
        "      self.net = learn.net\n",
        "      self.crit = learn.crit\n",
        "      self.cbs = list(learn.cbs)\n",
        "      self.dev = learn.dev\n",
        "      self.n_epoch = n_epoch\n",
        "\n",
        "      self.net = self.net.to(dev)\n",
        "\n",
        "      if schedule_callback:\n",
        "        self.cbs.append(schedule_callback)\n",
        "\n",
        "    def __call__():\n",
        "      self.is_terminate = False\n",
        "\n",
        "      self.train_begin()\n",
        "\n",
        "      for epoch in range(self.n_epoch):\n",
        "        self.epoch = epoch\n",
        "        self.epoch_begin()\n",
        "\n",
        "        self.train_phrase(True)\n",
        "\n",
        "        if (not self.is_terminate) and self.need_val(epoch):\n",
        "          self.train_phrase(False)\n",
        "\n",
        "        self.epoch_end()\n",
        "        if self.is_terminate: break\n",
        "\n",
        "      self.train_end()\n",
        "\n",
        "    def train_phrase(self, is_train):\n",
        "      self.is_train = is_train\n",
        "      self.phrase_begin()\n",
        "\n",
        "      self.net.train(is_train)\n",
        "\n",
        "      for X, y in (self.ds.train_dl if is_train else self.ds.val_dl):\n",
        "        self.train_batch(X, y)\n",
        "\n",
        "        if self.is_terminate: break\n",
        "\n",
        "      self.phrase_end()\n",
        "\n",
        "    def train_batch(self, X, y):\n",
        "      self.batch_begin()\n",
        "\n",
        "      X, y = X.to(self.dev), y.to(self.dev)\n",
        "\n",
        "      self.opt.zero_grad()\n",
        "      with torch.set_grad_enabled(self.is_train):\n",
        "        a = self.net.forward(X)\n",
        "        loss = self.crit(a, y)\n",
        "        if self.is_train:\n",
        "          loss.backward()\n",
        "          self.opt.step()\n",
        "\n",
        "      cnt = y.size(0)\n",
        "      loss = loss.item()\n",
        "      y_hat = torch.argmax(a, 1)\n",
        "      correct += torch.sum(y_hat == y).item()\n",
        "\n",
        "      self.batch_end(cnt, loss, correct)\n",
        "\n",
        "    def train_begin(self)\n",
        "    def phrase_begin(self, is_train):\n",
        "      for cb in self.cbs:\n",
        "        cb.on_phrase_begin(is_train)\n",
        "\n",
        "    def phrase_end(self, is_train, avg_loss, accuracy):\n",
        "      for cb in self.cbs:\n",
        "        cb.on_phrase_end(is_train, avg_loss, accuracy)\n",
        "\n",
        "    def need_val(self, epoch):\n",
        "      is_needed = True\n",
        "      for cb in self.cbs:\n",
        "        is_needed = is_needed and cb.need_val(epoch)\n",
        "\n",
        "\n",
        "\n",
        "####################################################\n",
        "df_pick = pick(128, 64, ['Tee', 'Blouse', 'Top'])\n",
        "tfmt1 = transforms.Compose([\n",
        "         PadToSquare(padding_mode='reflect'),\n",
        "         transforms.Resize(256),\n",
        "         transforms.RandomCrop(224)\n",
        "]);\n",
        "tfmt2 = transforms.Compose([\n",
        "         PadToSquare(padding_mode='reflect'),\n",
        "         transforms.Resize(256),\n",
        "         transforms.CenterCrop(224)\n",
        "]);\n",
        "\n",
        "tfmts = [ tfmt1, tfmt2 ]\n",
        "ds = DataSource('data/data/picked', df_pick, 32, tfmts, num_workers=4)\n",
        "\n",
        "net = models.resnet18(pretrained=True, progress=False)\n",
        "net.fc = nn.Linear(net.fc.in_features, ds.c)\n",
        "\n",
        "criterion = nn.CrossEntropyLoss()\n",
        "\n",
        "opt = optim.SGD(net.parameters(), lr=0.01, momentum=0.95)\n",
        "\n",
        "dev = torch.device(\"cuda:0\" if torch.cuda.is_available() else 'cpu')\n",
        "\n",
        "sch = None # optim.lr_scheduler.StepLR(opt, step_size=7, gamma=0.1)\n",
        "\n",
        "net.train()\n",
        "train(20, ds, net, criterion, opt, sch, dev)\n"
      ],
      "execution_count": 16,
      "outputs": [
        {
          "output_type": "stream",
          "text": [
            "Downloading: \"https://download.pytorch.org/models/resnet18-5c106cde.pth\" to /root/.cache/torch/checkpoints/resnet18-5c106cde.pth\n"
          ],
          "name": "stderr"
        },
        {
          "output_type": "error",
          "ename": "NameError",
          "evalue": "ignored",
          "traceback": [
            "\u001b[0;31m---------------------------------------------------------------------------\u001b[0m",
            "\u001b[0;31mNameError\u001b[0m                                 Traceback (most recent call last)",
            "\u001b[0;32m<ipython-input-16-b766a53099fd>\u001b[0m in \u001b[0;36m<module>\u001b[0;34m()\u001b[0m\n\u001b[1;32m    113\u001b[0m \u001b[0;34m\u001b[0m\u001b[0m\n\u001b[1;32m    114\u001b[0m \u001b[0mnet\u001b[0m\u001b[0;34m.\u001b[0m\u001b[0mtrain\u001b[0m\u001b[0;34m(\u001b[0m\u001b[0;34m)\u001b[0m\u001b[0;34m\u001b[0m\u001b[0;34m\u001b[0m\u001b[0m\n\u001b[0;32m--> 115\u001b[0;31m \u001b[0mtrain\u001b[0m\u001b[0;34m(\u001b[0m\u001b[0;36m20\u001b[0m\u001b[0;34m,\u001b[0m \u001b[0mds\u001b[0m\u001b[0;34m,\u001b[0m \u001b[0mnet\u001b[0m\u001b[0;34m,\u001b[0m \u001b[0mcriterion\u001b[0m\u001b[0;34m,\u001b[0m \u001b[0mopt\u001b[0m\u001b[0;34m,\u001b[0m \u001b[0msch\u001b[0m\u001b[0;34m,\u001b[0m \u001b[0mdev\u001b[0m\u001b[0;34m)\u001b[0m\u001b[0;34m\u001b[0m\u001b[0;34m\u001b[0m\u001b[0m\n\u001b[0m",
            "\u001b[0;31mNameError\u001b[0m: name 'train' is not defined"
          ]
        }
      ]
    },
    {
      "cell_type": "code",
      "metadata": {
        "id": "dex5E1xyOHy2",
        "colab_type": "code",
        "outputId": "3d551212-5701-4e69-deab-a69bdb3f2fa1",
        "colab": {
          "base_uri": "https://localhost:8080/",
          "height": 34
        }
      },
      "source": [
        "class L:\n",
        "  class Train():\n",
        "    def __init__(self, l:L, b):\n",
        "      self.l = l\n",
        "      self.b = b\n",
        "    \n",
        "    def __call__(self):\n",
        "      self.display()\n",
        "\n",
        "    def display(self):\n",
        "      print('a=', self.l.a, 'b=', self.b)\n",
        "\n",
        "  def __init__(self, a):\n",
        "    self.a = a\n",
        "\n",
        "  def train(self, b):\n",
        "    train = self.Train(self, b)\n",
        "    train()\n",
        "\n",
        "\n",
        "l = L(1)\n",
        "l.train(2)\n"
      ],
      "execution_count": 41,
      "outputs": [
        {
          "output_type": "stream",
          "text": [
            "a= 1 b= 2\n"
          ],
          "name": "stdout"
        }
      ]
    },
    {
      "cell_type": "code",
      "metadata": {
        "id": "oEWVbhSirG0-",
        "colab_type": "code",
        "colab": {
          "base_uri": "https://localhost:8080/",
          "height": 195
        },
        "outputId": "934b9c48-bebf-4367-8750-ba922c13f1ec"
      },
      "source": [
        "a = 1\n",
        "l = list(a)\n",
        "l\n"
      ],
      "execution_count": 37,
      "outputs": [
        {
          "output_type": "error",
          "ename": "TypeError",
          "evalue": "ignored",
          "traceback": [
            "\u001b[0;31m---------------------------------------------------------------------------\u001b[0m",
            "\u001b[0;31mTypeError\u001b[0m                                 Traceback (most recent call last)",
            "\u001b[0;32m<ipython-input-37-282a00971bfc>\u001b[0m in \u001b[0;36m<module>\u001b[0;34m()\u001b[0m\n\u001b[1;32m      1\u001b[0m \u001b[0ma\u001b[0m \u001b[0;34m=\u001b[0m \u001b[0;36m1\u001b[0m\u001b[0;34m\u001b[0m\u001b[0;34m\u001b[0m\u001b[0m\n\u001b[0;32m----> 2\u001b[0;31m \u001b[0ml\u001b[0m \u001b[0;34m=\u001b[0m \u001b[0mlist\u001b[0m\u001b[0;34m(\u001b[0m\u001b[0ma\u001b[0m\u001b[0;34m)\u001b[0m\u001b[0;34m\u001b[0m\u001b[0;34m\u001b[0m\u001b[0m\n\u001b[0m\u001b[1;32m      3\u001b[0m \u001b[0ml\u001b[0m\u001b[0;34m\u001b[0m\u001b[0;34m\u001b[0m\u001b[0m\n",
            "\u001b[0;31mTypeError\u001b[0m: 'int' object is not iterable"
          ]
        }
      ]
    }
  ]
}