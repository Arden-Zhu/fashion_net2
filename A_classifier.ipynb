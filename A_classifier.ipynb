{
  "nbformat": 4,
  "nbformat_minor": 0,
  "metadata": {
    "colab": {
      "name": "A classifier.ipynb",
      "provenance": [],
      "collapsed_sections": [],
      "include_colab_link": true
    },
    "kernelspec": {
      "name": "python3",
      "display_name": "Python 3"
    },
    "accelerator": "GPU"
  },
  "cells": [
    {
      "cell_type": "markdown",
      "metadata": {
        "id": "view-in-github",
        "colab_type": "text"
      },
      "source": [
        "<a href=\"https://colab.research.google.com/github/Arden-Zhu/fashion_net2/blob/master/A_classifier.ipynb\" target=\"_parent\"><img src=\"https://colab.research.google.com/assets/colab-badge.svg\" alt=\"Open In Colab\"/></a>"
      ]
    },
    {
      "cell_type": "code",
      "metadata": {
        "id": "QlDfLWgrAorR",
        "colab_type": "code",
        "colab": {}
      },
      "source": [
        "%matplotlib inline\n",
        "%reload_ext autoreload\n",
        "%autoreload 1"
      ],
      "execution_count": 0,
      "outputs": []
    },
    {
      "cell_type": "code",
      "metadata": {
        "id": "QkG6SGKsA0Ts",
        "colab_type": "code",
        "colab": {}
      },
      "source": [
        "import os\n",
        "import time\n",
        "from typing import *\n",
        "import math\n",
        "from functools import partial\n",
        "import numpy as np\n",
        "import pandas as pd\n",
        "import matplotlib.pyplot as plt\n",
        "import torch\n",
        "import torchvision.transforms.functional as TF\n",
        "import torch.nn as nn\n",
        "import torch.optim as optim\n",
        "from torch.utils.data import Dataset, DataLoader\n",
        "from torchvision import transforms, models\n",
        "from PIL import Image\n",
        "from IPython.display import display \n"
      ],
      "execution_count": 0,
      "outputs": []
    },
    {
      "cell_type": "code",
      "metadata": {
        "id": "A9FDiSV0Bzky",
        "colab_type": "code",
        "outputId": "7b474f98-20d6-4f61-f348-6ed1a24e6406",
        "colab": {
          "base_uri": "https://localhost:8080/",
          "height": 34
        }
      },
      "source": [
        "from google.colab import drive\n",
        "drive.mount('/content/gdrive', force_remount=True)\n",
        "my_drive_dir = \"/content/gdrive/My Drive/Machine Learning\""
      ],
      "execution_count": 3,
      "outputs": [
        {
          "output_type": "stream",
          "text": [
            "Mounted at /content/gdrive\n"
          ],
          "name": "stdout"
        }
      ]
    },
    {
      "cell_type": "markdown",
      "metadata": {
        "id": "8FO81CyAKL-c",
        "colab_type": "text"
      },
      "source": [
        "## Helper functions"
      ]
    },
    {
      "cell_type": "code",
      "metadata": {
        "id": "s6Cxrd84KOF5",
        "colab_type": "code",
        "colab": {}
      },
      "source": [
        "def is_listy(x:Any)->bool: return isinstance(x, (tuple,list))\n",
        "def is_tuple(x:Any)->bool: return isinstance(x, tuple)\n",
        "def is_dict(x:Any)->bool: return isinstance(x, dict)\n",
        "\n",
        "\n",
        "def listify(p, q=None):\n",
        "    \"Make `p` listy and the same length as `q`.\"\n",
        "    if p is None: p=[]\n",
        "    elif isinstance(p, str):          p = [p]\n",
        "    elif not isinstance(p, Iterable): p = [p]\n",
        "    #Rank 0 tensors in PyTorch are Iterable but don't have a length.\n",
        "    else:\n",
        "        try: a = len(p)\n",
        "        except: p = [p]\n",
        "    n = q if type(q)==int else len(p) if q is None else len(q)\n",
        "    if len(p)==1: p = p * n\n",
        "    assert len(p)==n, f'List len mismatch ({len(p)} vs {n})'\n",
        "    return list(p)\n"
      ],
      "execution_count": 0,
      "outputs": []
    },
    {
      "cell_type": "markdown",
      "metadata": {
        "id": "R-TiYxxrMnjr",
        "colab_type": "text"
      },
      "source": [
        "## prepare images"
      ]
    },
    {
      "cell_type": "code",
      "metadata": {
        "id": "84p9GG4gLghA",
        "colab_type": "code",
        "outputId": "7ca71d53-dee5-4ace-bd50-4f264ccbc27a",
        "colab": {
          "base_uri": "https://localhost:8080/",
          "height": 0
        }
      },
      "source": [
        "since = time.time()\n",
        "data_source_dir = os.path.join(my_drive_dir, 'Datasets\\DeepFashion\\Category and Attribute Prediction Benchmark'.replace('\\\\', '/'))\n",
        "tar_file = os.path.join(data_source_dir, 'picked.tar')\n",
        "if not os.path.exists('data'):\n",
        "  os.mkdir('data')\n",
        "! tar xf \"{tar_file}\" -C data/\n",
        "print('%.3f' % (time.time() - since))"
      ],
      "execution_count": 5,
      "outputs": [
        {
          "output_type": "stream",
          "text": [
            "4.449\n"
          ],
          "name": "stdout"
        }
      ]
    },
    {
      "cell_type": "code",
      "metadata": {
        "id": "TOAbXRHFMyR1",
        "colab_type": "code",
        "outputId": "5ebd0504-e2d7-4c3b-c53c-ab9d9d3bd30f",
        "colab": {
          "base_uri": "https://localhost:8080/",
          "height": 0
        }
      },
      "source": [
        "csv_file = os.path.join(data_source_dir, 'picked.csv')\n",
        "df = pd.read_csv(csv_file, index_col=0)\n",
        "df = df.loc[:, ['file', 'category_name', 'category_id']]\n",
        "df['file'] = df.apply(lambda m: m.file[4:], axis=1)\n",
        "df.head()"
      ],
      "execution_count": 6,
      "outputs": [
        {
          "output_type": "execute_result",
          "data": {
            "text/html": [
              "<div>\n",
              "<style scoped>\n",
              "    .dataframe tbody tr th:only-of-type {\n",
              "        vertical-align: middle;\n",
              "    }\n",
              "\n",
              "    .dataframe tbody tr th {\n",
              "        vertical-align: top;\n",
              "    }\n",
              "\n",
              "    .dataframe thead th {\n",
              "        text-align: right;\n",
              "    }\n",
              "</style>\n",
              "<table border=\"1\" class=\"dataframe\">\n",
              "  <thead>\n",
              "    <tr style=\"text-align: right;\">\n",
              "      <th></th>\n",
              "      <th>file</th>\n",
              "      <th>category_name</th>\n",
              "      <th>category_id</th>\n",
              "    </tr>\n",
              "  </thead>\n",
              "  <tbody>\n",
              "    <tr>\n",
              "      <th>23063</th>\n",
              "      <td>Kimono-Sleeved_Paisley_Blouse/img_00000121.jpg</td>\n",
              "      <td>Blouse</td>\n",
              "      <td>3</td>\n",
              "    </tr>\n",
              "    <tr>\n",
              "      <th>30780</th>\n",
              "      <td>Boxy_Chiffon_Pocket_Blouse/img_00000056.jpg</td>\n",
              "      <td>Blouse</td>\n",
              "      <td>3</td>\n",
              "    </tr>\n",
              "    <tr>\n",
              "      <th>13998</th>\n",
              "      <td>Crochet_Lace-Paneled_Blouse/img_00000035.jpg</td>\n",
              "      <td>Blouse</td>\n",
              "      <td>3</td>\n",
              "    </tr>\n",
              "    <tr>\n",
              "      <th>123023</th>\n",
              "      <td>New_York_City_Pocket_Tee/img_00000012.jpg</td>\n",
              "      <td>Tee</td>\n",
              "      <td>18</td>\n",
              "    </tr>\n",
              "    <tr>\n",
              "      <th>21889</th>\n",
              "      <td>Georgette_Tulip_Back_Blouse/img_00000029.jpg</td>\n",
              "      <td>Blouse</td>\n",
              "      <td>3</td>\n",
              "    </tr>\n",
              "  </tbody>\n",
              "</table>\n",
              "</div>"
            ],
            "text/plain": [
              "                                                  file  ... category_id\n",
              "23063   Kimono-Sleeved_Paisley_Blouse/img_00000121.jpg  ...           3\n",
              "30780      Boxy_Chiffon_Pocket_Blouse/img_00000056.jpg  ...           3\n",
              "13998     Crochet_Lace-Paneled_Blouse/img_00000035.jpg  ...           3\n",
              "123023       New_York_City_Pocket_Tee/img_00000012.jpg  ...          18\n",
              "21889     Georgette_Tulip_Back_Blouse/img_00000029.jpg  ...           3\n",
              "\n",
              "[5 rows x 3 columns]"
            ]
          },
          "metadata": {
            "tags": []
          },
          "execution_count": 6
        }
      ]
    },
    {
      "cell_type": "code",
      "metadata": {
        "id": "ZGRNynXrssHA",
        "colab_type": "code",
        "outputId": "bdea8c02-3c8c-48e0-948d-88fa00136940",
        "colab": {
          "base_uri": "https://localhost:8080/",
          "height": 0
        }
      },
      "source": [
        "def pick(n_train, n_val, categories):\n",
        "  df_pick = pd.DataFrame(columns=['file', 'label', 'type'])\n",
        "\n",
        "  for cat in categories:\n",
        "    indexes = df.loc[df.category_name == cat].index.values\n",
        "    indexes = np.random.permutation(indexes)\n",
        "\n",
        "    # trainset\n",
        "    df_slice = df.loc[indexes[:n_train]].loc[:, ['file', 'category_name']]\n",
        "    df_slice.columns = ['file', 'label']\n",
        "    df_slice['type'] = 'train'\n",
        "\n",
        "    df_pick = pd.concat([df_pick, df_slice])\n",
        "    # valset\n",
        "    df_slice = df.loc[indexes[n_train:n_train + n_val]].loc[:, ['file', 'category_name']]\n",
        "    df_slice.columns = ['file', 'label']\n",
        "    df_slice['type'] = 'val'\n",
        "    df_pick = pd.concat([df_pick, df_slice])\n",
        "\n",
        "  return df_pick\n",
        "\n",
        "#############\n",
        "df_pick = pick(2, 1, ['Tee', 'Blouse', 'Top'])\n",
        "df_pick.head(10)\n"
      ],
      "execution_count": 7,
      "outputs": [
        {
          "output_type": "execute_result",
          "data": {
            "text/html": [
              "<div>\n",
              "<style scoped>\n",
              "    .dataframe tbody tr th:only-of-type {\n",
              "        vertical-align: middle;\n",
              "    }\n",
              "\n",
              "    .dataframe tbody tr th {\n",
              "        vertical-align: top;\n",
              "    }\n",
              "\n",
              "    .dataframe thead th {\n",
              "        text-align: right;\n",
              "    }\n",
              "</style>\n",
              "<table border=\"1\" class=\"dataframe\">\n",
              "  <thead>\n",
              "    <tr style=\"text-align: right;\">\n",
              "      <th></th>\n",
              "      <th>file</th>\n",
              "      <th>label</th>\n",
              "      <th>type</th>\n",
              "    </tr>\n",
              "  </thead>\n",
              "  <tbody>\n",
              "    <tr>\n",
              "      <th>104144</th>\n",
              "      <td>Basquiat_Graphic_Tee/img_00000035.jpg</td>\n",
              "      <td>Tee</td>\n",
              "      <td>train</td>\n",
              "    </tr>\n",
              "    <tr>\n",
              "      <th>107441</th>\n",
              "      <td>Jaws_Muscle_Tee/img_00000003.jpg</td>\n",
              "      <td>Tee</td>\n",
              "      <td>train</td>\n",
              "    </tr>\n",
              "    <tr>\n",
              "      <th>114615</th>\n",
              "      <td>Longline_Tulip-Back_Tee/img_00000011.jpg</td>\n",
              "      <td>Tee</td>\n",
              "      <td>val</td>\n",
              "    </tr>\n",
              "    <tr>\n",
              "      <th>20809</th>\n",
              "      <td>Floral_Print_Peasant_Blouse/img_00000113.jpg</td>\n",
              "      <td>Blouse</td>\n",
              "      <td>train</td>\n",
              "    </tr>\n",
              "    <tr>\n",
              "      <th>15682</th>\n",
              "      <td>Abstract-Patterned_Blouse/img_00000086.jpg</td>\n",
              "      <td>Blouse</td>\n",
              "      <td>train</td>\n",
              "    </tr>\n",
              "    <tr>\n",
              "      <th>13844</th>\n",
              "      <td>Crinkled_Stretch_Knit_Blouse/img_00000077.jpg</td>\n",
              "      <td>Blouse</td>\n",
              "      <td>val</td>\n",
              "    </tr>\n",
              "    <tr>\n",
              "      <th>133776</th>\n",
              "      <td>Boxy_Chiffon_Top/img_00000022.jpg</td>\n",
              "      <td>Top</td>\n",
              "      <td>train</td>\n",
              "    </tr>\n",
              "    <tr>\n",
              "      <th>57026</th>\n",
              "      <td>Buttoned_Lace_Panel_Top/img_00000010.jpg</td>\n",
              "      <td>Top</td>\n",
              "      <td>train</td>\n",
              "    </tr>\n",
              "    <tr>\n",
              "      <th>129956</th>\n",
              "      <td>Abstract_Geo_Crop_Top/img_00000019.jpg</td>\n",
              "      <td>Top</td>\n",
              "      <td>val</td>\n",
              "    </tr>\n",
              "  </tbody>\n",
              "</table>\n",
              "</div>"
            ],
            "text/plain": [
              "                                                 file   label   type\n",
              "104144          Basquiat_Graphic_Tee/img_00000035.jpg     Tee  train\n",
              "107441               Jaws_Muscle_Tee/img_00000003.jpg     Tee  train\n",
              "114615       Longline_Tulip-Back_Tee/img_00000011.jpg     Tee    val\n",
              "20809    Floral_Print_Peasant_Blouse/img_00000113.jpg  Blouse  train\n",
              "15682      Abstract-Patterned_Blouse/img_00000086.jpg  Blouse  train\n",
              "13844   Crinkled_Stretch_Knit_Blouse/img_00000077.jpg  Blouse    val\n",
              "133776              Boxy_Chiffon_Top/img_00000022.jpg     Top  train\n",
              "57026        Buttoned_Lace_Panel_Top/img_00000010.jpg     Top  train\n",
              "129956         Abstract_Geo_Crop_Top/img_00000019.jpg     Top    val"
            ]
          },
          "metadata": {
            "tags": []
          },
          "execution_count": 7
        }
      ]
    },
    {
      "cell_type": "code",
      "metadata": {
        "id": "w1HchEygxnYb",
        "colab_type": "code",
        "colab": {}
      },
      "source": [
        "df_pick = pick(500, 200, ['Tee', 'Blouse', 'Top'])"
      ],
      "execution_count": 0,
      "outputs": []
    },
    {
      "cell_type": "markdown",
      "metadata": {
        "id": "7t5JDRDEB-pt",
        "colab_type": "text"
      },
      "source": [
        "## DataSource"
      ]
    },
    {
      "cell_type": "code",
      "metadata": {
        "id": "tg4kGk8YGh7J",
        "colab_type": "code",
        "outputId": "dbae0e95-871f-41d7-e6fb-f4f9743d4bf8",
        "colab": {
          "base_uri": "https://localhost:8080/",
          "height": 0
        }
      },
      "source": [
        "imagenet_stats = ([0.485, 0.456, 0.406], [0.229, 0.224, 0.225])\n",
        "\n",
        "class ImageLabelDataset(Dataset):\n",
        "  '''\n",
        "  a dataset provides (image, label)\n",
        "  '''\n",
        "  def __init__(self, path:str, image_files, labels, transform=None, \n",
        "               normalize = imagenet_stats):\n",
        "    self.path = path\n",
        "    self.image_files = image_files\n",
        "    self.labels = labels\n",
        "    self.transform = transform\n",
        "    if normalize:\n",
        "      self.normalizer = transforms.Normalize(normalize[0], normalize[1])\n",
        "\n",
        "    assert(len(image_files) == len(labels))\n",
        "\n",
        "  def __len__(self):\n",
        "    return len(self.labels)\n",
        "  \n",
        "  def get(self, idx):\n",
        "    file = os.path.join(self.path, self.image_files[idx])\n",
        "    \n",
        "    #image = io.imread(file)\n",
        "    #image = Image.fromarray(image)\n",
        "    image = Image.open(file)\n",
        "    label = self.labels[idx]\n",
        "\n",
        "    if self.transform:\n",
        "      image = self.transform(image)\n",
        "\n",
        "    return (image, label)\n",
        "\n",
        "  def __getitem__(self, idx):\n",
        "    image, label = self.get(idx)\n",
        "\n",
        "    image = transforms.ToTensor()(image)\n",
        "\n",
        "    if self.normalizer:\n",
        "      image = self.normalizer(image)\n",
        "\n",
        "    return (image, label)\n",
        "\n",
        "##############################\n",
        "image_ds = ImageLabelDataset('data/data/picked', ['New_York_City_Pocket_Tee/img_00000012.jpg'], ['Tee'], transform =  transforms.Resize(224))\n",
        "assert(len(image_ds) == 1)\n",
        "\n",
        "(image, label) = image_ds.get(0)\n",
        "print(label)\n",
        "assert(label == 'Tee')    \n",
        "\n",
        "print(image.size)\n",
        "\n",
        "display(image)"
      ],
      "execution_count": 9,
      "outputs": [
        {
          "output_type": "stream",
          "text": [
            "Tee\n",
            "(224, 224)\n"
          ],
          "name": "stdout"
        },
        {
          "output_type": "display_data",
          "data": {
            "image/png": "[encoded data removed]",
            "text/plain": [
              "<PIL.Image.Image image mode=RGB size=224x224 at 0x7F042897FBE0>"
            ]
          },
          "metadata": {
            "tags": []
          }
        }
      ]
    },
    {
      "cell_type": "code",
      "metadata": {
        "id": "eFP0iVWwCDtQ",
        "colab_type": "code",
        "outputId": "1bdce78e-4626-432d-a3fe-02ab194ab2f0",
        "colab": {
          "base_uri": "https://localhost:8080/",
          "height": 0
        }
      },
      "source": [
        "class DataSource():\n",
        "  '''\n",
        "  train_dl\n",
        "  val_dl\n",
        "  train_ds\n",
        "  val_dl\n",
        "  '''\n",
        "  def __init__(self, path:str, df:pd.DataFrame, bs:int, transforms=None, \n",
        "               num_workers=0, normalize = imagenet_stats):\n",
        "      '''\n",
        "      path : path of images\n",
        "      df : DataFrame with file, label, type\n",
        "      '''\n",
        "      # convert labels to number\n",
        "      labels = np.sort(df['label'].unique())\n",
        "      self.class_names = np.sort(df['label'].unique())\n",
        "      self.class_indexes = {c:i for i, c in enumerate(self.class_names)}\n",
        "      self.c = len(self.class_names)\n",
        "      self.labels = [self.class_indexes[c] for c in labels]\n",
        "\n",
        "      # transforms\n",
        "      if not is_listy(transforms):\n",
        "        train_tfm, val_tfm = transforms, transforms\n",
        "      elif len(transforms) == 0:\n",
        "        train_tfm, val_tfm = None, None\n",
        "      elif len(transforms) == 1:\n",
        "        train_tfm, val_tfm = transforms[0], transforms[0]\n",
        "      else:\n",
        "        train_tfm, val_tfm = transforms[0], transforms[1]\n",
        "\n",
        "      # dataset\n",
        "      is_train = df.type == 'train'\n",
        "      self.train_ds = ImageLabelDataset(path, df[is_train]['file'].values, \n",
        "                                           [self.class_indexes[c] for c in df[is_train]['label'].values], \n",
        "                                           train_tfm, \n",
        "                                           normalize)\n",
        "      self.val_ds = ImageLabelDataset(path, df[~is_train]['file'].values, \n",
        "                                          [self.class_indexes[c] for c in df[~is_train]['label'].values], \n",
        "                                          val_tfm,\n",
        "                                          normalize\n",
        "                                       )\n",
        "\n",
        "      # dataloader\n",
        "      self.train_dl = DataLoader(self.train_ds, batch_size=bs, shuffle=True, \n",
        "                                 num_workers=num_workers)\n",
        "      \n",
        "      self.val_dl = DataLoader(self.val_ds, batch_size=bs, shuffle=False, \n",
        "                                 num_workers=num_workers)\n",
        "\n",
        "############################################################################\n",
        "df2 = df.head(3).copy()\n",
        "df2.columns=['file', 'type', 'label']\n",
        "df2['type'] = ['train', 'val', 'train']\n",
        "df2['label'] = ['a', 'b', 'c']\n",
        "print(df2.head())\n",
        "\n",
        "ds = DataSource('data/data/picked', df2, 1)\n",
        "assert(len(ds.train_ds) == 2)\n",
        "assert(len(ds.val_ds) == 1)\n",
        "assert(ds.c == 3)\n",
        "assert(ds.val_ds[0][1] == 1)\n",
        "assert(ds.class_names[ds.val_ds[0][1]] == 'b')\n",
        "\n",
        "for (image, label) in ds.val_dl:\n",
        "  print(type(image))\n",
        "  print(image.shape)\n",
        "  print(label)\n",
        "  print(image[0, 0, 0, :20])\n",
        "  break"
      ],
      "execution_count": 10,
      "outputs": [
        {
          "output_type": "stream",
          "text": [
            "                                                 file   type label\n",
            "23063  Kimono-Sleeved_Paisley_Blouse/img_00000121.jpg  train     a\n",
            "30780     Boxy_Chiffon_Pocket_Blouse/img_00000056.jpg    val     b\n",
            "13998    Crochet_Lace-Paneled_Blouse/img_00000035.jpg  train     c\n",
            "<class 'torch.Tensor'>\n",
            "torch.Size([1, 3, 300, 207])\n",
            "tensor([1])\n",
            "tensor([2.1633, 2.1633, 2.1462, 2.1462, 2.1290, 2.1290, 2.1119, 2.1119, 2.1290,\n",
            "        2.1290, 2.1290, 2.1119, 2.1119, 2.1119, 2.0948, 2.0948, 2.1119, 2.1119,\n",
            "        2.1119, 2.1119])\n"
          ],
          "name": "stdout"
        }
      ]
    },
    {
      "cell_type": "markdown",
      "metadata": {
        "id": "5FCO9CMcGqDv",
        "colab_type": "text"
      },
      "source": [
        "## Transformation"
      ]
    },
    {
      "cell_type": "code",
      "metadata": {
        "id": "drWqmHWYH5gt",
        "colab_type": "code",
        "colab": {}
      },
      "source": [
        "def padToSquare(img, **kwargs):\n",
        "    \"\"\"Pad the input PIL Image to a square\n",
        "\n",
        "    Args:\n",
        "        img (PIL Image): Image to be resized.\n",
        "\n",
        "    Returns:\n",
        "        PIL Image: Padding image.\n",
        "    \"\"\"\n",
        "    if not TF._is_pil_image(img):\n",
        "        raise TypeError('img should be PIL Image. Got {}'.format(type(img)))\n",
        "    \n",
        "    w, h = img.size\n",
        "    diff = w - h\n",
        "\n",
        "    if diff == 0:\n",
        "      return img\n",
        "    else:\n",
        "      if diff < 0:\n",
        "        padding = (-diff // 2, 0, diff // 2 - diff, 0)\n",
        "      else:\n",
        "        padding = (0, diff // 2, 0, diff - diff//2)\n",
        "\n",
        "      return TF.pad(img, padding, **kwargs)"
      ],
      "execution_count": 0,
      "outputs": []
    },
    {
      "cell_type": "code",
      "metadata": {
        "id": "2V5GjkSKICV5",
        "colab_type": "code",
        "colab": {}
      },
      "source": [
        "class PadToSquare():\n",
        "    \"\"\" Pad the input PIL Image to a square\n",
        "    \"\"\"\n",
        "    def __init__(self, **kwargs):\n",
        "      self.params = kwargs\n",
        "\n",
        "    def __call__(self, x):\n",
        "      return padToSquare(x, **self.params)\n"
      ],
      "execution_count": 0,
      "outputs": []
    },
    {
      "cell_type": "code",
      "metadata": {
        "id": "i9c7Gg2XU8m-",
        "colab_type": "code",
        "colab": {}
      },
      "source": [
        "def tensor2img(tensor, stats):\n",
        "  mean, std = stats\n",
        "  img = tensor.numpy().transpose([1, 2, 0])\n",
        "  img = img * std + mean\n",
        "  img = np.minimum(img, 1)\n",
        "  img = np.maximum(img, 0)\n",
        "  return img\n"
      ],
      "execution_count": 0,
      "outputs": []
    },
    {
      "cell_type": "code",
      "metadata": {
        "id": "7ImJXEFeHcFE",
        "colab_type": "code",
        "outputId": "f9546dad-8238-4485-c156-6ab686c2631f",
        "colab": {
          "base_uri": "https://localhost:8080/",
          "height": 0
        }
      },
      "source": [
        "df_pick = pick(200, 50, ['Tee', 'Blouse', 'Top'])\n",
        "tfms = [\n",
        "  transforms.Compose([\n",
        "    PadToSquare(padding_mode='reflect'),\n",
        "    transforms.Resize(256),\n",
        "    transforms.RandomCrop(224),\n",
        "  ]),\n",
        "  transforms.Compose([\n",
        "    PadToSquare(padding_mode='reflect'),\n",
        "    transforms.Resize(256),\n",
        "    transforms.CenterCrop(224),\n",
        "  ]),\n",
        "]\n",
        "\n",
        "ds = DataSource('data/data/picked', df_pick, 4, num_workers=4, transforms=tfms)\n",
        "\n",
        "images, labels = next(iter(ds.train_dl))\n",
        "\n",
        "images.shape\n",
        "\n",
        "img = tensor2img(images[0], imagenet_stats)\n",
        "plt.imshow(img)\n",
        "plt.show()"
      ],
      "execution_count": 14,
      "outputs": [
        {
          "output_type": "display_data",
          "data": {
            "image/png": "[encoded data removed]",
            "text/plain": [
              "<Figure size 432x288 with 1 Axes>"
            ]
          },
          "metadata": {
            "tags": []
          }
        }
      ]
    },
    {
      "cell_type": "markdown",
      "metadata": {
        "id": "OjCkpIsIV2rU",
        "colab_type": "text"
      },
      "source": [
        "## train"
      ]
    },
    {
      "cell_type": "code",
      "metadata": {
        "id": "GleY0VwzWIJW",
        "colab_type": "code",
        "colab": {}
      },
      "source": [
        "class Learn():\n",
        "\n",
        "  def __init__(self, ds:DataSource, net:nn.Module, crit, cbs = None, dev = None):\n",
        "    self.ds = ds\n",
        "    self.net = net\n",
        "    self.crit = crit\n",
        "    self.cbs = listify(cbs)\n",
        "    self.dev = dev if dev \\\n",
        "      else torch.device('cuda:0' if torch.cuda.is_available() else 'cpu')\n",
        "    self.net.to(self.dev)\n",
        "\n",
        "  def train(self, n_epoch, opt_func):\n",
        "    cbs = list(self.cbs)\n",
        "    opt = opt_func(self.net.parameters())\n",
        "    return self.Train(self, n_epoch, opt, cbs)()\n",
        "\n",
        "  class Train():\n",
        "    def __init__(self, learn, n_epoch, opt, cbs):\n",
        "      self.ds = learn.ds\n",
        "      self.net = learn.net\n",
        "      self.crit = learn.crit\n",
        "      self.dev = learn.dev\n",
        "      self.n_epoch = n_epoch\n",
        "      self.opt = opt\n",
        "      self.cbs = cbs\n",
        "\n",
        "      if not self.recorder():\n",
        "        self.cbs.insert(0, Recorder())\n",
        "\n",
        "\n",
        "    def __call__(self):\n",
        "      self.is_terminate = False\n",
        "\n",
        "      self.train_begin()\n",
        "\n",
        "      for epoch in range(self.n_epoch):\n",
        "        self.epoch = epoch\n",
        "        self.epoch_begin()\n",
        "\n",
        "        self.train_phrase(True)\n",
        "\n",
        "        if (not self.is_terminate) and self.need_val():\n",
        "          self.train_phrase(False)\n",
        "\n",
        "        self.epoch_end()\n",
        "        if self.is_terminate: break\n",
        "\n",
        "      self.train_end()\n",
        "      return self.recorder().history\n",
        "\n",
        "    def recorder(self):\n",
        "      for cb in self.cbs:\n",
        "        if isinstance(cb, Recorder):\n",
        "          return cb\n",
        "      return None\n",
        "\n",
        "    def train_phrase(self, is_train):\n",
        "      self.is_train = is_train\n",
        "      self.phrase_begin()\n",
        "\n",
        "      self.net.train(is_train)\n",
        "\n",
        "      for X, y in (self.ds.train_dl if is_train else self.ds.val_dl):\n",
        "        self.train_batch(X, y)\n",
        "\n",
        "        if self.is_terminate: break\n",
        "\n",
        "      self.phrase_end()\n",
        "\n",
        "    def train_batch(self, X, y):\n",
        "      self.batch_begin()\n",
        "\n",
        "      X, y = X.to(self.dev), y.to(self.dev)\n",
        "\n",
        "      self.opt.zero_grad()\n",
        "      with torch.set_grad_enabled(self.is_train):\n",
        "        a = self.net.forward(X)\n",
        "        loss = self.crit(a, y)\n",
        "        if self.is_train:\n",
        "          loss.backward()\n",
        "          self.opt.step()\n",
        "\n",
        "      cnt = y.size(0)\n",
        "      loss = loss.item()\n",
        "      y_hat = torch.argmax(a, 1)\n",
        "      # correct = torch.sum(y_hat == y).item()\n",
        "\n",
        "      self.batch_end(cnt, loss, y_hat, y)\n",
        "\n",
        "    def train_begin(self):\n",
        "      for cb in self.cbs:\n",
        "        cb.on_train_begin(self)\n",
        "    \n",
        "    def train_end(self):\n",
        "      for cb in self.cbs:\n",
        "        cb.on_train_end(self)\n",
        "\n",
        "    def epoch_begin(self):\n",
        "      for cb in self.cbs:\n",
        "        cb.on_epoch_begin(self)\n",
        "    \n",
        "    def epoch_end(self):\n",
        "      for cb in self.cbs:\n",
        "        cb.on_epoch_end(self)\n",
        "\n",
        "    def phrase_begin(self):\n",
        "      for cb in self.cbs:\n",
        "        cb.on_phrase_begin(self)\n",
        "    \n",
        "    def phrase_end(self):\n",
        "      for cb in self.cbs:\n",
        "        cb.on_phrase_end(self)\n",
        "\n",
        "    def batch_begin(self):\n",
        "      for cb in self.cbs:\n",
        "        cb.on_batch_begin(self)\n",
        "    \n",
        "    def batch_end(self, cnt, loss, y_hat, y):\n",
        "      for cb in self.cbs:\n",
        "        cb.on_batch_end(self, cnt, loss, y_hat, y)\n",
        "\n",
        "    def need_val(self):\n",
        "      is_needed = True\n",
        "      for cb in self.cbs:\n",
        "        is_needed = is_needed and cb.need_val(self)\n",
        "      return is_needed\n",
        "\n",
        "class Callback():\n",
        "  def on_train_begin(self, train: Learn.Train):\n",
        "    pass\n",
        "  \n",
        "  def on_train_end(self, train: Learn.Train):\n",
        "    pass\n",
        "\n",
        "  def on_epoch_begin(self, train: Learn.Train):\n",
        "    pass\n",
        "\n",
        "  def on_epoch_end(self, train: Learn.Train):\n",
        "    pass\n",
        "\n",
        "  def on_batch_begin(self, train: Learn.Train):\n",
        "    pass\n",
        "\n",
        "  def on_batch_end(self, train: Learn.Train, cnt, loss, y_hat, y):\n",
        "    pass\n",
        "\n",
        "  def on_phrase_begin(self, train: Learn.Train):\n",
        "    pass\n",
        "\n",
        "  def on_phrase_end(self, train: Learn.Train):\n",
        "    pass\n",
        "\n",
        "  def need_val(self, train: Learn.Train):\n",
        "    return True"
      ],
      "execution_count": 0,
      "outputs": []
    },
    {
      "cell_type": "code",
      "metadata": {
        "id": "3wfb7uf0eqiS",
        "colab_type": "code",
        "outputId": "3a01faad-aa27-4595-8193-ccc582e7625e",
        "colab": {
          "base_uri": "https://localhost:8080/",
          "height": 474
        }
      },
      "source": [
        "class History():\n",
        "  def __init__(self):\n",
        "    self.epochs = []\n",
        "    self.trains = []\n",
        "    self.vals = []\n",
        "    self.batches = []\n",
        "    self.val_batches = []\n",
        "\n",
        "  def __repr__(self)->str:\n",
        "    return f'The train took {round(self.train_end - self.train_start, 1)}\\n' \\\n",
        "      f'Epochs: {self.epochs}\\n' \\\n",
        "      f'Trains: {self.trains}\\n' \\\n",
        "      f'Validations: {self.vals}\\n' \\\n",
        "      f'Batches: {self.batches}\\n' \\\n",
        "      f'Val batches: {self.val_batches}'\n",
        "\n",
        "  class Epoch():\n",
        "    def __init__(self):\n",
        "      self.start = time.time()\n",
        "      self.end = math.nan\n",
        "\n",
        "    def __repr__(self)->str:\n",
        "      return f'{round(self.end - self.start, 1)}'\n",
        "  \n",
        "  class Phrase():\n",
        "    def __init__(self):\n",
        "      self.start = time.time()\n",
        "      self.end = math.nan\n",
        "      self.total_cnt = 0\n",
        "      self.total_loss = 0.\n",
        "      self.total_correct = 0.\n",
        "      self.loss = math.nan\n",
        "      self.accuracy = math.nan\n",
        "\n",
        "    def __repr__(self)->str:\n",
        "      return f'\\n{round(self.end - self.start, 1)}, {self.loss}, {self.accuracy}'\n",
        "\n",
        "  class Batch():\n",
        "    def __init__(self):\n",
        "      self.start = time.time()\n",
        "      self.end = math.nan\n",
        "      self.loss = math.nan\n",
        "      self.accuracy = math.nan\n",
        "\n",
        "    def __repr__(self)->str:\n",
        "      return f'{{{round(self.end - self.start, 1)}, {round(self.loss, 3)}, {round(self.accuracy, 3)},' \\\n",
        "        f'{round(self.lr, 3)}, {round(self.mom,3)}}}\\n'\n",
        "\n",
        "\n",
        "class Recorder(Callback):\n",
        "  def __init__(self):\n",
        "    self.history = History()\n",
        "\n",
        "  def on_train_begin(self, train: Learn.Train):\n",
        "    his = self.history\n",
        "    his.train_start = time.time()\n",
        "    his.train_end = math.nan\n",
        "    his.n_epoch = train.n_epoch\n",
        "  \n",
        "  def on_train_end(self, train: Learn.Train):\n",
        "    his = self.history\n",
        "    his.train_end = time.time()\n",
        "\n",
        "  def on_epoch_begin(self, train: Learn.Train):\n",
        "    his = self.history\n",
        "    his.epochs.append(History.Epoch())\n",
        "\n",
        "  def on_epoch_end(self, train: Learn.Train):\n",
        "    his = self.history\n",
        "    his.epochs[-1].end = time.time()\n",
        "\n",
        "  def on_phrase_begin(self, train: Learn.Train):\n",
        "    his = self.history\n",
        "    phrs = his.trains if train.is_train else his.vals\n",
        "    phrs.append(History.Phrase())\n",
        "\n",
        "  def on_phrase_end(self, train: Learn.Train):\n",
        "    his = self.history\n",
        "    phrs = his.trains if train.is_train else his.vals\n",
        "    phrs[-1].end = time.time()\n",
        "\n",
        "  def on_batch_begin(self, train: Learn.Train):\n",
        "    #if not train.is_train:\n",
        "     # return\n",
        "\n",
        "    his = self.history\n",
        "    batch = History.Batch()\n",
        "    pg = train.opt.param_groups[0]\n",
        "    batch.lr = pg['lr']\n",
        "    if 'momentum' in pg.keys():\n",
        "      batch.mom = pg['momentum']\n",
        "    else:\n",
        "      batch.mom = pg['betas'][0]\n",
        "    \n",
        "    if train.is_train:\n",
        "      his.batches.append(batch)\n",
        "    else:\n",
        "      his.val_batches.append(batch)\n",
        "\n",
        "  def on_batch_end(self, train: Learn.Train, cnt, loss, y_hat, y):\n",
        "    his = self.history\n",
        "    phr = his.trains[-1] if train.is_train else his.vals[-1]\n",
        "\n",
        "    correct = torch.sum(y_hat==y).item()\n",
        "\n",
        "    phr.total_cnt += cnt\n",
        "    phr.total_loss += loss\n",
        "    phr.total_correct += correct\n",
        "    phr.loss = phr.total_loss / phr.total_cnt\n",
        "    phr.accuracy = phr.total_correct / phr.total_cnt\n",
        "\n",
        "    batch = his.batches[-1] if train.is_train else his.val_batches[-1]\n",
        "    batch.end = time.time()\n",
        "    batch.loss = loss\n",
        "    batch.accuracy = correct / cnt\n",
        "\n",
        "###################################################\n",
        "df_pick = pick(128, 64, ['Tee', 'Blouse', 'Top'])\n",
        "tfmt1 = transforms.Compose([\n",
        "         PadToSquare(padding_mode='reflect'),\n",
        "         transforms.Resize(256),\n",
        "         transforms.RandomCrop(224)\n",
        "]);\n",
        "tfmt2 = transforms.Compose([\n",
        "         PadToSquare(padding_mode='reflect'),\n",
        "         transforms.Resize(256),\n",
        "         transforms.CenterCrop(224)\n",
        "]);\n",
        "\n",
        "tfmts = [ tfmt1, tfmt2 ]\n",
        "ds = DataSource('data/data/picked', df_pick, 32, tfmts, num_workers=4)\n",
        "\n",
        "net = models.resnet18(pretrained=True, progress=False)\n",
        "net.fc = nn.Linear(net.fc.in_features, ds.c)\n",
        "\n",
        "criterion = nn.CrossEntropyLoss()\n",
        "\n",
        "opt_func = partial(optim.SGD, lr=0.01, momentum=0.95)\n",
        "\n",
        "#opt_func = partial(optim.Adam, lr=0.001 )\n",
        "# recorder = Recorder()\n",
        "\n",
        "learn = Learn(ds, net, criterion)\n",
        "history = learn.train(1, opt_func)\n",
        "history"
      ],
      "execution_count": 62,
      "outputs": [
        {
          "output_type": "execute_result",
          "data": {
            "text/plain": [
              "The train took 2.6\n",
              "Epochs: [2.6]\n",
              "Trains: [\n",
              "1.7, 0.036842255077014364, 0.4296875]\n",
              "Validations: [\n",
              "0.8, 0.04914194314430157, 0.4270833333333333]\n",
              "Batches: [{0.1, 1.227, 0.375,0.01, 0.95}\n",
              ", {0.1, 1.205, 0.344,0.01, 0.95}\n",
              ", {0.1, 1.217, 0.375,0.01, 0.95}\n",
              ", {0.1, 1.164, 0.375,0.01, 0.95}\n",
              ", {0.1, 1.124, 0.438,0.01, 0.95}\n",
              ", {0.1, 1.124, 0.344,0.01, 0.95}\n",
              ", {0.1, 0.939, 0.531,0.01, 0.95}\n",
              ", {0.1, 1.101, 0.469,0.01, 0.95}\n",
              ", {0.1, 1.164, 0.438,0.01, 0.95}\n",
              ", {0.1, 0.868, 0.562,0.01, 0.95}\n",
              ", {0.1, 1.438, 0.469,0.01, 0.95}\n",
              ", {0.1, 1.577, 0.438,0.01, 0.95}\n",
              "]\n",
              "Val batches: [{0.0, 2.301, 0.219,0.01, 0.95}\n",
              ", {0.0, 2.024, 0.219,0.01, 0.95}\n",
              ", {0.0, 0.154, 1.0,0.01, 0.95}\n",
              ", {0.0, 0.165, 0.969,0.01, 0.95}\n",
              ", {0.0, 2.385, 0.125,0.01, 0.95}\n",
              ", {0.0, 2.407, 0.031,0.01, 0.95}\n",
              "]"
            ]
          },
          "metadata": {
            "tags": []
          },
          "execution_count": 62
        }
      ]
    },
    {
      "cell_type": "code",
      "metadata": {
        "id": "6qqFN4L1VdiP",
        "colab_type": "code",
        "colab": {
          "base_uri": "https://localhost:8080/",
          "height": 351
        },
        "outputId": "2511fdc5-365a-47b9-8c2a-7a201d65c57c"
      },
      "source": [
        "class OneCycleCallback(Callback):\n",
        "  def __init__(self, **kwargs):\n",
        "    self.kwargs = kwargs\n",
        "\n",
        "  def on_train_begin(self, train:Learn.Train):\n",
        "    self.sch = optim.lr_scheduler.OneCycleLR(train.opt, **self.kwargs)\n",
        "  \n",
        "  def on_batch_end(self, train:Learn.Train, cnt, loss, y_hat, y):\n",
        "    if train.is_train:\n",
        "      self.sch.step()\n",
        "\n",
        "################################################################\n",
        "net = models.resnet18(pretrained=True, progress=False)\n",
        "net.fc = nn.Linear(net.fc.in_features, ds.c)\n",
        "\n",
        "criterion = nn.CrossEntropyLoss()\n",
        "\n",
        "opt_func = partial(optim.SGD, lr=0.01, momentum=0.95)\n",
        "\n",
        "#opt_func = partial(optim.Adam, lr=0.01 )\n",
        "\n",
        "sch = OneCycleCallback(max_lr=0.01, total_steps=20)\n",
        "learn = Learn(ds, net, criterion, cbs=sch)\n",
        "history = learn.train(1, opt_func)\n",
        "# train.history\n",
        "history"
      ],
      "execution_count": 44,
      "outputs": [
        {
          "output_type": "execute_result",
          "data": {
            "text/plain": [
              "The train took 2.5\n",
              "Epochs: [2.5]\n",
              "Trains: [\n",
              "1.6, 0.038465349934995174, 0.3828125]\n",
              "Validations: [\n",
              "0.8, 0.031377969309687614, 0.5364583333333334]\n",
              "Batches: [{0.1, 0.038, 0.375,0.0, 0.95}\n",
              ", {0.1, 0.04, 0.297,0.001, 0.94}\n",
              ", {0.1, 0.039, 0.302,0.004, 0.915}\n",
              ", {0.1, 0.039, 0.336,0.007, 0.885}\n",
              ", {0.1, 0.04, 0.344,0.009, 0.86}\n",
              ", {0.1, 0.041, 0.349,0.01, 0.85}\n",
              ", {0.1, 0.04, 0.348,0.01, 0.851}\n",
              ", {0.1, 0.04, 0.352,0.01, 0.855}\n",
              ", {0.1, 0.04, 0.351,0.009, 0.861}\n",
              ", {0.1, 0.039, 0.369,0.008, 0.869}\n",
              ", {0.1, 0.039, 0.366,0.007, 0.878}\n",
              ", {0.1, 0.038, 0.383,0.006, 0.889}\n",
              "]"
            ]
          },
          "metadata": {
            "tags": []
          },
          "execution_count": 44
        }
      ]
    },
    {
      "cell_type": "code",
      "metadata": {
        "id": "9_3HZE8axULp",
        "colab_type": "code",
        "colab": {
          "base_uri": "https://localhost:8080/",
          "height": 1000
        },
        "outputId": "98a72023-ba4f-4661-c641-a7fca141e00c"
      },
      "source": [
        "################################################################\n",
        "net = models.resnet18(pretrained=True, progress=False)\n",
        "net.fc = nn.Linear(net.fc.in_features, ds.c)\n",
        "\n",
        "criterion = nn.CrossEntropyLoss()\n",
        "\n",
        "#opt_func = partial(optim.SGD, lr=0.01, momentum=0.95)\n",
        "\n",
        "opt_func = partial(optim.Adam, lr=0.01 )\n",
        "\n",
        "sch = OneCycleCallback(max_lr=0.01, total_steps=60)\n",
        "learn = Learn(ds, net, criterion, cbs=sch)\n",
        "history = learn.train(5, opt_func)\n",
        "# train.history\n",
        "history"
      ],
      "execution_count": 60,
      "outputs": [
        {
          "output_type": "execute_result",
          "data": {
            "text/plain": [
              "The train took 12.8\n",
              "Epochs: [2.6, 2.6, 2.5, 2.6, 2.5]\n",
              "Trains: [\n",
              "1.7, 0.04964224171514312, 0.3984375, \n",
              "1.7, 0.0432852478697896, 0.3567708333333333, \n",
              "1.6, 0.04703577049076557, 0.3567708333333333, \n",
              "1.7, 0.03626201922694842, 0.3489583333333333, \n",
              "1.7, 0.03627415467053652, 0.3333333333333333]\n",
              "Validations: [\n",
              "0.9, 225.64027150472006, 0.3333333333333333, \n",
              "0.9, 26.855321566263836, 0.3333333333333333, \n",
              "0.8, 0.17530723381787539, 0.3489583333333333, \n",
              "0.9, 0.05086064555992683, 0.328125, \n",
              "0.8, 0.0385938041533033, 0.3229166666666667]\n",
              "Batches: [{0.1, 1.419, 0.219,0.0, 0.95}\n",
              ", {0.1, 1.098, 0.469,0.0, 0.949}\n",
              ", {0.1, 0.827, 0.531,0.001, 0.947}\n",
              ", {0.1, 1.35, 0.344,0.001, 0.943}\n",
              ", {0.1, 1.642, 0.438,0.002, 0.937}\n",
              ", {0.1, 1.795, 0.312,0.002, 0.93}\n",
              ", {0.1, 1.664, 0.438,0.003, 0.922}\n",
              ", {0.1, 1.472, 0.5,0.004, 0.914}\n",
              ", {0.1, 2.897, 0.281,0.005, 0.905}\n",
              ", {0.1, 1.765, 0.375,0.006, 0.895}\n",
              ", {0.1, 1.649, 0.5,0.007, 0.886}\n",
              ", {0.1, 1.485, 0.375,0.007, 0.878}\n",
              ", {0.1, 1.059, 0.469,0.008, 0.87}\n",
              ", {0.1, 1.78, 0.344,0.009, 0.863}\n",
              ", {0.1, 1.828, 0.344,0.009, 0.857}\n",
              ", {0.1, 1.16, 0.438,0.01, 0.853}\n",
              ", {0.1, 1.263, 0.281,0.01, 0.851}\n",
              ", {0.1, 1.337, 0.219,0.01, 0.85}\n",
              ", {0.1, 1.236, 0.438,0.01, 0.85}\n",
              ", {0.1, 1.869, 0.281,0.01, 0.851}\n",
              ", {0.1, 1.259, 0.312,0.01, 0.851}\n",
              ", {0.1, 1.213, 0.438,0.01, 0.852}\n",
              ", {0.1, 1.455, 0.375,0.01, 0.853}\n",
              ", {0.1, 1.163, 0.344,0.01, 0.855}\n",
              ", {0.1, 1.224, 0.375,0.009, 0.857}\n",
              ", {0.1, 1.802, 0.25,0.009, 0.859}\n",
              ", {0.1, 1.912, 0.25,0.009, 0.861}\n",
              ", {0.1, 1.544, 0.344,0.009, 0.863}\n",
              ", {0.1, 1.265, 0.406,0.008, 0.866}\n",
              ", {0.1, 2.431, 0.375,0.008, 0.869}\n",
              ", {0.1, 1.593, 0.281,0.008, 0.872}\n",
              ", {0.1, 1.142, 0.438,0.008, 0.875}\n",
              ", {0.1, 1.007, 0.5,0.007, 0.878}\n",
              ", {0.1, 1.167, 0.5,0.007, 0.882}\n",
              ", {0.1, 1.352, 0.281,0.006, 0.885}\n",
              ", {0.1, 1.622, 0.281,0.006, 0.889}\n",
              ", {0.1, 1.058, 0.438,0.006, 0.893}\n",
              ", {0.1, 1.107, 0.375,0.005, 0.896}\n",
              ", {0.1, 1.176, 0.438,0.005, 0.9}\n",
              ", {0.1, 1.213, 0.281,0.005, 0.904}\n",
              ", {0.1, 1.223, 0.344,0.004, 0.907}\n",
              ", {0.1, 1.192, 0.438,0.004, 0.911}\n",
              ", {0.1, 1.221, 0.281,0.004, 0.915}\n",
              ", {0.1, 1.139, 0.344,0.003, 0.918}\n",
              ", {0.1, 1.202, 0.25,0.003, 0.922}\n",
              ", {0.1, 1.127, 0.406,0.003, 0.925}\n",
              ", {0.1, 1.134, 0.25,0.002, 0.928}\n",
              ", {0.1, 1.133, 0.344,0.002, 0.931}\n",
              ", {0.1, 1.03, 0.5,0.002, 0.934}\n",
              ", {0.1, 1.226, 0.281,0.001, 0.937}\n",
              ", {0.1, 1.253, 0.25,0.001, 0.939}\n",
              ", {0.1, 1.138, 0.438,0.001, 0.941}\n",
              ", {0.1, 1.209, 0.125,0.001, 0.943}\n",
              ", {0.1, 1.132, 0.312,0.0, 0.945}\n",
              ", {0.1, 1.185, 0.312,0.0, 0.947}\n",
              ", {0.1, 1.137, 0.5,0.0, 0.948}\n",
              ", {0.1, 1.13, 0.312,0.0, 0.949}\n",
              ", {0.1, 1.213, 0.25,0.0, 0.949}\n",
              ", {0.1, 1.139, 0.406,0.0, 0.95}\n",
              ", {0.1, 1.138, 0.312,0.0, 0.95}\n",
              "]\n",
              "Val batches: [{0.0, 21811.17, 0.0,0.008, 0.87}\n",
              ", {0.0, 17973.004, 0.0,0.008, 0.87}\n",
              ", {0.0, 0.0, 1.0,0.008, 0.87}\n",
              ", {0.0, 0.0, 1.0,0.008, 0.87}\n",
              ", {0.0, 1975.921, 0.0,0.008, 0.87}\n",
              ", {0.0, 1562.837, 0.0,0.008, 0.87}\n",
              ", {0.0, 1424.745, 0.0,0.009, 0.857}\n",
              ", {0.0, 2086.183, 0.0,0.009, 0.857}\n",
              ", {0.0, 805.261, 0.0,0.009, 0.857}\n",
              ", {0.0, 840.032, 0.0,0.009, 0.857}\n",
              ", {0.0, 0.0, 1.0,0.009, 0.857}\n",
              ", {0.0, 0.0, 1.0,0.009, 0.857}\n",
              ", {0.0, 0.903, 0.719,0.006, 0.893}\n",
              ", {0.0, 0.688, 0.844,0.006, 0.893}\n",
              ", {0.0, 1.315, 0.219,0.006, 0.893}\n",
              ", {0.0, 1.09, 0.312,0.006, 0.893}\n",
              ", {0.0, 14.786, 0.0,0.006, 0.893}\n",
              ", {0.0, 14.877, 0.0,0.006, 0.893}\n",
              ", {0.0, 2.309, 0.0,0.002, 0.934}\n",
              ", {0.0, 2.37, 0.0,0.002, 0.934}\n",
              ", {0.0, 1.546, 0.0,0.002, 0.934}\n",
              ", {0.0, 2.216, 0.0,0.002, 0.934}\n",
              ", {0.0, 0.644, 1.0,0.002, 0.934}\n",
              ", {0.0, 0.68, 0.969,0.002, 0.934}\n",
              ", {0.0, 1.68, 0.0,0.0, 0.95}\n",
              ", {0.0, 1.749, 0.0,0.0, 0.95}\n",
              ", {0.0, 1.068, 0.031,0.0, 0.95}\n",
              ", {0.0, 1.107, 0.031,0.0, 0.95}\n",
              ", {0.0, 0.887, 0.969,0.0, 0.95}\n",
              ", {0.0, 0.918, 0.906,0.0, 0.95}\n",
              "]"
            ]
          },
          "metadata": {
            "tags": []
          },
          "execution_count": 60
        }
      ]
    },
    {
      "cell_type": "code",
      "metadata": {
        "id": "oEWVbhSirG0-",
        "colab_type": "code",
        "colab": {}
      },
      "source": [
        "\n"
      ],
      "execution_count": 0,
      "outputs": []
    }
  ]
}