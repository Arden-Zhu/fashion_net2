{
  "nbformat": 4,
  "nbformat_minor": 0,
  "metadata": {
    "colab": {
      "name": "A classifier.ipynb",
      "provenance": [],
      "collapsed_sections": [],
      "toc_visible": true,
      "authorship_tag": "ABX9TyNkDVF2WYgRcxQKzM1/eEDd",
      "include_colab_link": true
    },
    "kernelspec": {
      "name": "python3",
      "display_name": "Python 3"
    },
    "accelerator": "GPU"
  },
  "cells": [
    {
      "cell_type": "markdown",
      "metadata": {
        "id": "view-in-github",
        "colab_type": "text"
      },
      "source": [
        "<a href=\"https://colab.research.google.com/github/Arden-Zhu/fashion_net2/blob/master/A_classifier.ipynb\" target=\"_parent\"><img src=\"https://colab.research.google.com/assets/colab-badge.svg\" alt=\"Open In Colab\"/></a>"
      ]
    },
    {
      "cell_type": "code",
      "metadata": {
        "id": "QlDfLWgrAorR",
        "colab_type": "code",
        "colab": {}
      },
      "source": [
        "%matplotlib inline\n",
        "%reload_ext autoreload\n",
        "%autoreload 1"
      ],
      "execution_count": 0,
      "outputs": []
    },
    {
      "cell_type": "code",
      "metadata": {
        "id": "QkG6SGKsA0Ts",
        "colab_type": "code",
        "colab": {}
      },
      "source": [
        "import os\n",
        "import time\n",
        "import numpy as np\n",
        "import pandas as pd\n",
        "import matplotlib.pyplot as plt\n",
        "from torch.utils.data import Dataset, DataLoader\n",
        "from skimage import io"
      ],
      "execution_count": 0,
      "outputs": []
    },
    {
      "cell_type": "code",
      "metadata": {
        "id": "A9FDiSV0Bzky",
        "colab_type": "code",
        "colab": {
          "base_uri": "https://localhost:8080/",
          "height": 124
        },
        "outputId": "485f48d4-e935-4c8f-a88f-0e1b1c7da8e9"
      },
      "source": [
        "from google.colab import drive\n",
        "drive.mount('/content/gdrive', force_remount=True)\n",
        "my_drive_dir = \"/content/gdrive/My Drive/Machine Learning\""
      ],
      "execution_count": 12,
      "outputs": [
        {
          "output_type": "stream",
          "text": [
            "Go to this URL in a browser: https://accounts.google.com/o/oauth2/auth?client_id=947318989803-6bn6qk8qdgf4n4g3pfee6491hc0brc4i.apps.googleusercontent.com&redirect_uri=urn%3aietf%3awg%3aoauth%3a2.0%3aoob&response_type=code&scope=email%20https%3a%2f%2fwww.googleapis.com%2fauth%2fdocs.test%20https%3a%2f%2fwww.googleapis.com%2fauth%2fdrive%20https%3a%2f%2fwww.googleapis.com%2fauth%2fdrive.photos.readonly%20https%3a%2f%2fwww.googleapis.com%2fauth%2fpeopleapi.readonly\n",
            "\n",
            "Enter your authorization code:\n",
            "··········\n",
            "Mounted at /content/gdrive\n"
          ],
          "name": "stdout"
        }
      ]
    },
    {
      "cell_type": "markdown",
      "metadata": {
        "id": "R-TiYxxrMnjr",
        "colab_type": "text"
      },
      "source": [
        "## prepare images"
      ]
    },
    {
      "cell_type": "code",
      "metadata": {
        "id": "84p9GG4gLghA",
        "colab_type": "code",
        "colab": {
          "base_uri": "https://localhost:8080/",
          "height": 35
        },
        "outputId": "e8593b20-e28c-4272-d29a-c285c94da94c"
      },
      "source": [
        "since = time.time()\n",
        "data_source_dir = os.path.join(my_drive_dir, 'Datasets\\DeepFashion\\Category and Attribute Prediction Benchmark'.replace('\\\\', '/'))\n",
        "tar_file = os.path.join(data_source_dir, 'picked.tar')\n",
        "if not os.path.exists('data'):\n",
        "  os.mkdir('data')\n",
        "! tar xf \"{tar_file}\" -C data/\n",
        "print('%.3f' % (time.time() - since))"
      ],
      "execution_count": 18,
      "outputs": [
        {
          "output_type": "stream",
          "text": [
            "3.823\n"
          ],
          "name": "stdout"
        }
      ]
    },
    {
      "cell_type": "code",
      "metadata": {
        "id": "TOAbXRHFMyR1",
        "colab_type": "code",
        "colab": {
          "base_uri": "https://localhost:8080/",
          "height": 202
        },
        "outputId": "39027fef-a841-4e54-e8ba-efa517ad8f3d"
      },
      "source": [
        "csv_file = os.path.join(data_source_dir, 'picked.csv')\n",
        "df = pd.read_csv(csv_file, index_col=0)\n",
        "df = df.loc[:, ['file', 'category_name', 'category_id']]\n",
        "df['file'] = df.apply(lambda m: m.file[4:], axis=1)\n",
        "df.head()"
      ],
      "execution_count": 20,
      "outputs": [
        {
          "output_type": "execute_result",
          "data": {
            "text/html": [
              "<div>\n",
              "<style scoped>\n",
              "    .dataframe tbody tr th:only-of-type {\n",
              "        vertical-align: middle;\n",
              "    }\n",
              "\n",
              "    .dataframe tbody tr th {\n",
              "        vertical-align: top;\n",
              "    }\n",
              "\n",
              "    .dataframe thead th {\n",
              "        text-align: right;\n",
              "    }\n",
              "</style>\n",
              "<table border=\"1\" class=\"dataframe\">\n",
              "  <thead>\n",
              "    <tr style=\"text-align: right;\">\n",
              "      <th></th>\n",
              "      <th>file</th>\n",
              "      <th>category_name</th>\n",
              "      <th>category_id</th>\n",
              "    </tr>\n",
              "  </thead>\n",
              "  <tbody>\n",
              "    <tr>\n",
              "      <th>23063</th>\n",
              "      <td>Kimono-Sleeved_Paisley_Blouse/img_00000121.jpg</td>\n",
              "      <td>Blouse</td>\n",
              "      <td>3</td>\n",
              "    </tr>\n",
              "    <tr>\n",
              "      <th>30780</th>\n",
              "      <td>Boxy_Chiffon_Pocket_Blouse/img_00000056.jpg</td>\n",
              "      <td>Blouse</td>\n",
              "      <td>3</td>\n",
              "    </tr>\n",
              "    <tr>\n",
              "      <th>13998</th>\n",
              "      <td>Crochet_Lace-Paneled_Blouse/img_00000035.jpg</td>\n",
              "      <td>Blouse</td>\n",
              "      <td>3</td>\n",
              "    </tr>\n",
              "    <tr>\n",
              "      <th>123023</th>\n",
              "      <td>New_York_City_Pocket_Tee/img_00000012.jpg</td>\n",
              "      <td>Tee</td>\n",
              "      <td>18</td>\n",
              "    </tr>\n",
              "    <tr>\n",
              "      <th>21889</th>\n",
              "      <td>Georgette_Tulip_Back_Blouse/img_00000029.jpg</td>\n",
              "      <td>Blouse</td>\n",
              "      <td>3</td>\n",
              "    </tr>\n",
              "  </tbody>\n",
              "</table>\n",
              "</div>"
            ],
            "text/plain": [
              "                                                  file  ... category_id\n",
              "23063   Kimono-Sleeved_Paisley_Blouse/img_00000121.jpg  ...           3\n",
              "30780      Boxy_Chiffon_Pocket_Blouse/img_00000056.jpg  ...           3\n",
              "13998     Crochet_Lace-Paneled_Blouse/img_00000035.jpg  ...           3\n",
              "123023       New_York_City_Pocket_Tee/img_00000012.jpg  ...          18\n",
              "21889     Georgette_Tulip_Back_Blouse/img_00000029.jpg  ...           3\n",
              "\n",
              "[5 rows x 3 columns]"
            ]
          },
          "metadata": {
            "tags": []
          },
          "execution_count": 20
        }
      ]
    },
    {
      "cell_type": "code",
      "metadata": {
        "id": "kS4rD0a9THTh",
        "colab_type": "code",
        "colab": {
          "base_uri": "https://localhost:8080/",
          "height": 369
        },
        "outputId": "31dd0385-70f6-4bcf-a63d-b98d6e387011"
      },
      "source": [
        "df2 = df.head(3)\n",
        "df2.columns=['file', 'type', 'label']\n",
        "df2['type'] = ['train', 'test', 'train']\n",
        "df2['label'] = ['a', 'b', 'c']\n",
        "df2.head()"
      ],
      "execution_count": 46,
      "outputs": [
        {
          "output_type": "stream",
          "text": [
            "/usr/local/lib/python3.6/dist-packages/ipykernel_launcher.py:3: SettingWithCopyWarning: \n",
            "A value is trying to be set on a copy of a slice from a DataFrame.\n",
            "Try using .loc[row_indexer,col_indexer] = value instead\n",
            "\n",
            "See the caveats in the documentation: http://pandas.pydata.org/pandas-docs/stable/user_guide/indexing.html#returning-a-view-versus-a-copy\n",
            "  This is separate from the ipykernel package so we can avoid doing imports until\n",
            "/usr/local/lib/python3.6/dist-packages/ipykernel_launcher.py:4: SettingWithCopyWarning: \n",
            "A value is trying to be set on a copy of a slice from a DataFrame.\n",
            "Try using .loc[row_indexer,col_indexer] = value instead\n",
            "\n",
            "See the caveats in the documentation: http://pandas.pydata.org/pandas-docs/stable/user_guide/indexing.html#returning-a-view-versus-a-copy\n",
            "  after removing the cwd from sys.path.\n"
          ],
          "name": "stderr"
        },
        {
          "output_type": "execute_result",
          "data": {
            "text/html": [
              "<div>\n",
              "<style scoped>\n",
              "    .dataframe tbody tr th:only-of-type {\n",
              "        vertical-align: middle;\n",
              "    }\n",
              "\n",
              "    .dataframe tbody tr th {\n",
              "        vertical-align: top;\n",
              "    }\n",
              "\n",
              "    .dataframe thead th {\n",
              "        text-align: right;\n",
              "    }\n",
              "</style>\n",
              "<table border=\"1\" class=\"dataframe\">\n",
              "  <thead>\n",
              "    <tr style=\"text-align: right;\">\n",
              "      <th></th>\n",
              "      <th>file</th>\n",
              "      <th>type</th>\n",
              "      <th>label</th>\n",
              "    </tr>\n",
              "  </thead>\n",
              "  <tbody>\n",
              "    <tr>\n",
              "      <th>23063</th>\n",
              "      <td>Kimono-Sleeved_Paisley_Blouse/img_00000121.jpg</td>\n",
              "      <td>train</td>\n",
              "      <td>a</td>\n",
              "    </tr>\n",
              "    <tr>\n",
              "      <th>30780</th>\n",
              "      <td>Boxy_Chiffon_Pocket_Blouse/img_00000056.jpg</td>\n",
              "      <td>test</td>\n",
              "      <td>b</td>\n",
              "    </tr>\n",
              "    <tr>\n",
              "      <th>13998</th>\n",
              "      <td>Crochet_Lace-Paneled_Blouse/img_00000035.jpg</td>\n",
              "      <td>train</td>\n",
              "      <td>c</td>\n",
              "    </tr>\n",
              "  </tbody>\n",
              "</table>\n",
              "</div>"
            ],
            "text/plain": [
              "                                                 file   type label\n",
              "23063  Kimono-Sleeved_Paisley_Blouse/img_00000121.jpg  train     a\n",
              "30780     Boxy_Chiffon_Pocket_Blouse/img_00000056.jpg   test     b\n",
              "13998    Crochet_Lace-Paneled_Blouse/img_00000035.jpg  train     c"
            ]
          },
          "metadata": {
            "tags": []
          },
          "execution_count": 46
        }
      ]
    },
    {
      "cell_type": "markdown",
      "metadata": {
        "id": "7t5JDRDEB-pt",
        "colab_type": "text"
      },
      "source": [
        "## load data"
      ]
    },
    {
      "cell_type": "code",
      "metadata": {
        "id": "tg4kGk8YGh7J",
        "colab_type": "code",
        "colab": {
          "base_uri": "https://localhost:8080/",
          "height": 297
        },
        "outputId": "aab918ae-5f29-473f-e4c7-5225fa9d1cc1"
      },
      "source": [
        "class ImageDataset(Dataset):\n",
        "  '''\n",
        "  a dataset provides (image, label)\n",
        "  '''\n",
        "  def __init__(self, path:str, image_files, labels, transform=None):\n",
        "    self.path = path\n",
        "    self.image_files = image_files\n",
        "    self.labels = labels\n",
        "    self.transform = transform\n",
        "    assert(len(image_files) == len(labels))\n",
        "\n",
        "  def __len__(self):\n",
        "    return len(self.labels)\n",
        "  \n",
        "  def __getitem__(self, idx):\n",
        "    file = os.path.join(self.path, self.image_files[idx])\n",
        "    image = io.imread(file)\n",
        "    label = self.labels[idx]\n",
        "\n",
        "    if self.transform:\n",
        "      image = self.transform(image)\n",
        "\n",
        "    return (image, label)\n",
        "\n",
        "##############################\n",
        "image_ds = ImageDataset('data/data/picked', ['New_York_City_Pocket_Tee/img_00000012.jpg'], ['Tee'])\n",
        "assert(len(image_ds) == 1)\n",
        "(image, label) = image_ds[0]\n",
        "assert(label == 'Tee')    \n",
        "io.imshow(image)\n",
        "plt.show()"
      ],
      "execution_count": 32,
      "outputs": [
        {
          "output_type": "display_data",
          "data": {
            "image/png": "[encoded data removed]",
            "text/plain": [
              "<Figure size 432x288 with 1 Axes>"
            ]
          },
          "metadata": {
            "tags": []
          }
        }
      ]
    },
    {
      "cell_type": "code",
      "metadata": {
        "id": "eFP0iVWwCDtQ",
        "colab_type": "code",
        "colab": {
          "base_uri": "https://localhost:8080/",
          "height": 35
        },
        "outputId": "9cadb662-db31-4248-b084-1dc51beaf1e7"
      },
      "source": [
        "class DataSource():\n",
        "  '''\n",
        "  train_dl\n",
        "  test_dl\n",
        "  train_ds\n",
        "  test_dl\n",
        "  '''\n",
        "  def __init__(self, path:str, df:pd.DataFrame, bs:int, transform=None, \n",
        "               num_workers=0):\n",
        "      '''\n",
        "      path : path of images\n",
        "      df : DataFrame with file, label, type\n",
        "      '''\n",
        "      is_train = df.type == 'train'\n",
        "      self.train_ds = ImageDataset(path, df[is_train]['file'].values, df[is_train]['label'].values, transform)\n",
        "      self.test_ds = ImageDataset(path, df[~is_train]['file'].values, df[~is_train]['label'].values, transform)\n",
        "\n",
        "      self.train_dl = DataLoader(self.train_ds, batch_size=bs, shuffle=True, \n",
        "                                 num_workers=num_workers)\n",
        "      \n",
        "      self.test_dl = DataLoader(self.train_ds, batch_size=bs, shuffle=False, \n",
        "                                 num_workers=num_workers)\n",
        "\n",
        "############################################################################\n",
        "ds = DataSource('data/data/picked', df2, 2)\n",
        "assert(len(ds.train_ds) == 2)\n",
        "assert(len(ds.test_ds) == 1)\n",
        "assert(ds.test_ds[0][1] == 'b')\n",
        "\n",
        "for (image, label) in ds.train_dl:\n",
        "  print(label)"
      ],
      "execution_count": 49,
      "outputs": [
        {
          "output_type": "stream",
          "text": [
            "('a', 'c')\n"
          ],
          "name": "stdout"
        }
      ]
    }
  ]
}