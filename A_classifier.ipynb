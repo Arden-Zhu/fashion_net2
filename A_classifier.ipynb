{
  "nbformat": 4,
  "nbformat_minor": 0,
  "metadata": {
    "colab": {
      "name": "A classifier.ipynb",
      "provenance": [],
      "collapsed_sections": [],
      "include_colab_link": true
    },
    "kernelspec": {
      "name": "python3",
      "display_name": "Python 3"
    },
    "accelerator": "GPU"
  },
  "cells": [
    {
      "cell_type": "markdown",
      "metadata": {
        "id": "view-in-github",
        "colab_type": "text"
      },
      "source": [
        "<a href=\"https://colab.research.google.com/github/Arden-Zhu/fashion_net2/blob/master/A_classifier.ipynb\" target=\"_parent\"><img src=\"https://colab.research.google.com/assets/colab-badge.svg\" alt=\"Open In Colab\"/></a>"
      ]
    },
    {
      "cell_type": "code",
      "metadata": {
        "id": "QlDfLWgrAorR",
        "colab_type": "code",
        "colab": {}
      },
      "source": [
        "%matplotlib inline\n",
        "%reload_ext autoreload\n",
        "%autoreload 1"
      ],
      "execution_count": 0,
      "outputs": []
    },
    {
      "cell_type": "code",
      "metadata": {
        "id": "QkG6SGKsA0Ts",
        "colab_type": "code",
        "colab": {}
      },
      "source": [
        "import os\n",
        "import time\n",
        "from typing import *\n",
        "import math\n",
        "from functools import partial\n",
        "import numpy as np\n",
        "import pandas as pd\n",
        "import matplotlib.pyplot as plt\n",
        "import torch\n",
        "import torchvision.transforms.functional as TF\n",
        "import torch.nn as nn\n",
        "import torch.optim as optim\n",
        "from torch.utils.data import Dataset, DataLoader\n",
        "from torchvision import transforms, models\n",
        "from PIL import Image\n",
        "from IPython.display import display \n"
      ],
      "execution_count": 0,
      "outputs": []
    },
    {
      "cell_type": "code",
      "metadata": {
        "id": "A9FDiSV0Bzky",
        "colab_type": "code",
        "outputId": "6cdc625e-8690-42c8-bab4-dd0360e5e51a",
        "colab": {
          "base_uri": "https://localhost:8080/",
          "height": 128
        }
      },
      "source": [
        "from google.colab import drive\n",
        "drive.mount('/content/gdrive', force_remount=True)\n",
        "my_drive_dir = \"/content/gdrive/My Drive/Machine Learning\""
      ],
      "execution_count": 3,
      "outputs": [
        {
          "output_type": "stream",
          "text": [
            "Go to this URL in a browser: https://accounts.google.com/o/oauth2/auth?client_id=947318989803-6bn6qk8qdgf4n4g3pfee6491hc0brc4i.apps.googleusercontent.com&redirect_uri=urn%3aietf%3awg%3aoauth%3a2.0%3aoob&response_type=code&scope=email%20https%3a%2f%2fwww.googleapis.com%2fauth%2fdocs.test%20https%3a%2f%2fwww.googleapis.com%2fauth%2fdrive%20https%3a%2f%2fwww.googleapis.com%2fauth%2fdrive.photos.readonly%20https%3a%2f%2fwww.googleapis.com%2fauth%2fpeopleapi.readonly\n",
            "\n",
            "Enter your authorization code:\n",
            "··········\n",
            "Mounted at /content/gdrive\n"
          ],
          "name": "stdout"
        }
      ]
    },
    {
      "cell_type": "markdown",
      "metadata": {
        "id": "8FO81CyAKL-c",
        "colab_type": "text"
      },
      "source": [
        "## Helper functions"
      ]
    },
    {
      "cell_type": "code",
      "metadata": {
        "id": "s6Cxrd84KOF5",
        "colab_type": "code",
        "colab": {}
      },
      "source": [
        "def is_listy(x:Any)->bool: return isinstance(x, (tuple,list))\n",
        "def is_tuple(x:Any)->bool: return isinstance(x, tuple)\n",
        "def is_dict(x:Any)->bool: return isinstance(x, dict)\n",
        "\n",
        "\n",
        "def listify(p, q=None):\n",
        "    \"Make `p` listy and the same length as `q`.\"\n",
        "    if p is None: p=[]\n",
        "    elif isinstance(p, str):          p = [p]\n",
        "    elif not isinstance(p, Iterable): p = [p]\n",
        "    #Rank 0 tensors in PyTorch are Iterable but don't have a length.\n",
        "    else:\n",
        "        try: a = len(p)\n",
        "        except: p = [p]\n",
        "    n = q if type(q)==int else len(p) if q is None else len(q)\n",
        "    if len(p)==1: p = p * n\n",
        "    assert len(p)==n, f'List len mismatch ({len(p)} vs {n})'\n",
        "    return list(p)\n",
        "\n",
        "def range_of(x):\n",
        "    \"Create a range from 0 to `len(x)`.\"\n",
        "    return list(range(len(x)))\n",
        "\n",
        "def ifnone(a:Any,b:Any)->Any:\n",
        "    \"`a` if `a` is not None, otherwise `b`.\"\n",
        "    return b if a is None else a\n"
      ],
      "execution_count": 0,
      "outputs": []
    },
    {
      "cell_type": "markdown",
      "metadata": {
        "id": "R-TiYxxrMnjr",
        "colab_type": "text"
      },
      "source": [
        "## prepare images"
      ]
    },
    {
      "cell_type": "code",
      "metadata": {
        "id": "84p9GG4gLghA",
        "colab_type": "code",
        "outputId": "7db2cdb9-32c5-488b-9c72-3f8d0b663334",
        "colab": {
          "base_uri": "https://localhost:8080/",
          "height": 0
        }
      },
      "source": [
        "since = time.time()\n",
        "data_source_dir = os.path.join(my_drive_dir, 'Datasets\\DeepFashion\\Category and Attribute Prediction Benchmark'.replace('\\\\', '/'))\n",
        "tar_file = os.path.join(data_source_dir, 'picked.tar')\n",
        "if not os.path.exists('data'):\n",
        "  os.mkdir('data')\n",
        "! tar xf \"{tar_file}\" -C data/\n",
        "print('%.3f' % (time.time() - since))"
      ],
      "execution_count": 5,
      "outputs": [
        {
          "output_type": "stream",
          "text": [
            "13.936\n"
          ],
          "name": "stdout"
        }
      ]
    },
    {
      "cell_type": "code",
      "metadata": {
        "id": "TOAbXRHFMyR1",
        "colab_type": "code",
        "outputId": "54b143ff-c05b-4811-8e60-31811e6f5677",
        "colab": {
          "base_uri": "https://localhost:8080/",
          "height": 0
        }
      },
      "source": [
        "csv_file = os.path.join(data_source_dir, 'picked.csv')\n",
        "df = pd.read_csv(csv_file, index_col=0)\n",
        "df = df.loc[:, ['file', 'category_name', 'category_id']]\n",
        "df['file'] = df.apply(lambda m: m.file[4:], axis=1)\n",
        "df.head()"
      ],
      "execution_count": 6,
      "outputs": [
        {
          "output_type": "execute_result",
          "data": {
            "text/html": [
              "<div>\n",
              "<style scoped>\n",
              "    .dataframe tbody tr th:only-of-type {\n",
              "        vertical-align: middle;\n",
              "    }\n",
              "\n",
              "    .dataframe tbody tr th {\n",
              "        vertical-align: top;\n",
              "    }\n",
              "\n",
              "    .dataframe thead th {\n",
              "        text-align: right;\n",
              "    }\n",
              "</style>\n",
              "<table border=\"1\" class=\"dataframe\">\n",
              "  <thead>\n",
              "    <tr style=\"text-align: right;\">\n",
              "      <th></th>\n",
              "      <th>file</th>\n",
              "      <th>category_name</th>\n",
              "      <th>category_id</th>\n",
              "    </tr>\n",
              "  </thead>\n",
              "  <tbody>\n",
              "    <tr>\n",
              "      <th>23063</th>\n",
              "      <td>Kimono-Sleeved_Paisley_Blouse/img_00000121.jpg</td>\n",
              "      <td>Blouse</td>\n",
              "      <td>3</td>\n",
              "    </tr>\n",
              "    <tr>\n",
              "      <th>30780</th>\n",
              "      <td>Boxy_Chiffon_Pocket_Blouse/img_00000056.jpg</td>\n",
              "      <td>Blouse</td>\n",
              "      <td>3</td>\n",
              "    </tr>\n",
              "    <tr>\n",
              "      <th>13998</th>\n",
              "      <td>Crochet_Lace-Paneled_Blouse/img_00000035.jpg</td>\n",
              "      <td>Blouse</td>\n",
              "      <td>3</td>\n",
              "    </tr>\n",
              "    <tr>\n",
              "      <th>123023</th>\n",
              "      <td>New_York_City_Pocket_Tee/img_00000012.jpg</td>\n",
              "      <td>Tee</td>\n",
              "      <td>18</td>\n",
              "    </tr>\n",
              "    <tr>\n",
              "      <th>21889</th>\n",
              "      <td>Georgette_Tulip_Back_Blouse/img_00000029.jpg</td>\n",
              "      <td>Blouse</td>\n",
              "      <td>3</td>\n",
              "    </tr>\n",
              "  </tbody>\n",
              "</table>\n",
              "</div>"
            ],
            "text/plain": [
              "                                                  file  ... category_id\n",
              "23063   Kimono-Sleeved_Paisley_Blouse/img_00000121.jpg  ...           3\n",
              "30780      Boxy_Chiffon_Pocket_Blouse/img_00000056.jpg  ...           3\n",
              "13998     Crochet_Lace-Paneled_Blouse/img_00000035.jpg  ...           3\n",
              "123023       New_York_City_Pocket_Tee/img_00000012.jpg  ...          18\n",
              "21889     Georgette_Tulip_Back_Blouse/img_00000029.jpg  ...           3\n",
              "\n",
              "[5 rows x 3 columns]"
            ]
          },
          "metadata": {
            "tags": []
          },
          "execution_count": 6
        }
      ]
    },
    {
      "cell_type": "code",
      "metadata": {
        "id": "ZGRNynXrssHA",
        "colab_type": "code",
        "outputId": "c2b546a9-54dc-4929-b153-7eef6c63f113",
        "colab": {
          "base_uri": "https://localhost:8080/",
          "height": 0
        }
      },
      "source": [
        "def pick(n_train, n_val, categories):\n",
        "  df_pick = pd.DataFrame(columns=['file', 'label', 'type'])\n",
        "\n",
        "  for cat in categories:\n",
        "    indexes = df.loc[df.category_name == cat].index.values\n",
        "    indexes = np.random.permutation(indexes)\n",
        "\n",
        "    # trainset\n",
        "    df_slice = df.loc[indexes[:n_train]].loc[:, ['file', 'category_name']]\n",
        "    df_slice.columns = ['file', 'label']\n",
        "    df_slice['type'] = 'train'\n",
        "\n",
        "    df_pick = pd.concat([df_pick, df_slice])\n",
        "    # valset\n",
        "    df_slice = df.loc[indexes[n_train:n_train + n_val]].loc[:, ['file', 'category_name']]\n",
        "    df_slice.columns = ['file', 'label']\n",
        "    df_slice['type'] = 'val'\n",
        "    df_pick = pd.concat([df_pick, df_slice])\n",
        "\n",
        "  return df_pick\n",
        "\n",
        "#############\n",
        "df_pick = pick(2, 1, ['Tee', 'Blouse', 'Top'])\n",
        "df_pick.head(10)\n"
      ],
      "execution_count": 7,
      "outputs": [
        {
          "output_type": "execute_result",
          "data": {
            "text/html": [
              "<div>\n",
              "<style scoped>\n",
              "    .dataframe tbody tr th:only-of-type {\n",
              "        vertical-align: middle;\n",
              "    }\n",
              "\n",
              "    .dataframe tbody tr th {\n",
              "        vertical-align: top;\n",
              "    }\n",
              "\n",
              "    .dataframe thead th {\n",
              "        text-align: right;\n",
              "    }\n",
              "</style>\n",
              "<table border=\"1\" class=\"dataframe\">\n",
              "  <thead>\n",
              "    <tr style=\"text-align: right;\">\n",
              "      <th></th>\n",
              "      <th>file</th>\n",
              "      <th>label</th>\n",
              "      <th>type</th>\n",
              "    </tr>\n",
              "  </thead>\n",
              "  <tbody>\n",
              "    <tr>\n",
              "      <th>82027</th>\n",
              "      <td>Distressed_V-Neck_Tee/img_00000007.jpg</td>\n",
              "      <td>Tee</td>\n",
              "      <td>train</td>\n",
              "    </tr>\n",
              "    <tr>\n",
              "      <th>106638</th>\n",
              "      <td>I_Love_Tacos_Muscle_Tee/img_00000023.jpg</td>\n",
              "      <td>Tee</td>\n",
              "      <td>train</td>\n",
              "    </tr>\n",
              "    <tr>\n",
              "      <th>64094</th>\n",
              "      <td>Chiffon_&amp;_Knit_Tee/img_00000001.jpg</td>\n",
              "      <td>Tee</td>\n",
              "      <td>val</td>\n",
              "    </tr>\n",
              "    <tr>\n",
              "      <th>31792</th>\n",
              "      <td>Ruffled_Rose_Blouse/img_00000057.jpg</td>\n",
              "      <td>Blouse</td>\n",
              "      <td>train</td>\n",
              "    </tr>\n",
              "    <tr>\n",
              "      <th>16251</th>\n",
              "      <td>Dotted_Bow_Blouse/img_00000124.jpg</td>\n",
              "      <td>Blouse</td>\n",
              "      <td>train</td>\n",
              "    </tr>\n",
              "    <tr>\n",
              "      <th>13696</th>\n",
              "      <td>Crepe_Zippered_Blouse/img_00000023.jpg</td>\n",
              "      <td>Blouse</td>\n",
              "      <td>val</td>\n",
              "    </tr>\n",
              "    <tr>\n",
              "      <th>133769</th>\n",
              "      <td>Boxy_Chiffon_Top/img_00000015.jpg</td>\n",
              "      <td>Top</td>\n",
              "      <td>train</td>\n",
              "    </tr>\n",
              "    <tr>\n",
              "      <th>89901</th>\n",
              "      <td>Asymmetric_Batwing_Top/img_00000043.jpg</td>\n",
              "      <td>Top</td>\n",
              "      <td>train</td>\n",
              "    </tr>\n",
              "    <tr>\n",
              "      <th>50250</th>\n",
              "      <td>Burnout_Geo_Pattern_Top/img_00000050.jpg</td>\n",
              "      <td>Top</td>\n",
              "      <td>val</td>\n",
              "    </tr>\n",
              "  </tbody>\n",
              "</table>\n",
              "</div>"
            ],
            "text/plain": [
              "                                            file   label   type\n",
              "82027     Distressed_V-Neck_Tee/img_00000007.jpg     Tee  train\n",
              "106638  I_Love_Tacos_Muscle_Tee/img_00000023.jpg     Tee  train\n",
              "64094        Chiffon_&_Knit_Tee/img_00000001.jpg     Tee    val\n",
              "31792       Ruffled_Rose_Blouse/img_00000057.jpg  Blouse  train\n",
              "16251         Dotted_Bow_Blouse/img_00000124.jpg  Blouse  train\n",
              "13696     Crepe_Zippered_Blouse/img_00000023.jpg  Blouse    val\n",
              "133769         Boxy_Chiffon_Top/img_00000015.jpg     Top  train\n",
              "89901    Asymmetric_Batwing_Top/img_00000043.jpg     Top  train\n",
              "50250   Burnout_Geo_Pattern_Top/img_00000050.jpg     Top    val"
            ]
          },
          "metadata": {
            "tags": []
          },
          "execution_count": 7
        }
      ]
    },
    {
      "cell_type": "code",
      "metadata": {
        "id": "w1HchEygxnYb",
        "colab_type": "code",
        "colab": {}
      },
      "source": [
        "df_pick = pick(500, 200, ['Tee', 'Blouse', 'Top'])"
      ],
      "execution_count": 0,
      "outputs": []
    },
    {
      "cell_type": "markdown",
      "metadata": {
        "id": "7t5JDRDEB-pt",
        "colab_type": "text"
      },
      "source": [
        "## DataSource"
      ]
    },
    {
      "cell_type": "code",
      "metadata": {
        "id": "tg4kGk8YGh7J",
        "colab_type": "code",
        "outputId": "e98a33af-7b9f-4137-ea06-603523f969e6",
        "colab": {
          "base_uri": "https://localhost:8080/",
          "height": 0
        }
      },
      "source": [
        "imagenet_stats = ([0.485, 0.456, 0.406], [0.229, 0.224, 0.225])\n",
        "\n",
        "class ImageLabelDataset(Dataset):\n",
        "  '''\n",
        "  a dataset provides (image, label)\n",
        "  '''\n",
        "  def __init__(self, path:str, image_files, labels, transform=None, \n",
        "               normalize = imagenet_stats):\n",
        "    self.path = path\n",
        "    self.image_files = image_files\n",
        "    self.labels = labels\n",
        "    self.transform = transform\n",
        "    if normalize:\n",
        "      self.normalizer = transforms.Normalize(normalize[0], normalize[1])\n",
        "\n",
        "    assert(len(image_files) == len(labels))\n",
        "\n",
        "  def __len__(self):\n",
        "    return len(self.labels)\n",
        "  \n",
        "  def get(self, idx):\n",
        "    file = os.path.join(self.path, self.image_files[idx])\n",
        "    \n",
        "    #image = io.imread(file)\n",
        "    #image = Image.fromarray(image)\n",
        "    image = Image.open(file)\n",
        "    label = self.labels[idx]\n",
        "\n",
        "    if self.transform:\n",
        "      image = self.transform(image)\n",
        "\n",
        "    return (image, label)\n",
        "\n",
        "  def __getitem__(self, idx):\n",
        "    image, label = self.get(idx)\n",
        "\n",
        "    image = transforms.ToTensor()(image)\n",
        "\n",
        "    if self.normalizer:\n",
        "      image = self.normalizer(image)\n",
        "\n",
        "    return (image, label)\n",
        "\n",
        "##############################\n",
        "image_ds = ImageLabelDataset('data/data/picked', ['New_York_City_Pocket_Tee/img_00000012.jpg'], ['Tee'], transform =  transforms.Resize(224))\n",
        "assert(len(image_ds) == 1)\n",
        "\n",
        "(image, label) = image_ds.get(0)\n",
        "print(label)\n",
        "assert(label == 'Tee')    \n",
        "\n",
        "print(image.size)\n",
        "\n",
        "display(image)"
      ],
      "execution_count": 9,
      "outputs": [
        {
          "output_type": "stream",
          "text": [
            "Tee\n",
            "(224, 224)\n"
          ],
          "name": "stdout"
        },
        {
          "output_type": "display_data",
          "data": {
            "image/png": "[encoded data removed]",
            "text/plain": [
              "<PIL.Image.Image image mode=RGB size=224x224 at 0x7FE28F1C9B38>"
            ]
          },
          "metadata": {
            "tags": []
          }
        }
      ]
    },
    {
      "cell_type": "code",
      "metadata": {
        "id": "eFP0iVWwCDtQ",
        "colab_type": "code",
        "outputId": "69566300-6702-4dce-d2b2-ae378c19bab6",
        "colab": {
          "base_uri": "https://localhost:8080/",
          "height": 0
        }
      },
      "source": [
        "class DataSource():\n",
        "  '''\n",
        "  train_dl\n",
        "  val_dl\n",
        "  train_ds\n",
        "  val_dl\n",
        "  '''\n",
        "  def __init__(self, path:str, df:pd.DataFrame, bs:int, transforms=None, \n",
        "               num_workers=0, normalize = imagenet_stats):\n",
        "      '''\n",
        "      path : path of images\n",
        "      df : DataFrame with file, label, type\n",
        "      '''\n",
        "      # convert labels to number\n",
        "      labels = np.sort(df['label'].unique())\n",
        "      self.class_names = np.sort(df['label'].unique())\n",
        "      self.class_indexes = {c:i for i, c in enumerate(self.class_names)}\n",
        "      self.c = len(self.class_names)\n",
        "      self.labels = [self.class_indexes[c] for c in labels]\n",
        "\n",
        "      # transforms\n",
        "      if not is_listy(transforms):\n",
        "        train_tfm, val_tfm = transforms, transforms\n",
        "      elif len(transforms) == 0:\n",
        "        train_tfm, val_tfm = None, None\n",
        "      elif len(transforms) == 1:\n",
        "        train_tfm, val_tfm = transforms[0], transforms[0]\n",
        "      else:\n",
        "        train_tfm, val_tfm = transforms[0], transforms[1]\n",
        "\n",
        "      # dataset\n",
        "      is_train = df.type == 'train'\n",
        "      self.train_ds = ImageLabelDataset(path, df[is_train]['file'].values, \n",
        "                                           [self.class_indexes[c] for c in df[is_train]['label'].values], \n",
        "                                           train_tfm, \n",
        "                                           normalize)\n",
        "      self.val_ds = ImageLabelDataset(path, df[~is_train]['file'].values, \n",
        "                                          [self.class_indexes[c] for c in df[~is_train]['label'].values], \n",
        "                                          val_tfm,\n",
        "                                          normalize\n",
        "                                       )\n",
        "\n",
        "      # dataloader\n",
        "      self.train_dl = DataLoader(self.train_ds, batch_size=bs, shuffle=True, \n",
        "                                 num_workers=num_workers)\n",
        "      \n",
        "      self.val_dl = DataLoader(self.val_ds, batch_size=bs, shuffle=False, \n",
        "                                 num_workers=num_workers)\n",
        "\n",
        "############################################################################\n",
        "df2 = df.head(3).copy()\n",
        "df2.columns=['file', 'type', 'label']\n",
        "df2['type'] = ['train', 'val', 'train']\n",
        "df2['label'] = ['a', 'b', 'c']\n",
        "print(df2.head())\n",
        "\n",
        "ds = DataSource('data/data/picked', df2, 1)\n",
        "assert(len(ds.train_ds) == 2)\n",
        "assert(len(ds.val_ds) == 1)\n",
        "assert(ds.c == 3)\n",
        "assert(ds.val_ds[0][1] == 1)\n",
        "assert(ds.class_names[ds.val_ds[0][1]] == 'b')\n",
        "\n",
        "for (image, label) in ds.val_dl:\n",
        "  print(type(image))\n",
        "  print(image.shape)\n",
        "  print(label)\n",
        "  print(image[0, 0, 0, :20])\n",
        "  break"
      ],
      "execution_count": 10,
      "outputs": [
        {
          "output_type": "stream",
          "text": [
            "                                                 file   type label\n",
            "23063  Kimono-Sleeved_Paisley_Blouse/img_00000121.jpg  train     a\n",
            "30780     Boxy_Chiffon_Pocket_Blouse/img_00000056.jpg    val     b\n",
            "13998    Crochet_Lace-Paneled_Blouse/img_00000035.jpg  train     c\n",
            "<class 'torch.Tensor'>\n",
            "torch.Size([1, 3, 300, 207])\n",
            "tensor([1])\n",
            "tensor([2.1633, 2.1633, 2.1462, 2.1462, 2.1290, 2.1290, 2.1119, 2.1119, 2.1290,\n",
            "        2.1290, 2.1290, 2.1119, 2.1119, 2.1119, 2.0948, 2.0948, 2.1119, 2.1119,\n",
            "        2.1119, 2.1119])\n"
          ],
          "name": "stdout"
        }
      ]
    },
    {
      "cell_type": "markdown",
      "metadata": {
        "id": "5FCO9CMcGqDv",
        "colab_type": "text"
      },
      "source": [
        "## Transformation"
      ]
    },
    {
      "cell_type": "code",
      "metadata": {
        "id": "drWqmHWYH5gt",
        "colab_type": "code",
        "colab": {}
      },
      "source": [
        "def padToSquare(img, **kwargs):\n",
        "    \"\"\"Pad the input PIL Image to a square\n",
        "\n",
        "    Args:\n",
        "        img (PIL Image): Image to be resized.\n",
        "\n",
        "    Returns:\n",
        "        PIL Image: Padding image.\n",
        "    \"\"\"\n",
        "    if not TF._is_pil_image(img):\n",
        "        raise TypeError('img should be PIL Image. Got {}'.format(type(img)))\n",
        "    \n",
        "    w, h = img.size\n",
        "    diff = w - h\n",
        "\n",
        "    if diff == 0:\n",
        "      return img\n",
        "    else:\n",
        "      if diff < 0:\n",
        "        padding = (-diff // 2, 0, diff // 2 - diff, 0)\n",
        "      else:\n",
        "        padding = (0, diff // 2, 0, diff - diff//2)\n",
        "\n",
        "      return TF.pad(img, padding, **kwargs)"
      ],
      "execution_count": 0,
      "outputs": []
    },
    {
      "cell_type": "code",
      "metadata": {
        "id": "2V5GjkSKICV5",
        "colab_type": "code",
        "colab": {}
      },
      "source": [
        "class PadToSquare():\n",
        "    \"\"\" Pad the input PIL Image to a square\n",
        "    \"\"\"\n",
        "    def __init__(self, **kwargs):\n",
        "      self.params = kwargs\n",
        "\n",
        "    def __call__(self, x):\n",
        "      return padToSquare(x, **self.params)\n"
      ],
      "execution_count": 0,
      "outputs": []
    },
    {
      "cell_type": "code",
      "metadata": {
        "id": "i9c7Gg2XU8m-",
        "colab_type": "code",
        "colab": {}
      },
      "source": [
        "def tensor2img(tensor, stats):\n",
        "  mean, std = stats\n",
        "  img = tensor.numpy().transpose([1, 2, 0])\n",
        "  img = img * std + mean\n",
        "  img = np.minimum(img, 1)\n",
        "  img = np.maximum(img, 0)\n",
        "  return img\n"
      ],
      "execution_count": 0,
      "outputs": []
    },
    {
      "cell_type": "code",
      "metadata": {
        "id": "7ImJXEFeHcFE",
        "colab_type": "code",
        "outputId": "3ff8b1f0-1105-4acd-df7a-3c50fc0cf49d",
        "colab": {
          "base_uri": "https://localhost:8080/",
          "height": 0
        }
      },
      "source": [
        "df_pick = pick(200, 50, ['Tee', 'Blouse', 'Top'])\n",
        "tfms = [\n",
        "  transforms.Compose([\n",
        "    PadToSquare(padding_mode='reflect'),\n",
        "    transforms.Resize(256),\n",
        "    transforms.RandomCrop(224),\n",
        "  ]),\n",
        "  transforms.Compose([\n",
        "    PadToSquare(padding_mode='reflect'),\n",
        "    transforms.Resize(256),\n",
        "    transforms.CenterCrop(224),\n",
        "  ]),\n",
        "]\n",
        "\n",
        "ds = DataSource('data/data/picked', df_pick, 4, num_workers=4, transforms=tfms)\n",
        "\n",
        "images, labels = next(iter(ds.train_dl))\n",
        "\n",
        "images.shape\n",
        "\n",
        "img = tensor2img(images[0], imagenet_stats)\n",
        "plt.imshow(img)\n",
        "plt.show()"
      ],
      "execution_count": 14,
      "outputs": [
        {
          "output_type": "display_data",
          "data": {
            "image/png": "[encoded data removed]",
            "text/plain": [
              "<Figure size 432x288 with 1 Axes>"
            ]
          },
          "metadata": {
            "tags": []
          }
        }
      ]
    },
    {
      "cell_type": "markdown",
      "metadata": {
        "id": "OjCkpIsIV2rU",
        "colab_type": "text"
      },
      "source": [
        "## train"
      ]
    },
    {
      "cell_type": "code",
      "metadata": {
        "id": "GleY0VwzWIJW",
        "colab_type": "code",
        "colab": {}
      },
      "source": [
        "class Learn():\n",
        "\n",
        "  def __init__(self, ds:DataSource, net:nn.Module, crit, cbs = None, dev = None):\n",
        "    self.ds = ds\n",
        "    self.net = net\n",
        "    self.crit = crit\n",
        "    self.cbs = listify(cbs)\n",
        "    self.dev = dev if dev \\\n",
        "      else torch.device('cuda:0' if torch.cuda.is_available() else 'cpu')\n",
        "    self.net.to(self.dev)\n",
        "\n",
        "  def train(self, n_epoch, opt_func):\n",
        "    cbs = list(self.cbs)\n",
        "    opt = opt_func(self.net.parameters())\n",
        "    return self.Train(self, n_epoch, opt, cbs)()\n",
        "\n",
        "  class Train():\n",
        "    def __init__(self, learn, n_epoch, opt, cbs):\n",
        "      self.ds = learn.ds\n",
        "      self.net = learn.net\n",
        "      self.crit = learn.crit\n",
        "      self.dev = learn.dev\n",
        "      self.n_epoch = n_epoch\n",
        "      self.opt = opt\n",
        "      self.cbs = cbs\n",
        "\n",
        "      if not self.recorder():\n",
        "        self.cbs.insert(0, Recorder())\n",
        "\n",
        "\n",
        "    def __call__(self):\n",
        "      self.is_terminate = False\n",
        "\n",
        "      self.train_begin()\n",
        "\n",
        "      for epoch in range(self.n_epoch):\n",
        "        self.epoch = epoch\n",
        "        self.epoch_begin()\n",
        "\n",
        "        self.train_phrase(True)\n",
        "\n",
        "        if (not self.is_terminate) and self.need_val():\n",
        "          self.train_phrase(False)\n",
        "\n",
        "        self.epoch_end()\n",
        "        if self.is_terminate: break\n",
        "\n",
        "      self.train_end()\n",
        "      return self.recorder().history\n",
        "\n",
        "    def recorder(self):\n",
        "      for cb in self.cbs:\n",
        "        if isinstance(cb, Recorder):\n",
        "          return cb\n",
        "      return None\n",
        "\n",
        "    def train_phrase(self, is_train):\n",
        "      self.is_train = is_train\n",
        "      self.phrase_begin()\n",
        "\n",
        "      self.net.train(is_train)\n",
        "\n",
        "      for X, y in (self.ds.train_dl if is_train else self.ds.val_dl):\n",
        "        self.train_batch(X, y)\n",
        "\n",
        "        if self.is_terminate: break\n",
        "\n",
        "      self.phrase_end()\n",
        "\n",
        "    def train_batch(self, X, y):\n",
        "      self.batch_begin()\n",
        "\n",
        "      X, y = X.to(self.dev), y.to(self.dev)\n",
        "\n",
        "      self.opt.zero_grad()\n",
        "      with torch.set_grad_enabled(self.is_train):\n",
        "        a = self.net.forward(X)\n",
        "        loss = self.crit(a, y)\n",
        "        if self.is_train:\n",
        "          loss.backward()\n",
        "          self.opt.step()\n",
        "\n",
        "      cnt = y.size(0)\n",
        "      loss = loss.item()\n",
        "      y_hat = torch.argmax(a, 1)\n",
        "      # correct = torch.sum(y_hat == y).item()\n",
        "\n",
        "      self.batch_end(cnt, loss, y_hat, y)\n",
        "\n",
        "    def train_begin(self):\n",
        "      for cb in self.cbs:\n",
        "        cb.on_train_begin(self)\n",
        "    \n",
        "    def train_end(self):\n",
        "      for cb in self.cbs:\n",
        "        cb.on_train_end(self)\n",
        "\n",
        "    def epoch_begin(self):\n",
        "      for cb in self.cbs:\n",
        "        cb.on_epoch_begin(self)\n",
        "    \n",
        "    def epoch_end(self):\n",
        "      for cb in self.cbs:\n",
        "        cb.on_epoch_end(self)\n",
        "\n",
        "    def phrase_begin(self):\n",
        "      for cb in self.cbs:\n",
        "        cb.on_phrase_begin(self)\n",
        "    \n",
        "    def phrase_end(self):\n",
        "      for cb in self.cbs:\n",
        "        cb.on_phrase_end(self)\n",
        "\n",
        "    def batch_begin(self):\n",
        "      for cb in self.cbs:\n",
        "        cb.on_batch_begin(self)\n",
        "    \n",
        "    def batch_end(self, cnt, loss, y_hat, y):\n",
        "      for cb in self.cbs:\n",
        "        cb.on_batch_end(self, cnt, loss, y_hat, y)\n",
        "\n",
        "    def need_val(self):\n",
        "      is_needed = True\n",
        "      for cb in self.cbs:\n",
        "        is_needed = is_needed and cb.need_val(self)\n",
        "      return is_needed\n",
        "\n",
        "class Callback():\n",
        "  def on_train_begin(self, train: Learn.Train):\n",
        "    pass\n",
        "  \n",
        "  def on_train_end(self, train: Learn.Train):\n",
        "    pass\n",
        "\n",
        "  def on_epoch_begin(self, train: Learn.Train):\n",
        "    pass\n",
        "\n",
        "  def on_epoch_end(self, train: Learn.Train):\n",
        "    pass\n",
        "\n",
        "  def on_batch_begin(self, train: Learn.Train):\n",
        "    pass\n",
        "\n",
        "  def on_batch_end(self, train: Learn.Train, cnt, loss, y_hat, y):\n",
        "    pass\n",
        "\n",
        "  def on_phrase_begin(self, train: Learn.Train):\n",
        "    pass\n",
        "\n",
        "  def on_phrase_end(self, train: Learn.Train):\n",
        "    pass\n",
        "\n",
        "  def need_val(self, train: Learn.Train):\n",
        "    return True"
      ],
      "execution_count": 0,
      "outputs": []
    },
    {
      "cell_type": "code",
      "metadata": {
        "id": "3wfb7uf0eqiS",
        "colab_type": "code",
        "colab": {}
      },
      "source": [
        "class History():\n",
        "  def __init__(self):\n",
        "    self.epochs = []\n",
        "    self.trains = []\n",
        "    self.vals = []\n",
        "    self.batches = []\n",
        "    # self.val_batches = []\n",
        "\n",
        "  def __repr__(self)->str:\n",
        "    return f'The train took {round(self.train_end - self.train_start, 1)}\\n' \\\n",
        "      f'Epochs: {self.epochs}\\n' \\\n",
        "      f'Trains: {self.trains}\\n' \\\n",
        "      f'Validations: {self.vals}\\n' \\\n",
        "      f'Batches: {self.batches}\\n' # \\\n",
        "      # f'Val batches: {self.val_batches}'\n",
        "\n",
        "  class Epoch():\n",
        "    def __init__(self):\n",
        "      self.start = time.time()\n",
        "      self.end = math.nan\n",
        "\n",
        "    def __repr__(self)->str:\n",
        "      return f'{round(self.end - self.start, 1)}'\n",
        "  \n",
        "  class Phrase():\n",
        "    def __init__(self):\n",
        "      self.start = time.time()\n",
        "      self.end = math.nan\n",
        "      self._total_cnt = 0\n",
        "      self._total_loss = 0.\n",
        "      self._total_correct = 0.\n",
        "      self.loss = math.nan\n",
        "      self.accuracy = math.nan\n",
        "\n",
        "    def __repr__(self)->str:\n",
        "      return f'\\n{round(self.end - self.start, 1)}, {self.loss}, {self.accuracy}'\n",
        "\n",
        "  class Batch():\n",
        "    def __init__(self):\n",
        "      self.start = time.time()\n",
        "      self.end = math.nan\n",
        "      self.loss = math.nan\n",
        "      self.accuracy = math.nan\n",
        "\n",
        "    def __repr__(self)->str:\n",
        "      return f'{{{round(self.end - self.start, 1)}, {round(self.loss, 3)}, {round(self.accuracy, 3)},' \\\n",
        "        f'{round(self.lr, 3)}, {round(self.mom,3)}}}\\n'\n",
        "\n",
        "\n",
        "class Recorder(Callback):\n",
        "  def __init__(self):\n",
        "    self.history = History()\n",
        "\n",
        "  def on_train_begin(self, train: Learn.Train):\n",
        "    his = self.history\n",
        "    his.train_start = time.time()\n",
        "    his.train_end = math.nan\n",
        "    his.n_epoch = train.n_epoch\n",
        "  \n",
        "  def on_train_end(self, train: Learn.Train):\n",
        "    his = self.history\n",
        "    his.train_end = time.time()\n",
        "\n",
        "  def on_epoch_begin(self, train: Learn.Train):\n",
        "    his = self.history\n",
        "    his.epochs.append(History.Epoch())\n",
        "\n",
        "  def on_epoch_end(self, train: Learn.Train):\n",
        "    his = self.history\n",
        "    his.epochs[-1].end = time.time()\n",
        "\n",
        "  def on_phrase_begin(self, train: Learn.Train):\n",
        "    his = self.history\n",
        "    phrs = his.trains if train.is_train else his.vals\n",
        "    phrs.append(History.Phrase())\n",
        "\n",
        "  def on_phrase_end(self, train: Learn.Train):\n",
        "    his = self.history\n",
        "    phrs = his.trains if train.is_train else his.vals\n",
        "    phrs[-1].end = time.time()\n",
        "\n",
        "  def on_batch_begin(self, train: Learn.Train):\n",
        "    if not train.is_train:\n",
        "      return\n",
        "\n",
        "    his = self.history\n",
        "    batch = History.Batch()\n",
        "    pg = train.opt.param_groups[0]\n",
        "    batch.lr = pg['lr']\n",
        "    if 'momentum' in pg.keys():\n",
        "      batch.mom = pg['momentum']\n",
        "    else:\n",
        "      batch.mom = pg['betas'][0]\n",
        "    \n",
        "    if train.is_train:\n",
        "      his.batches.append(batch)\n",
        "    else:\n",
        "      his.val_batches.append(batch)\n",
        "\n",
        "  def on_batch_end(self, train: Learn.Train, cnt, loss, y_hat, y):\n",
        "    if not train.is_train:\n",
        "      return\n",
        "\n",
        "    his = self.history\n",
        "    phr = his.trains[-1] if train.is_train else his.vals[-1]\n",
        "\n",
        "    correct = torch.sum(y_hat==y).item()\n",
        "\n",
        "    phr._total_cnt += cnt\n",
        "    phr._total_loss += loss\n",
        "    phr._total_correct += correct\n",
        "    phr.loss = phr._total_loss / phr._total_cnt\n",
        "    phr.accuracy = phr._total_correct / phr._total_cnt\n",
        "\n",
        "    batch = his.batches[-1] if train.is_train else his.val_batches[-1]\n",
        "    batch.end = time.time()\n",
        "    batch.loss = loss\n",
        "    batch.accuracy = correct / cnt\n",
        "\n",
        "###################################################\n",
        "df_pick = pick(128, 64, ['Tee', 'Blouse', 'Top'])\n",
        "tfmt1 = transforms.Compose([\n",
        "         PadToSquare(padding_mode='reflect'),\n",
        "         transforms.Resize(256),\n",
        "         transforms.RandomCrop(224)\n",
        "]);\n",
        "tfmt2 = transforms.Compose([\n",
        "         PadToSquare(padding_mode='reflect'),\n",
        "         transforms.Resize(256),\n",
        "         transforms.CenterCrop(224)\n",
        "]);\n",
        "\n",
        "tfmts = [ tfmt1, tfmt2 ]\n",
        "ds = DataSource('data/data/picked', df_pick, 32, tfmts, num_workers=4)\n",
        "\n",
        "net = models.resnet18(pretrained=True, progress=False)\n",
        "net.fc = nn.Linear(net.fc.in_features, ds.c)\n",
        "\n",
        "criterion = nn.CrossEntropyLoss()\n",
        "\n",
        "opt_func = partial(optim.SGD, lr=0.01, momentum=0.95)\n",
        "\n",
        "#opt_func = partial(optim.Adam, lr=0.001 )\n",
        "# recorder = Recorder()\n",
        "\n",
        "learn = Learn(ds, net, criterion)\n",
        "history = learn.train(5, opt_func)\n",
        "# history"
      ],
      "execution_count": 0,
      "outputs": []
    },
    {
      "cell_type": "code",
      "metadata": {
        "id": "6qqFN4L1VdiP",
        "colab_type": "code",
        "outputId": "b680e2bd-de48-4d15-ee0c-7cfbb1a2a1e9",
        "colab": {
          "base_uri": "https://localhost:8080/",
          "height": 363
        }
      },
      "source": [
        "class OneCycleCallback(Callback):\n",
        "  def __init__(self, **kwargs):\n",
        "    self.kwargs = kwargs\n",
        "\n",
        "  def on_train_begin(self, train:Learn.Train):\n",
        "    self.sch = optim.lr_scheduler.OneCycleLR(train.opt, **self.kwargs)\n",
        "  \n",
        "  def on_batch_end(self, train:Learn.Train, cnt, loss, y_hat, y):\n",
        "    if train.is_train:\n",
        "      self.sch.step()\n",
        "\n",
        "################################################################\n",
        "net = models.resnet18(pretrained=True, progress=False)\n",
        "net.fc = nn.Linear(net.fc.in_features, ds.c)\n",
        "\n",
        "criterion = nn.CrossEntropyLoss()\n",
        "\n",
        "opt_func = partial(optim.SGD, lr=0.01, momentum=0.95)\n",
        "\n",
        "#opt_func = partial(optim.Adam, lr=0.01 )\n",
        "\n",
        "sch = OneCycleCallback(max_lr=0.01, total_steps=20)\n",
        "learn = Learn(ds, net, criterion, cbs=sch)\n",
        "history = learn.train(1, opt_func)\n",
        "# train.history\n",
        "history"
      ],
      "execution_count": 21,
      "outputs": [
        {
          "output_type": "execute_result",
          "data": {
            "text/plain": [
              "The train took 2.7\n",
              "Epochs: [2.7]\n",
              "Trains: [\n",
              "1.7, 0.03858746122568846, 0.34375]\n",
              "Validations: [\n",
              "0.9, nan, nan]\n",
              "Batches: [{0.1, 1.304, 0.281,0.0, 0.95}\n",
              ", {0.1, 1.301, 0.281,0.001, 0.94}\n",
              ", {0.1, 1.228, 0.188,0.004, 0.915}\n",
              ", {0.1, 1.241, 0.219,0.007, 0.885}\n",
              ", {0.1, 1.276, 0.312,0.009, 0.86}\n",
              ", {0.1, 1.125, 0.406,0.01, 0.85}\n",
              ", {0.1, 1.218, 0.375,0.01, 0.851}\n",
              ", {0.1, 1.17, 0.375,0.01, 0.855}\n",
              ", {0.1, 1.314, 0.438,0.009, 0.861}\n",
              ", {0.1, 1.426, 0.406,0.008, 0.869}\n",
              ", {0.1, 1.12, 0.375,0.007, 0.878}\n",
              ", {0.1, 1.096, 0.469,0.006, 0.889}\n",
              "]"
            ]
          },
          "metadata": {
            "tags": []
          },
          "execution_count": 21
        }
      ]
    },
    {
      "cell_type": "code",
      "metadata": {
        "id": "9_3HZE8axULp",
        "colab_type": "code",
        "outputId": "0870e982-6170-4156-8502-aa91690a6fe2",
        "colab": {
          "base_uri": "https://localhost:8080/",
          "height": 363
        }
      },
      "source": [
        "################################################################\n",
        "net = models.resnet18(pretrained=True, progress=False)\n",
        "net.fc = nn.Linear(net.fc.in_features, ds.c)\n",
        "\n",
        "criterion = nn.CrossEntropyLoss()\n",
        "\n",
        "#opt_func = partial(optim.SGD, lr=0.01, momentum=0.95)\n",
        "\n",
        "opt_func = partial(optim.Adam, lr=0.01 )\n",
        "\n",
        "sch = OneCycleCallback(max_lr=0.01, total_steps=60)\n",
        "learn = Learn(ds, net, criterion, cbs=sch)\n",
        "history = learn.train(1, opt_func)\n",
        "# train.history\n",
        "history"
      ],
      "execution_count": 23,
      "outputs": [
        {
          "output_type": "execute_result",
          "data": {
            "text/plain": [
              "The train took 2.7\n",
              "Epochs: [2.7]\n",
              "Trains: [\n",
              "1.8, 0.049892484365652, 0.3697916666666667]\n",
              "Validations: [\n",
              "0.9, nan, nan]\n",
              "Batches: [{0.1, 1.261, 0.438,0.0, 0.95}\n",
              ", {0.1, 1.369, 0.219,0.0, 0.949}\n",
              ", {0.1, 1.008, 0.469,0.001, 0.947}\n",
              ", {0.1, 0.995, 0.469,0.001, 0.943}\n",
              ", {0.1, 1.461, 0.375,0.002, 0.937}\n",
              ", {0.1, 1.665, 0.438,0.002, 0.93}\n",
              ", {0.1, 1.353, 0.469,0.003, 0.922}\n",
              ", {0.1, 2.063, 0.562,0.004, 0.914}\n",
              ", {0.1, 1.601, 0.25,0.005, 0.905}\n",
              ", {0.1, 1.921, 0.156,0.006, 0.895}\n",
              ", {0.1, 2.913, 0.281,0.007, 0.886}\n",
              ", {0.1, 1.547, 0.312,0.007, 0.878}\n",
              "]"
            ]
          },
          "metadata": {
            "tags": []
          },
          "execution_count": 23
        }
      ]
    },
    {
      "cell_type": "markdown",
      "metadata": {
        "id": "VZl3C3ofpMxQ",
        "colab_type": "text"
      },
      "source": [
        "## Plotter"
      ]
    },
    {
      "cell_type": "code",
      "metadata": {
        "id": "oEWVbhSirG0-",
        "colab_type": "code",
        "colab": {
          "base_uri": "https://localhost:8080/",
          "height": 279
        },
        "outputId": "97316e29-c47b-4543-f5a1-5dea48ea795c"
      },
      "source": [
        "class Plotter():\n",
        "  def __init__(self, history:History):\n",
        "    self.history = history\n",
        "\n",
        "  def _split_list(self, vals:Collection[float], skip_start:int, skip_end:int):\n",
        "      return vals[skip_start:-skip_end] if skip_end > 0 else vals[skip_start:]\n",
        "\n",
        "  def plot_losses(self, skip_start:int=0, skip_end:int=0, return_fig:bool=False)->Optional[plt.Figure]:\n",
        "      \"Plot training and validation losses.\"\n",
        "      fig, ax = plt.subplots(1,1)\n",
        "      losses = [batch.loss for batch in self._split_list(self.history.batches, skip_start, skip_end)]\n",
        "      iterations = self._split_list(range_of(self.history.batches), skip_start, skip_end)\n",
        "      ax.plot(iterations, losses, label='Train')\n",
        "      # val_iter = self._split_list_val(np.cumsum(self.nb_batches), skip_start, skip_end)\n",
        "      # val_losses = self._split_list_val(self.val_losses, skip_start, skip_end)\n",
        "      # ax.plot(val_iter, val_losses, label='Validation')\n",
        "      ax.set_ylabel('Loss')\n",
        "      ax.set_xlabel('Batches processed')\n",
        "      ax.legend()\n",
        "      #if ifnone(return_fig, defaults.return_fig): return fig\n",
        "      if return_fig: return fig\n",
        "      # if not IN_NOTEBOOK: plot_sixel(fig)\n",
        "  \n",
        "###########################################################################\n",
        "plotter = Plotter(history)\n",
        "plotter.plot_losses()"
      ],
      "execution_count": 34,
      "outputs": [
        {
          "output_type": "display_data",
          "data": {
            "image/png": "[encoded data removed]",
            "text/plain": [
              "<Figure size 432x288 with 1 Axes>"
            ]
          },
          "metadata": {
            "tags": []
          }
        }
      ]
    },
    {
      "cell_type": "markdown",
      "metadata": {
        "id": "Y-4AAJKYrXG3",
        "colab_type": "text"
      },
      "source": [
        "## A"
      ]
    },
    {
      "cell_type": "code",
      "metadata": {
        "id": "avYo_GXWrWYS",
        "colab_type": "code",
        "colab": {}
      },
      "source": [
        ""
      ],
      "execution_count": 0,
      "outputs": []
    }
  ]
}